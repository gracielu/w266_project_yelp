{
 "cells": [
  {
   "cell_type": "code",
   "execution_count": 1,
   "metadata": {
    "colab": {},
    "colab_type": "code",
    "id": "2XZkZiHHv-iI"
   },
   "outputs": [],
   "source": [
    "import numpy as np\n",
    "import pandas as pd\n",
    "import json"
   ]
  },
  {
   "cell_type": "code",
   "execution_count": 2,
   "metadata": {
    "colab": {},
    "colab_type": "code",
    "id": "XBFfpek3v-iY"
   },
   "outputs": [],
   "source": [
    "import tensorflow as tf\n",
    "from tensorflow import keras\n",
    "\n",
    "from tensorflow.keras.models import Sequential\n",
    "from tensorflow.keras import layers\n",
    "from tensorflow.keras.layers import Dense\n",
    "from tensorflow.keras.layers import LSTM\n",
    "from tensorflow.keras.layers import Embedding\n",
    "from tensorflow.keras.preprocessing import sequence\n",
    "from tensorflow.keras.preprocessing.text import Tokenizer\n",
    "from tensorflow.keras.utils import to_categorical\n",
    "# fix random seed for reproducibility\n",
    "np.random.seed(7)"
   ]
  },
  {
   "cell_type": "code",
   "execution_count": 6,
   "metadata": {
    "colab": {},
    "colab_type": "code",
    "id": "hYV5wKCov-im"
   },
   "outputs": [],
   "source": [
    "yelp_reviews=pd.read_csv(\"/contents/My Drive/review_sample.csv\",usecols=[\"useful\",\"text\", \"cuisine\"])"
   ]
  },
  {
   "cell_type": "code",
   "execution_count": 7,
   "metadata": {
    "colab": {
     "base_uri": "https://localhost:8080/",
     "height": 359
    },
    "colab_type": "code",
    "id": "Ety2fXOXv-i1",
    "outputId": "3635b925-0c7e-40de-eb2e-a3c70c7f49ee"
   },
   "outputs": [
    {
     "data": {
      "text/html": [
       "<div>\n",
       "<style scoped>\n",
       "    .dataframe tbody tr th:only-of-type {\n",
       "        vertical-align: middle;\n",
       "    }\n",
       "\n",
       "    .dataframe tbody tr th {\n",
       "        vertical-align: top;\n",
       "    }\n",
       "\n",
       "    .dataframe thead th {\n",
       "        text-align: right;\n",
       "    }\n",
       "</style>\n",
       "<table border=\"1\" class=\"dataframe\">\n",
       "  <thead>\n",
       "    <tr style=\"text-align: right;\">\n",
       "      <th></th>\n",
       "      <th>cuisine</th>\n",
       "      <th>useful</th>\n",
       "      <th>text</th>\n",
       "    </tr>\n",
       "  </thead>\n",
       "  <tbody>\n",
       "    <tr>\n",
       "      <th>0</th>\n",
       "      <td>Asian</td>\n",
       "      <td>0</td>\n",
       "      <td>We've tried a few different Chinese delivery p...</td>\n",
       "    </tr>\n",
       "    <tr>\n",
       "      <th>1</th>\n",
       "      <td>Asian</td>\n",
       "      <td>6</td>\n",
       "      <td>My expectations of chinese delivery places in ...</td>\n",
       "    </tr>\n",
       "    <tr>\n",
       "      <th>2</th>\n",
       "      <td>Asian</td>\n",
       "      <td>2</td>\n",
       "      <td>This place only gets one star because the syst...</td>\n",
       "    </tr>\n",
       "    <tr>\n",
       "      <th>3</th>\n",
       "      <td>Asian</td>\n",
       "      <td>0</td>\n",
       "      <td>This place is exactly why I rarely eat Chinese...</td>\n",
       "    </tr>\n",
       "    <tr>\n",
       "      <th>4</th>\n",
       "      <td>Asian</td>\n",
       "      <td>0</td>\n",
       "      <td>I could only give this place a 3 out of 5.  Th...</td>\n",
       "    </tr>\n",
       "    <tr>\n",
       "      <th>5</th>\n",
       "      <td>Asian</td>\n",
       "      <td>3</td>\n",
       "      <td>This hole in the wall is more than meets the e...</td>\n",
       "    </tr>\n",
       "    <tr>\n",
       "      <th>6</th>\n",
       "      <td>Asian</td>\n",
       "      <td>2</td>\n",
       "      <td>Ok, 4 stars because of the food alone on this ...</td>\n",
       "    </tr>\n",
       "    <tr>\n",
       "      <th>7</th>\n",
       "      <td>Asian</td>\n",
       "      <td>1</td>\n",
       "      <td>Possibly the worst chinese I've ever had. Very...</td>\n",
       "    </tr>\n",
       "    <tr>\n",
       "      <th>8</th>\n",
       "      <td>Asian</td>\n",
       "      <td>0</td>\n",
       "      <td>For Chinese take out food, this is my place. O...</td>\n",
       "    </tr>\n",
       "    <tr>\n",
       "      <th>9</th>\n",
       "      <td>Asian</td>\n",
       "      <td>0</td>\n",
       "      <td>Really REALLY bad food! This is NOT a good chi...</td>\n",
       "    </tr>\n",
       "  </tbody>\n",
       "</table>\n",
       "</div>"
      ],
      "text/plain": [
       "  cuisine  useful                                               text\n",
       "0   Asian       0  We've tried a few different Chinese delivery p...\n",
       "1   Asian       6  My expectations of chinese delivery places in ...\n",
       "2   Asian       2  This place only gets one star because the syst...\n",
       "3   Asian       0  This place is exactly why I rarely eat Chinese...\n",
       "4   Asian       0  I could only give this place a 3 out of 5.  Th...\n",
       "5   Asian       3  This hole in the wall is more than meets the e...\n",
       "6   Asian       2  Ok, 4 stars because of the food alone on this ...\n",
       "7   Asian       1  Possibly the worst chinese I've ever had. Very...\n",
       "8   Asian       0  For Chinese take out food, this is my place. O...\n",
       "9   Asian       0  Really REALLY bad food! This is NOT a good chi..."
      ]
     },
     "execution_count": 7,
     "metadata": {
      "tags": []
     },
     "output_type": "execute_result"
    }
   ],
   "source": [
    "yelp_reviews.head(10)"
   ]
  },
  {
   "cell_type": "code",
   "execution_count": 8,
   "metadata": {
    "colab": {
     "base_uri": "https://localhost:8080/",
     "height": 51
    },
    "colab_type": "code",
    "id": "OJ2E8sDpv-jA",
    "outputId": "7fe69ade-02a1-4e37-c56b-833185c8a7b4"
   },
   "outputs": [
    {
     "data": {
      "text/plain": [
       "Asian    203189\n",
       "Name: cuisine, dtype: int64"
      ]
     },
     "execution_count": 8,
     "metadata": {
      "tags": []
     },
     "output_type": "execute_result"
    }
   ],
   "source": [
    "yelp_reviews['cuisine'].value_counts()"
   ]
  },
  {
   "cell_type": "code",
   "execution_count": null,
   "metadata": {
    "colab": {},
    "colab_type": "code",
    "id": "t5HeFEuXv-jG"
   },
   "outputs": [],
   "source": [
    "#yelp_reviews[yelp_reviews['cuisine'] == 'American'].to_csv('/home/jia_lu/project/review_data_american.csv',index=False, header=True)"
   ]
  },
  {
   "cell_type": "code",
   "execution_count": null,
   "metadata": {
    "colab": {},
    "colab_type": "code",
    "id": "GM-QFmUOv-jK"
   },
   "outputs": [],
   "source": [
    "#yelp_reviews[yelp_reviews['cuisine'] == 'Asian'].to_csv('/home/jia_lu/project/review_data_asian.csv',index=False, header=True)"
   ]
  },
  {
   "cell_type": "code",
   "execution_count": null,
   "metadata": {
    "colab": {},
    "colab_type": "code",
    "id": "2k4iQdjEv-jN"
   },
   "outputs": [],
   "source": [
    "#yelp_reviews[yelp_reviews['cuisine'] == 'Mexican'].to_csv('/home/jia_lu/project/review_data_mexican.csv',index=False, header=True)"
   ]
  },
  {
   "cell_type": "code",
   "execution_count": 9,
   "metadata": {
    "colab": {
     "base_uri": "https://localhost:8080/",
     "height": 221
    },
    "colab_type": "code",
    "id": "qYLbxleHv-jR",
    "outputId": "37fad916-1eae-49a6-fd17-a7e411e5da58"
   },
   "outputs": [
    {
     "data": {
      "text/plain": [
       "0     115926\n",
       "1      44747\n",
       "2      19069\n",
       "3       9158\n",
       "4       4833\n",
       "       ...  \n",
       "88         1\n",
       "89         1\n",
       "90         1\n",
       "91         1\n",
       "84         1\n",
       "Name: useful, Length: 119, dtype: int64"
      ]
     },
     "execution_count": 9,
     "metadata": {
      "tags": []
     },
     "output_type": "execute_result"
    }
   ],
   "source": [
    "yelp_reviews['useful'].value_counts()"
   ]
  },
  {
   "cell_type": "code",
   "execution_count": 10,
   "metadata": {
    "colab": {
     "base_uri": "https://localhost:8080/",
     "height": 157
    },
    "colab_type": "code",
    "id": "WhPW99_Nv-jW",
    "outputId": "b053e8e1-4a70-4c8f-e975-ac3aac455ee5"
   },
   "outputs": [
    {
     "data": {
      "application/vnd.google.colaboratory.intrinsic": {
       "type": "string"
      },
      "text/plain": [
       "\"This hole in the wall is more than meets the eye.  I''ve tried my luck at nearly every chinese takeout spot in the East Valley, and I can definitively say the food at China Gourmet impressed me the most.\\n\\nPROS: Made from scratch.  Heaping portions at very reasonable prices.  Quality far exceeds expectations.  Single-handedly raises the bar for local take-out.\\n\\nCONS:  Made from scratch.  So the wait time is fairly substantial (20-25 minutes in my case). Doesn't look like much from the outside.  Very small, only three tables and no restroom. Definitely intended to be a take-out only kind of place.\\n\\nRecommendation: \\nThe teriyaki beef was incredible, and not at all what I was expecting.  Instead of chopped beef in the thick teriyaki glaze I'm accustomed to, theirs was a thinner marinade that soaked completely through the meat.  Every piece was consistently tender and loaded with flavor.  I'd never had teriyaki of this caliber, and definitely didn't expect it from a little hole in the wall like this. Paid 8.95 for an order that could easily feed two with leftover.\\n\\nThe best, by far, was the hot and sour soup.  It put anything I'd tried previously to shame.  It was 2.50 for a quart, and short of Thai Chili's Tom Yum, it's the best hot and sour you'll find in the valley.  \\n\\nIf you happen to be in the area, it's definitely worth a shot.  Make time, so you can afford the wait, and you won't be disappointed.\""
      ]
     },
     "execution_count": 10,
     "metadata": {
      "tags": []
     },
     "output_type": "execute_result"
    }
   ],
   "source": [
    "yelp_reviews.text[5]"
   ]
  },
  {
   "cell_type": "code",
   "execution_count": 11,
   "metadata": {
    "colab": {
     "base_uri": "https://localhost:8080/",
     "height": 85
    },
    "colab_type": "code",
    "id": "f6wUY7APv-ja",
    "outputId": "410a6e26-37bf-4633-a2dd-b774176056bb"
   },
   "outputs": [
    {
     "data": {
      "text/plain": [
       "cuisine    False\n",
       "useful     False\n",
       "text       False\n",
       "dtype: bool"
      ]
     },
     "execution_count": 11,
     "metadata": {
      "tags": []
     },
     "output_type": "execute_result"
    }
   ],
   "source": [
    "yelp_reviews.isnull().any()"
   ]
  },
  {
   "cell_type": "code",
   "execution_count": 12,
   "metadata": {
    "colab": {},
    "colab_type": "code",
    "id": "AmB8jpw_v-jd"
   },
   "outputs": [],
   "source": [
    "yelp_reviews[\"labels\"]= yelp_reviews[\"useful\"].apply(lambda x: 1 if x >= 1  else 0)"
   ]
  },
  {
   "cell_type": "code",
   "execution_count": 13,
   "metadata": {
    "colab": {
     "base_uri": "https://localhost:8080/",
     "height": 68
    },
    "colab_type": "code",
    "id": "P18vw-P5v-jg",
    "outputId": "4590a4a8-41c3-420b-96e1-cc22120386ee"
   },
   "outputs": [
    {
     "data": {
      "text/plain": [
       "0    115926\n",
       "1     87263\n",
       "Name: labels, dtype: int64"
      ]
     },
     "execution_count": 13,
     "metadata": {
      "tags": []
     },
     "output_type": "execute_result"
    }
   ],
   "source": [
    "yelp_reviews['labels'].value_counts()"
   ]
  },
  {
   "cell_type": "code",
   "execution_count": 14,
   "metadata": {
    "colab": {
     "base_uri": "https://localhost:8080/",
     "height": 359
    },
    "colab_type": "code",
    "id": "EIzrigUDv-jj",
    "outputId": "6dd4f52a-81df-4e4e-97db-aa7cbc0c398a"
   },
   "outputs": [
    {
     "data": {
      "text/html": [
       "<div>\n",
       "<style scoped>\n",
       "    .dataframe tbody tr th:only-of-type {\n",
       "        vertical-align: middle;\n",
       "    }\n",
       "\n",
       "    .dataframe tbody tr th {\n",
       "        vertical-align: top;\n",
       "    }\n",
       "\n",
       "    .dataframe thead th {\n",
       "        text-align: right;\n",
       "    }\n",
       "</style>\n",
       "<table border=\"1\" class=\"dataframe\">\n",
       "  <thead>\n",
       "    <tr style=\"text-align: right;\">\n",
       "      <th></th>\n",
       "      <th>cuisine</th>\n",
       "      <th>useful</th>\n",
       "      <th>text</th>\n",
       "      <th>labels</th>\n",
       "    </tr>\n",
       "  </thead>\n",
       "  <tbody>\n",
       "    <tr>\n",
       "      <th>0</th>\n",
       "      <td>Asian</td>\n",
       "      <td>0</td>\n",
       "      <td>We've tried a few different Chinese delivery p...</td>\n",
       "      <td>0</td>\n",
       "    </tr>\n",
       "    <tr>\n",
       "      <th>1</th>\n",
       "      <td>Asian</td>\n",
       "      <td>6</td>\n",
       "      <td>My expectations of chinese delivery places in ...</td>\n",
       "      <td>1</td>\n",
       "    </tr>\n",
       "    <tr>\n",
       "      <th>2</th>\n",
       "      <td>Asian</td>\n",
       "      <td>2</td>\n",
       "      <td>This place only gets one star because the syst...</td>\n",
       "      <td>1</td>\n",
       "    </tr>\n",
       "    <tr>\n",
       "      <th>3</th>\n",
       "      <td>Asian</td>\n",
       "      <td>0</td>\n",
       "      <td>This place is exactly why I rarely eat Chinese...</td>\n",
       "      <td>0</td>\n",
       "    </tr>\n",
       "    <tr>\n",
       "      <th>4</th>\n",
       "      <td>Asian</td>\n",
       "      <td>0</td>\n",
       "      <td>I could only give this place a 3 out of 5.  Th...</td>\n",
       "      <td>0</td>\n",
       "    </tr>\n",
       "    <tr>\n",
       "      <th>5</th>\n",
       "      <td>Asian</td>\n",
       "      <td>3</td>\n",
       "      <td>This hole in the wall is more than meets the e...</td>\n",
       "      <td>1</td>\n",
       "    </tr>\n",
       "    <tr>\n",
       "      <th>6</th>\n",
       "      <td>Asian</td>\n",
       "      <td>2</td>\n",
       "      <td>Ok, 4 stars because of the food alone on this ...</td>\n",
       "      <td>1</td>\n",
       "    </tr>\n",
       "    <tr>\n",
       "      <th>7</th>\n",
       "      <td>Asian</td>\n",
       "      <td>1</td>\n",
       "      <td>Possibly the worst chinese I've ever had. Very...</td>\n",
       "      <td>1</td>\n",
       "    </tr>\n",
       "    <tr>\n",
       "      <th>8</th>\n",
       "      <td>Asian</td>\n",
       "      <td>0</td>\n",
       "      <td>For Chinese take out food, this is my place. O...</td>\n",
       "      <td>0</td>\n",
       "    </tr>\n",
       "    <tr>\n",
       "      <th>9</th>\n",
       "      <td>Asian</td>\n",
       "      <td>0</td>\n",
       "      <td>Really REALLY bad food! This is NOT a good chi...</td>\n",
       "      <td>0</td>\n",
       "    </tr>\n",
       "  </tbody>\n",
       "</table>\n",
       "</div>"
      ],
      "text/plain": [
       "  cuisine  useful                                               text  labels\n",
       "0   Asian       0  We've tried a few different Chinese delivery p...       0\n",
       "1   Asian       6  My expectations of chinese delivery places in ...       1\n",
       "2   Asian       2  This place only gets one star because the syst...       1\n",
       "3   Asian       0  This place is exactly why I rarely eat Chinese...       0\n",
       "4   Asian       0  I could only give this place a 3 out of 5.  Th...       0\n",
       "5   Asian       3  This hole in the wall is more than meets the e...       1\n",
       "6   Asian       2  Ok, 4 stars because of the food alone on this ...       1\n",
       "7   Asian       1  Possibly the worst chinese I've ever had. Very...       1\n",
       "8   Asian       0  For Chinese take out food, this is my place. O...       0\n",
       "9   Asian       0  Really REALLY bad food! This is NOT a good chi...       0"
      ]
     },
     "execution_count": 14,
     "metadata": {
      "tags": []
     },
     "output_type": "execute_result"
    }
   ],
   "source": [
    "yelp_reviews.head(10)"
   ]
  },
  {
   "cell_type": "code",
   "execution_count": 15,
   "metadata": {
    "colab": {},
    "colab_type": "code",
    "id": "Fo_SMfNBv-jn"
   },
   "outputs": [],
   "source": [
    "texts = yelp_reviews[\"text\"].values\n",
    "labels = yelp_reviews[\"labels\"].values"
   ]
  },
  {
   "cell_type": "code",
   "execution_count": 16,
   "metadata": {
    "colab": {
     "base_uri": "https://localhost:8080/",
     "height": 34
    },
    "colab_type": "code",
    "id": "mH6z_Yu1v-jq",
    "outputId": "bdc1d723-be05-44e3-a3ab-ea9cebc014b8"
   },
   "outputs": [
    {
     "data": {
      "text/plain": [
       "array([0, 1, 1, 0, 0])"
      ]
     },
     "execution_count": 16,
     "metadata": {
      "tags": []
     },
     "output_type": "execute_result"
    }
   ],
   "source": [
    "yelp_reviews[\"labels\"].values[:5]"
   ]
  },
  {
   "cell_type": "code",
   "execution_count": 17,
   "metadata": {
    "colab": {
     "base_uri": "https://localhost:8080/",
     "height": 51
    },
    "colab_type": "code",
    "id": "q2OXqWwtv-ju",
    "outputId": "465bc921-66f8-44f2-e859-566560a4b694"
   },
   "outputs": [
    {
     "name": "stdout",
     "output_type": "stream",
     "text": [
      "(203189,)\n",
      "(203189,)\n"
     ]
    }
   ],
   "source": [
    "print(texts.shape)\n",
    "print(labels.shape)"
   ]
  },
  {
   "cell_type": "code",
   "execution_count": 18,
   "metadata": {
    "colab": {
     "base_uri": "https://localhost:8080/",
     "height": 34
    },
    "colab_type": "code",
    "id": "7BqDs7Idv-jz",
    "outputId": "da904e70-a8ef-4b35-802c-bda404681d93"
   },
   "outputs": [
    {
     "name": "stdout",
     "output_type": "stream",
     "text": [
      "Found 73129 unique tokens.\n"
     ]
    }
   ],
   "source": [
    "vocab_size=10000\n",
    "max_len=500\n",
    "\n",
    "tokenizer = Tokenizer(num_words=vocab_size)\n",
    "tokenizer.fit_on_texts(texts)\n",
    "sequences = tokenizer.texts_to_sequences(texts)\n",
    "\n",
    "word_index = tokenizer.word_index\n",
    "print('Found %s unique tokens.' % len(word_index))"
   ]
  },
  {
   "cell_type": "code",
   "execution_count": 19,
   "metadata": {
    "colab": {
     "base_uri": "https://localhost:8080/",
     "height": 54
    },
    "colab_type": "code",
    "id": "nYJHkvbfv-j3",
    "outputId": "7e6ae8b4-fb5c-47ce-af97-b1110f386d82"
   },
   "outputs": [
    {
     "name": "stdout",
     "output_type": "stream",
     "text": [
      "[[502, 152, 4, 192, 230, 108, 405, 195, 318, 1478, 100, 21, 4, 329, 471, 9, 108, 14, 16, 13, 22, 25, 68, 23, 14, 3, 41, 1, 134, 720, 498, 2, 713, 2949, 134, 1, 134, 6, 1515, 1561, 68, 86, 195, 12, 152, 8, 7, 71, 4, 23, 176, 17, 329, 259, 93, 62, 1, 6596, 6596, 1365, 228, 1027, 9, 1, 309, 11, 8, 28, 23]]\n"
     ]
    }
   ],
   "source": [
    "print(sequences[:1])"
   ]
  },
  {
   "cell_type": "code",
   "execution_count": 20,
   "metadata": {
    "colab": {
     "base_uri": "https://localhost:8080/",
     "height": 51
    },
    "colab_type": "code",
    "id": "LFJdQrBSv-j6",
    "outputId": "0289971b-a755-4b20-83e9-fcce062f8508"
   },
   "outputs": [
    {
     "name": "stdout",
     "output_type": "stream",
     "text": [
      "('the', 1)\n",
      "('schzwan', 73129)\n"
     ]
    }
   ],
   "source": [
    "print(list(word_index.items())[0])\n",
    "print(list(word_index.items())[73128])"
   ]
  },
  {
   "cell_type": "code",
   "execution_count": 21,
   "metadata": {
    "colab": {
     "base_uri": "https://localhost:8080/",
     "height": 34
    },
    "colab_type": "code",
    "id": "RhInu4Opv-j9",
    "outputId": "6f7b433a-ce2e-4ecb-b24b-ac7c0160d5f3"
   },
   "outputs": [
    {
     "data": {
      "text/plain": [
       "1"
      ]
     },
     "execution_count": 21,
     "metadata": {
      "tags": []
     },
     "output_type": "execute_result"
    }
   ],
   "source": [
    "min(list(word_index.values()))"
   ]
  },
  {
   "cell_type": "code",
   "execution_count": 22,
   "metadata": {
    "colab": {},
    "colab_type": "code",
    "id": "xlH6mprEv-kA"
   },
   "outputs": [],
   "source": [
    "data = sequence.pad_sequences(sequences, \n",
    "                              maxlen=max_len,\n",
    "                              padding='post', \n",
    "                              truncating='post'\n",
    "                             )"
   ]
  },
  {
   "cell_type": "code",
   "execution_count": 23,
   "metadata": {
    "colab": {
     "base_uri": "https://localhost:8080/",
     "height": 102
    },
    "colab_type": "code",
    "id": "4acugQi6v-kC",
    "outputId": "19b8ae30-4f97-4635-8cd3-0463d1e84c77"
   },
   "outputs": [
    {
     "data": {
      "text/plain": [
       "array([[ 502,  152,    4, ...,    0,    0,    0],\n",
       "       [  15, 1071,    9, ...,    0,    0,    0],\n",
       "       [  13,   22,   79, ...,    0,    0,    0],\n",
       "       [  13,   22,    7, ...,    0,    0,    0],\n",
       "       [   3,  138,   79, ...,    0,    0,    0]], dtype=int32)"
      ]
     },
     "execution_count": 23,
     "metadata": {
      "tags": []
     },
     "output_type": "execute_result"
    }
   ],
   "source": [
    "data[0:5]"
   ]
  },
  {
   "cell_type": "code",
   "execution_count": 24,
   "metadata": {
    "colab": {
     "base_uri": "https://localhost:8080/",
     "height": 68
    },
    "colab_type": "code",
    "id": "fSKRpMrYv-kF",
    "outputId": "3ecc47b2-0cef-46d5-d828-d60d98c1b0e0"
   },
   "outputs": [
    {
     "name": "stdout",
     "output_type": "stream",
     "text": [
      "Shape of data: (203189, 500)\n",
      "Shape of label: (203189,)\n",
      "Shape of label: (203189, 2)\n"
     ]
    }
   ],
   "source": [
    "labels_b = to_categorical(np.asarray(labels))\n",
    "print('Shape of data:', data.shape)\n",
    "print('Shape of label:', labels.shape)\n",
    "print('Shape of label:', labels_b.shape)"
   ]
  },
  {
   "cell_type": "code",
   "execution_count": 37,
   "metadata": {
    "colab": {},
    "colab_type": "code",
    "id": "ndqCRx6qv-kI"
   },
   "outputs": [],
   "source": [
    "VALIDATION_SPLIT=0.2\n",
    "\n",
    "indices = np.arange(data.shape[0])\n",
    "np.random.shuffle(indices)\n",
    "data = data[indices]\n",
    "labels = labels[indices]\n",
    "labels_b = labels_b[indices]\n",
    "nb_validation_samples = int(VALIDATION_SPLIT * data.shape[0])\n",
    "\n",
    "x_train = data[:-nb_validation_samples]\n",
    "y_train = labels[:-nb_validation_samples]\n",
    "y_train_b = labels_b[:-nb_validation_samples]\n",
    "x_test = data[-nb_validation_samples:]\n",
    "y_test = labels[-nb_validation_samples:]\n",
    "y_test_b = labels_b[-nb_validation_samples:]"
   ]
  },
  {
   "cell_type": "code",
   "execution_count": 38,
   "metadata": {
    "colab": {
     "base_uri": "https://localhost:8080/",
     "height": 119
    },
    "colab_type": "code",
    "id": "W7rYliwQv-kK",
    "outputId": "bdcc961b-b516-4486-d0f2-6342f4f43bc7"
   },
   "outputs": [
    {
     "name": "stdout",
     "output_type": "stream",
     "text": [
      "Shape of x_train: (162552, 500)\n",
      "Shape of x_test: (40637, 500)\n",
      "Shape of y_train: (162552,)\n",
      "Shape of y_train_b: (162552, 2)\n",
      "Shape of y_test: (40637,)\n",
      "Shape of y_test_b: (40637, 2)\n"
     ]
    }
   ],
   "source": [
    "print('Shape of x_train:', x_train.shape)\n",
    "print('Shape of x_test:', x_test.shape)\n",
    "print('Shape of y_train:', y_train.shape)\n",
    "print('Shape of y_train_b:', y_train_b.shape)\n",
    "print('Shape of y_test:', y_test.shape)\n",
    "print('Shape of y_test_b:', y_test_b.shape)"
   ]
  },
  {
   "cell_type": "code",
   "execution_count": 28,
   "metadata": {
    "colab": {
     "base_uri": "https://localhost:8080/",
     "height": 85
    },
    "colab_type": "code",
    "id": "6gfklfO6v-kN",
    "outputId": "e5b7b787-3a1a-4856-b4bc-bfe11a85a42d"
   },
   "outputs": [
    {
     "name": "stdout",
     "output_type": "stream",
     "text": [
      "[[   3  189 1986 ...    0    0    0]\n",
      " [  31   35   26 ...    0    0    0]\n",
      " [ 376   49 4926 ...    0    0    0]]\n",
      "[0 1 0]\n"
     ]
    }
   ],
   "source": [
    "print(x_train[0:3])\n",
    "print(y_train[0:3])"
   ]
  },
  {
   "cell_type": "markdown",
   "metadata": {
    "colab_type": "text",
    "id": "nXqatziEv-kP"
   },
   "source": [
    "### Simple LSTM Classifier"
   ]
  },
  {
   "cell_type": "code",
   "execution_count": 39,
   "metadata": {
    "colab": {
     "base_uri": "https://localhost:8080/",
     "height": 289
    },
    "colab_type": "code",
    "id": "4f_-Ox4Rv-kQ",
    "outputId": "abd5a38f-d595-4025-dcae-af6d35a3f940"
   },
   "outputs": [
    {
     "name": "stdout",
     "output_type": "stream",
     "text": [
      "Model: \"model_2\"\n",
      "_________________________________________________________________\n",
      "Layer (type)                 Output Shape              Param #   \n",
      "=================================================================\n",
      "input_layer (InputLayer)     [(None, 500)]             0         \n",
      "_________________________________________________________________\n",
      "embedding_layer (Embedding)  (None, 500, 30)           300000    \n",
      "_________________________________________________________________\n",
      "LSTM (LSTM)                  (None, 256)               293888    \n",
      "_________________________________________________________________\n",
      "output_layer (Dense)         (None, 1)                 257       \n",
      "=================================================================\n",
      "Total params: 594,145\n",
      "Trainable params: 594,145\n",
      "Non-trainable params: 0\n",
      "_________________________________________________________________\n"
     ]
    }
   ],
   "source": [
    "#Simple LSTM Classifier\n",
    "embedding_units = 30\n",
    "rnn_units = 256\n",
    "#attn_units=128\n",
    "\n",
    "#Simple LSTM Classifier\n",
    "sequence_input = layers.Input(shape=(max_len,),name=\"input_layer\", dtype='int32')\n",
    "embeddings = keras.layers.Embedding(input_dim=vocab_size, output_dim=embedding_units, input_length=max_len,name=\"embedding_layer\")(sequence_input)\n",
    "rnn_output=tf.keras.layers.LSTM(rnn_units,name='LSTM')(embeddings)\n",
    "output = keras.layers.Dense(1, activation='sigmoid',name='output_layer')(rnn_output)\n",
    "model = keras.Model(inputs=sequence_input, outputs=output)\n",
    "\n",
    "model.summary()"
   ]
  },
  {
   "cell_type": "code",
   "execution_count": 40,
   "metadata": {
    "colab": {},
    "colab_type": "code",
    "id": "qar5A0Kev-kT"
   },
   "outputs": [],
   "source": [
    "model.compile(optimizer='adam',\n",
    "              loss='binary_crossentropy',\n",
    "              metrics=['accuracy'])\n",
    "\n",
    "early_stopping_callback = keras.callbacks.EarlyStopping(monitor='val_loss',\n",
    "                                                        min_delta=0,\n",
    "                                                        patience=3,\n",
    "                                                        verbose=0, mode='auto')"
   ]
  },
  {
   "cell_type": "code",
   "execution_count": 41,
   "metadata": {
    "colab": {
     "base_uri": "https://localhost:8080/",
     "height": 377
    },
    "colab_type": "code",
    "id": "UAMgPmm7v-kV",
    "outputId": "65fbe8ec-ec71-46bd-aa6d-6c5015db98b5"
   },
   "outputs": [
    {
     "name": "stdout",
     "output_type": "stream",
     "text": [
      "Epoch 1/10\n",
      "569/569 [==============================] - 160s 281ms/step - loss: 0.6826 - accuracy: 0.5758 - val_loss: 0.6810 - val_accuracy: 0.5738\n",
      "Epoch 2/10\n",
      "569/569 [==============================] - 159s 280ms/step - loss: 0.6828 - accuracy: 0.5754 - val_loss: 0.6805 - val_accuracy: 0.5747\n",
      "Epoch 3/10\n",
      "569/569 [==============================] - 160s 282ms/step - loss: 0.6842 - accuracy: 0.5729 - val_loss: 0.6825 - val_accuracy: 0.5728\n",
      "Epoch 4/10\n",
      "569/569 [==============================] - 161s 282ms/step - loss: 0.6842 - accuracy: 0.5729 - val_loss: 0.6840 - val_accuracy: 0.5692\n",
      "Epoch 5/10\n",
      "569/569 [==============================] - 161s 283ms/step - loss: 0.6689 - accuracy: 0.5954 - val_loss: 0.6402 - val_accuracy: 0.6434\n",
      "Epoch 6/10\n",
      "569/569 [==============================] - 161s 284ms/step - loss: 0.6395 - accuracy: 0.6395 - val_loss: 0.6413 - val_accuracy: 0.6387\n",
      "Epoch 7/10\n",
      "569/569 [==============================] - 161s 283ms/step - loss: 0.6369 - accuracy: 0.6440 - val_loss: 0.6377 - val_accuracy: 0.6448\n",
      "Epoch 8/10\n",
      "569/569 [==============================] - 161s 283ms/step - loss: 0.6336 - accuracy: 0.6465 - val_loss: 0.6361 - val_accuracy: 0.6442\n",
      "Epoch 9/10\n",
      "569/569 [==============================] - 161s 282ms/step - loss: 0.6286 - accuracy: 0.6524 - val_loss: 0.6368 - val_accuracy: 0.6440\n",
      "Epoch 10/10\n",
      "569/569 [==============================] - 160s 282ms/step - loss: 0.6217 - accuracy: 0.6604 - val_loss: 0.6377 - val_accuracy: 0.6416\n"
     ]
    }
   ],
   "source": [
    "history = model.fit(x_train,\n",
    "                    y_train,\n",
    "                    epochs=10,\n",
    "                    batch_size=200,\n",
    "                    validation_split=.3, verbose=1, callbacks=[early_stopping_callback])"
   ]
  },
  {
   "cell_type": "code",
   "execution_count": 42,
   "metadata": {
    "colab": {
     "base_uri": "https://localhost:8080/",
     "height": 34
    },
    "colab_type": "code",
    "id": "x0fBdm8Jv-kX",
    "outputId": "c9acfeab-2f2c-4b8d-9a2b-e82d213ca31c"
   },
   "outputs": [
    {
     "name": "stdout",
     "output_type": "stream",
     "text": [
      "Accuracy: 63.88%\n"
     ]
    }
   ],
   "source": [
    "# Final evaluation of the model\n",
    "scores = model.evaluate(x_test, y_test, verbose=0)\n",
    "print(\"Accuracy: %.2f%%\" % (scores[1]*100))"
   ]
  },
  {
   "cell_type": "markdown",
   "metadata": {
    "colab_type": "text",
    "id": "9TUvX_7ov-kZ"
   },
   "source": [
    "### Bidirectional LSTM Classifier"
   ]
  },
  {
   "cell_type": "code",
   "execution_count": 43,
   "metadata": {
    "colab": {
     "base_uri": "https://localhost:8080/",
     "height": 88
    },
    "colab_type": "code",
    "id": "GngpS8iMv-kc",
    "outputId": "5772fa08-c3c2-40d2-9367-2929f81ef409"
   },
   "outputs": [
    {
     "name": "stdout",
     "output_type": "stream",
     "text": [
      "WARNING:tensorflow:Layer lstm_1 will not use cuDNN kernel since it doesn't meet the cuDNN kernel criteria. It will use generic GPU kernel as fallback when running on GPU\n",
      "WARNING:tensorflow:Layer lstm_1 will not use cuDNN kernel since it doesn't meet the cuDNN kernel criteria. It will use generic GPU kernel as fallback when running on GPU\n",
      "WARNING:tensorflow:Layer lstm_1 will not use cuDNN kernel since it doesn't meet the cuDNN kernel criteria. It will use generic GPU kernel as fallback when running on GPU\n"
     ]
    }
   ],
   "source": [
    "from tensorflow.keras.layers import Bidirectional\n",
    "\n",
    "\n",
    "sequence_input = layers.Input(shape=(max_len,),name=\"input_layer\", dtype='int32')\n",
    "embeddings = keras.layers.Embedding(input_dim=vocab_size, output_dim=embedding_units, input_length=max_len,name=\"embedding_layer\")(sequence_input)\n",
    "rnn_output=Bidirectional(tf.keras.layers.LSTM(rnn_units,name='LSTM'))(embeddings)\n",
    "output = keras.layers.Dense(1, activation='sigmoid',name='output_layer')(rnn_output)\n",
    "model = keras.Model(inputs=sequence_input, outputs=output)\n",
    "\n",
    "model.summary()"
   ]
  },
  {
   "cell_type": "code",
   "execution_count": 44,
   "metadata": {
    "colab": {
     "base_uri": "https://localhost:8080/",
     "height": 207
    },
    "colab_type": "code",
    "id": "fu7qgTx6v-kf",
    "outputId": "14b0e66a-3368-4cd9-a765-45284cc00a66"
   },
   "outputs": [
    {
     "name": "stdout",
     "output_type": "stream",
     "text": [
      "Epoch 1/5\n",
      "569/569 [==============================] - 3311s 6s/step - loss: 0.6418 - accuracy: 0.6379 - val_loss: 0.6321 - val_accuracy: 0.6496\n",
      "Epoch 2/5\n",
      "569/569 [==============================] - 3250s 6s/step - loss: 0.6211 - accuracy: 0.6627 - val_loss: 0.6299 - val_accuracy: 0.6499\n",
      "Epoch 3/5\n",
      "569/569 [==============================] - 3130s 6s/step - loss: 0.6046 - accuracy: 0.6796 - val_loss: 0.6443 - val_accuracy: 0.6361\n",
      "Epoch 4/5\n",
      "569/569 [==============================] - 3117s 5s/step - loss: 0.5877 - accuracy: 0.6942 - val_loss: 0.6459 - val_accuracy: 0.6399\n",
      "Epoch 5/5\n",
      "569/569 [==============================] - 3292s 6s/step - loss: 0.5697 - accuracy: 0.7096 - val_loss: 0.6625 - val_accuracy: 0.6359\n"
     ]
    }
   ],
   "source": [
    "model.fit(x_train, y_train_b, validation_split=.3,\n",
    "          epochs=5, batch_size=200);"
   ]
  },
  {
   "cell_type": "code",
   "execution_count": 46,
   "metadata": {
    "colab": {
     "base_uri": "https://localhost:8080/",
     "height": 34
    },
    "colab_type": "code",
    "id": "Ldb6HhuAGINC",
    "outputId": "180e78de-a6d9-4bb2-b5dd-bd62174a02f1"
   },
   "outputs": [
    {
     "name": "stdout",
     "output_type": "stream",
     "text": [
      "Accuracy: 63.61%\n"
     ]
    }
   ],
   "source": [
    "scores = model.evaluate(x_test, y_test_b, verbose=0)\n",
    "print(\"Accuracy: %.2f%%\" % (scores[1]*100))"
   ]
  },
  {
   "cell_type": "markdown",
   "metadata": {
    "colab_type": "text",
    "id": "METxMGE7v-kh"
   },
   "source": [
    "### LSTM Classifier with attention"
   ]
  },
  {
   "cell_type": "code",
   "execution_count": 47,
   "metadata": {
    "colab": {},
    "colab_type": "code",
    "id": "T6xRNOIAv-ki"
   },
   "outputs": [],
   "source": [
    "#our attention layer, uses Bahdanau Attention from 2015 paper that's essentially weighted sum, also known as \"additive attention\"\n",
    "class BahdanauAttention(layers.Layer):\n",
    "    def __init__(self, units):\n",
    "        super(BahdanauAttention, self).__init__()\n",
    "        self.W1 = tf.keras.layers.Dense(units)\n",
    "        self.W2 = tf.keras.layers.Dense(units)\n",
    "        self.V = tf.keras.layers.Dense(1)\n",
    "        self._name=\"Attention\"\n",
    " \n",
    "    def call(self, features, hidden):\n",
    "    # hidden state shape == (batch_size, hidden size)\n",
    "    # hidden_with_time_axis shape == (batch_size, 1, hidden size)\n",
    "    # values shape == (batch_size, max_len, hidden size)\n",
    "    # we are doing this to broadcast addition along the time axis to calculate the score\n",
    "        hidden_with_time_axis = tf.expand_dims(hidden, 1)\n",
    "    # score shape == (batch_size, max_length, 1)\n",
    "    # we get 1 at the last axis because we are applying score to self.V\n",
    "    # the shape of the tensor before applying self.V is (batch_size, max_length, units)\n",
    "        score = tf.nn.tanh(self.W1(features) + self.W2(hidden_with_time_axis))\n",
    "        \n",
    "    # attention_weights shape == (batch_size, max_length, 1)\n",
    "        attention_weights = tf.nn.softmax(self.V(score), axis=1)\n",
    "    # context_vector shape after sum == (batch_size, hidden_size)\n",
    "        context_vector = attention_weights * features\n",
    "        context_vector = tf.reduce_sum(context_vector, axis=1)\n",
    " \n",
    "        return context_vector, attention_weights"
   ]
  },
  {
   "cell_type": "code",
   "execution_count": 49,
   "metadata": {
    "colab": {
     "base_uri": "https://localhost:8080/",
     "height": 391
    },
    "colab_type": "code",
    "id": "nsOVvLufv-kk",
    "outputId": "6fce4c3d-49d4-46c3-be34-0e168a009df7"
   },
   "outputs": [
    {
     "name": "stdout",
     "output_type": "stream",
     "text": [
      "Model: \"model_3\"\n",
      "_________________________________________________________________\n",
      "Layer (type)                 Output Shape              Param #   \n",
      "=================================================================\n",
      "input_layer (InputLayer)     [(None, 500)]             0         \n",
      "_________________________________________________________________\n",
      "embedding_layer (Embedding)  (None, 500, 30)           300000    \n",
      "_________________________________________________________________\n",
      "bidirectional_1 (Bidirection (None, 500, 100)          32400     \n",
      "_________________________________________________________________\n",
      "global_max_pooling1d_1 (Glob (None, 100)               0         \n",
      "_________________________________________________________________\n",
      "dense_2 (Dense)              (None, 50)                5050      \n",
      "_________________________________________________________________\n",
      "dropout_1 (Dropout)          (None, 50)                0         \n",
      "_________________________________________________________________\n",
      "dense_3 (Dense)              (None, 2)                 102       \n",
      "=================================================================\n",
      "Total params: 337,552\n",
      "Trainable params: 337,552\n",
      "Non-trainable params: 0\n",
      "_________________________________________________________________\n"
     ]
    }
   ],
   "source": [
    "#LSTM Classifier with Attention\n",
    "attn_units=128\n",
    "\n",
    "sequence_input = layers.Input(shape=(max_len,),name=\"input_layer\", dtype='int32')\n",
    "embeddings = keras.layers.Embedding(input_dim=vocab_size, output_dim=embedding_units, input_length=max_len,name=\"embedding_layer\")(sequence_input)\n",
    "lstm_output,hidden_h, hidden_c=tf.keras.layers.LSTM(rnn_units,name='LSTM',return_sequences=True,\n",
    "                                      return_state=True)(embeddings)\n",
    "context_vector, attention_weights = BahdanauAttention(attn_units)(lstm_output, hidden_h)\n",
    "output = keras.layers.Dense(1, activation='sigmoid',name='output_layer')(context_vector)\n",
    "attn_model = keras.Model(inputs=sequence_input, outputs=output)\n",
    " \n",
    "# summarize layers\n",
    "model.summary()"
   ]
  },
  {
   "cell_type": "code",
   "execution_count": 50,
   "metadata": {
    "colab": {},
    "colab_type": "code",
    "id": "M__BtuGLv-kn"
   },
   "outputs": [],
   "source": [
    "attn_model.compile(optimizer='adam',\n",
    "              loss='binary_crossentropy',\n",
    "              metrics=['accuracy'])\n",
    "\n",
    "early_stopping_callback = keras.callbacks.EarlyStopping(monitor='val_loss',\n",
    "                                                        min_delta=0,\n",
    "                                                        patience=3,\n",
    "                                                        verbose=0, mode='auto')"
   ]
  },
  {
   "cell_type": "code",
   "execution_count": 51,
   "metadata": {
    "colab": {
     "base_uri": "https://localhost:8080/",
     "height": 105
    },
    "colab_type": "code",
    "id": "KAG9yZ7lv-kp",
    "outputId": "566a570f-3c80-4be7-ddab-824c0869d3c1"
   },
   "outputs": [
    {
     "name": "stdout",
     "output_type": "stream",
     "text": [
      "Epoch 1/2\n",
      "569/569 [==============================] - 181s 318ms/step - loss: 0.6377 - accuracy: 0.6409 - val_loss: 0.6288 - val_accuracy: 0.6527\n",
      "Epoch 2/2\n",
      "569/569 [==============================] - 181s 318ms/step - loss: 0.6223 - accuracy: 0.6580 - val_loss: 0.6282 - val_accuracy: 0.6523\n"
     ]
    }
   ],
   "source": [
    "history = attn_model.fit(x_train,\n",
    "                    y_train,\n",
    "                    epochs=2,\n",
    "                    batch_size=200,\n",
    "                    validation_split=.3, verbose=1, callbacks=[early_stopping_callback])"
   ]
  },
  {
   "cell_type": "code",
   "execution_count": 52,
   "metadata": {
    "colab": {
     "base_uri": "https://localhost:8080/",
     "height": 51
    },
    "colab_type": "code",
    "id": "vTRlxhCev-kr",
    "outputId": "f2c94ff8-8545-43fd-b4c8-ec7a6c8914ac"
   },
   "outputs": [
    {
     "name": "stdout",
     "output_type": "stream",
     "text": [
      "1270/1270 [==============================] - 53s 41ms/step - loss: 0.6287 - accuracy: 0.6521\n",
      "[0.6286572217941284, 0.6521150469779968]\n"
     ]
    }
   ],
   "source": [
    "result = attn_model.evaluate(x_test, y_test)\n",
    "print(result)"
   ]
  },
  {
   "cell_type": "markdown",
   "metadata": {
    "colab_type": "text",
    "id": "dgkH5WNJv-kt"
   },
   "source": [
    "### Bidirectional LSTM Classifier with attention and GloVe embedding"
   ]
  }
 ],
 "metadata": {
  "accelerator": "GPU",
  "colab": {
   "collapsed_sections": [
    "dgkH5WNJv-kt"
   ],
   "name": "Yelp_LSTM.ipynb",
   "provenance": []
  },
  "kernelspec": {
   "display_name": "Python 3",
   "language": "python",
   "name": "python3"
  },
  "language_info": {
   "codemirror_mode": {
    "name": "ipython",
    "version": 3
   },
   "file_extension": ".py",
   "mimetype": "text/x-python",
   "name": "python",
   "nbconvert_exporter": "python",
   "pygments_lexer": "ipython3",
   "version": "3.6.8"
  }
 },
 "nbformat": 4,
 "nbformat_minor": 1
}
