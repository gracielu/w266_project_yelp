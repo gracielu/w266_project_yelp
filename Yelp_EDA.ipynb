{
 "cells": [
  {
   "cell_type": "code",
   "execution_count": 1,
   "metadata": {},
   "outputs": [],
   "source": [
    "import numpy as np\n",
    "import pandas as pd\n",
    "import json"
   ]
  },
  {
   "cell_type": "code",
   "execution_count": 6,
   "metadata": {},
   "outputs": [
    {
     "name": "stderr",
     "output_type": "stream",
     "text": [
      "/home/jia_lu/anaconda3/lib/python3.7/site-packages/IPython/core/interactiveshell.py:3063: DtypeWarning: Columns (28,44) have mixed types.Specify dtype option on import or set low_memory=False.\n",
      "  interactivity=interactivity, compiler=compiler, result=result)\n"
     ]
    }
   ],
   "source": [
    "business=pd.read_csv(\"yelp_academic_dataset_business.csv\")"
   ]
  },
  {
   "cell_type": "code",
   "execution_count": 7,
   "metadata": {},
   "outputs": [
    {
     "data": {
      "text/plain": [
       "Index(['attributes.Corkage', 'hours.Thursday', 'attributes.BusinessParking',\n",
       "       'attributes.AcceptsInsurance', 'categories', 'attributes.AgesAllowed',\n",
       "       'attributes.WheelchairAccessible', 'attributes.DriveThru',\n",
       "       'attributes.GoodForKids', 'attributes.RestaurantsDelivery',\n",
       "       'attributes.RestaurantsAttire', 'attributes', 'postal_code',\n",
       "       'hours.Wednesday', 'is_open', 'stars', 'attributes.Smoking',\n",
       "       'attributes.BYOBCorkage', 'hours', 'state',\n",
       "       'attributes.DietaryRestrictions', 'attributes.GoodForMeal', 'address',\n",
       "       'attributes.Alcohol', 'attributes.HappyHour', 'attributes.Caters',\n",
       "       'business_id', 'hours.Tuesday', 'attributes.RestaurantsCounterService',\n",
       "       'attributes.ByAppointmentOnly', 'hours.Saturday',\n",
       "       'attributes.RestaurantsGoodForGroups', 'longitude', 'hours.Monday',\n",
       "       'attributes.GoodForDancing', 'hours.Sunday', 'attributes.Ambience',\n",
       "       'attributes.CoatCheck', 'attributes.Music', 'name',\n",
       "       'attributes.DogsAllowed', 'city', 'attributes.BikeParking',\n",
       "       'attributes.BusinessAcceptsCreditCards', 'attributes.Open24Hours',\n",
       "       'latitude', 'attributes.BestNights', 'attributes.HasTV',\n",
       "       'attributes.WiFi', 'attributes.RestaurantsTakeOut',\n",
       "       'attributes.RestaurantsPriceRange2',\n",
       "       'attributes.RestaurantsReservations', 'attributes.OutdoorSeating',\n",
       "       'attributes.BusinessAcceptsBitcoin', 'attributes.BYOB',\n",
       "       'attributes.NoiseLevel', 'attributes.HairSpecializesIn',\n",
       "       'attributes.RestaurantsTableService', 'hours.Friday', 'review_count'],\n",
       "      dtype='object')"
      ]
     },
     "execution_count": 7,
     "metadata": {},
     "output_type": "execute_result"
    }
   ],
   "source": [
    "business.columns"
   ]
  },
  {
   "cell_type": "code",
   "execution_count": 8,
   "metadata": {},
   "outputs": [],
   "source": [
    "Business_AZ = business[business['state'] == 'AZ'][['business_id', 'state', 'city','categories', 'review_count']].copy()\n",
    "us_restaurants=Business_AZ[Business_AZ.categories.str.contains('Restaurants', na=False)].copy()"
   ]
  },
  {
   "cell_type": "code",
   "execution_count": 9,
   "metadata": {},
   "outputs": [],
   "source": [
    "us_restaurants['category']=np.nan\n",
    "us_restaurants.loc[us_restaurants.categories.str.contains('American', na=False, regex=False),'category'] = 'American'\n",
    "us_restaurants.loc[us_restaurants.categories.str.contains('Mexican', na=False, regex=False), 'category'] = 'Mexican'\n",
    "us_restaurants.loc[us_restaurants.categories.str.contains('Italian', na=False, regex=False), 'category'] = 'Italian'\n",
    "us_restaurants.loc[us_restaurants.categories.str.contains('Japanese', na=False, regex=False), 'category'] = 'Japanese'\n",
    "us_restaurants.loc[us_restaurants.categories.str.contains('Chinese', na=False, regex=False), 'category'] = 'Chinese'\n",
    "us_restaurants.loc[us_restaurants.categories.str.contains('Thai', na=False, regex=False), 'category'] = 'Thai'\n",
    "us_restaurants.loc[us_restaurants.categories.str.contains('Mediterranean', na=False, regex=False), 'category'] = 'Mediterranean'\n",
    "us_restaurants.loc[us_restaurants.categories.str.contains('French', na=False, regex=False), 'category'] = 'French'\n",
    "us_restaurants.loc[us_restaurants.categories.str.contains('Vietnamese', na=False, regex=False), 'category'] = 'Vietnamese'\n",
    "us_restaurants.loc[us_restaurants.categories.str.contains('Greek', na=False, regex=False),'category'] = 'Greek'\n",
    "us_restaurants.loc[us_restaurants.categories.str.contains('Indian', na=False, regex=False),'category'] = 'Indian'\n",
    "us_restaurants.loc[us_restaurants.categories.str.contains('Korean', na=False, regex=False),'category'] = 'Korean'\n",
    "us_restaurants.loc[us_restaurants.categories.str.contains('Hawaiian', na=False, regex=False),'category'] = 'Hawaiian'\n",
    "us_restaurants.loc[us_restaurants.categories.str.contains('African', na=False, regex=False),'category'] = 'African'\n",
    "us_restaurants.loc[us_restaurants.categories.str.contains('Spanish', na=False, regex=False),'category'] = 'Spanish'\n",
    "us_restaurants.loc[us_restaurants.categories.str.contains('Middle_eastern', na=False, regex=False),'category'] = 'Middle_eastern'\n",
    "us_restaurants.loc[us_restaurants.categories.str.contains('Pizza', na=False, regex=False), 'category'] = 'Pizza'\n",
    "us_restaurants.loc[us_restaurants.categories.str.contains('Burgers', na=False, regex=False), 'category'] = 'Burgers'\n",
    "us_restaurants.loc[us_restaurants.categories.str.contains('Barbeque', na=False, regex=False), 'category'] = 'Barbeque'\n",
    "us_restaurants.loc[us_restaurants.categories.str.contains('Sushi Bars', na=False, regex=False), 'category'] = 'Sushi Bars'\n",
    "us_restaurants.loc[us_restaurants.categories.str.contains('Sandwiches', na=False, regex=False), 'category'] = 'Sandwiches'\n",
    "us_restaurants.loc[us_restaurants.categories.str.contains('Chicken Wings', na=False, regex=False), 'category'] = 'Chicken Wings'"
   ]
  },
  {
   "cell_type": "code",
   "execution_count": 10,
   "metadata": {},
   "outputs": [
    {
     "data": {
      "text/plain": [
       "Mexican          1784\n",
       "Sandwiches       1759\n",
       "American         1513\n",
       "Burgers          1122\n",
       "Pizza             962\n",
       "Chicken Wings     623\n",
       "Chinese           565\n",
       "Sushi Bars        363\n",
       "Barbeque          309\n",
       "Italian           280\n",
       "Greek             199\n",
       "Thai              176\n",
       "Indian            150\n",
       "Mediterranean     143\n",
       "Vietnamese        139\n",
       "Japanese          104\n",
       "French             61\n",
       "Hawaiian           57\n",
       "Korean             52\n",
       "Spanish            26\n",
       "African            21\n",
       "Name: category, dtype: int64"
      ]
     },
     "execution_count": 10,
     "metadata": {},
     "output_type": "execute_result"
    }
   ],
   "source": [
    "us_restaurants['category'].value_counts()"
   ]
  },
  {
   "cell_type": "code",
   "execution_count": 11,
   "metadata": {},
   "outputs": [],
   "source": [
    "American = ['American', 'Pizza', 'Burgers','Barbeque', 'Sandwiches', 'Chicken Wings']\n",
    "Mexican = ['Mexican']\n",
    "Asian = ['Chinese', 'Sushi Bars', 'Thai', 'Vietnamese', 'Japanese', 'Korean']\n",
    "\n",
    "us_restaurants['cuisine'] = np.nan\n",
    "\n",
    "def cuisine(category):\n",
    "    if category in American:\n",
    "        return 'American'\n",
    "    elif category in Mexican:\n",
    "        return 'Mexican'\n",
    "    elif category in Asian:\n",
    "        return 'Asian'\n",
    "    else:\n",
    "        return 'Other'\n",
    "    \n",
    "us_restaurants['cuisine'] = us_restaurants['category'].apply(cuisine)"
   ]
  },
  {
   "cell_type": "code",
   "execution_count": 12,
   "metadata": {},
   "outputs": [
    {
     "data": {
      "text/plain": [
       "American    6288\n",
       "Other       2653\n",
       "Mexican     1784\n",
       "Asian       1399\n",
       "Name: cuisine, dtype: int64"
      ]
     },
     "execution_count": 12,
     "metadata": {},
     "output_type": "execute_result"
    }
   ],
   "source": [
    "us_restaurants['cuisine'].value_counts()"
   ]
  },
  {
   "cell_type": "code",
   "execution_count": 13,
   "metadata": {},
   "outputs": [
    {
     "data": {
      "text/html": [
       "<div>\n",
       "<style scoped>\n",
       "    .dataframe tbody tr th:only-of-type {\n",
       "        vertical-align: middle;\n",
       "    }\n",
       "\n",
       "    .dataframe tbody tr th {\n",
       "        vertical-align: top;\n",
       "    }\n",
       "\n",
       "    .dataframe thead th {\n",
       "        text-align: right;\n",
       "    }\n",
       "</style>\n",
       "<table border=\"1\" class=\"dataframe\">\n",
       "  <thead>\n",
       "    <tr style=\"text-align: right;\">\n",
       "      <th></th>\n",
       "      <th>business_id</th>\n",
       "      <th>state</th>\n",
       "      <th>city</th>\n",
       "      <th>categories</th>\n",
       "      <th>review_count</th>\n",
       "      <th>category</th>\n",
       "      <th>cuisine</th>\n",
       "    </tr>\n",
       "  </thead>\n",
       "  <tbody>\n",
       "    <tr>\n",
       "      <th>44</th>\n",
       "      <td>Ga2Bt7xfqoggTypWD5VpoQ</td>\n",
       "      <td>AZ</td>\n",
       "      <td>Tempe</td>\n",
       "      <td>Mexican, Restaurants</td>\n",
       "      <td>9</td>\n",
       "      <td>Mexican</td>\n",
       "      <td>Mexican</td>\n",
       "    </tr>\n",
       "    <tr>\n",
       "      <th>46</th>\n",
       "      <td>xFc50drSPxXkcLvX5ygqrg</td>\n",
       "      <td>AZ</td>\n",
       "      <td>Glendale</td>\n",
       "      <td>Burgers, Fast Food, American (New), Restaurant...</td>\n",
       "      <td>12</td>\n",
       "      <td>Burgers</td>\n",
       "      <td>American</td>\n",
       "    </tr>\n",
       "    <tr>\n",
       "      <th>50</th>\n",
       "      <td>Sd75ucXKoZUM2BEfBHFUOg</td>\n",
       "      <td>AZ</td>\n",
       "      <td>Mesa</td>\n",
       "      <td>Chinese, Restaurants</td>\n",
       "      <td>13</td>\n",
       "      <td>Chinese</td>\n",
       "      <td>Asian</td>\n",
       "    </tr>\n",
       "    <tr>\n",
       "      <th>89</th>\n",
       "      <td>j9bWpCRwpDVfwVT_V85qeA</td>\n",
       "      <td>AZ</td>\n",
       "      <td>Mesa</td>\n",
       "      <td>Food, Ethnic Food, Specialty Food, Restaurants...</td>\n",
       "      <td>130</td>\n",
       "      <td>Thai</td>\n",
       "      <td>Asian</td>\n",
       "    </tr>\n",
       "    <tr>\n",
       "      <th>100</th>\n",
       "      <td>JcsZvx-4yovFgCXOfd6KMg</td>\n",
       "      <td>AZ</td>\n",
       "      <td>Phoenix</td>\n",
       "      <td>Restaurants, Sandwiches</td>\n",
       "      <td>4</td>\n",
       "      <td>Sandwiches</td>\n",
       "      <td>American</td>\n",
       "    </tr>\n",
       "  </tbody>\n",
       "</table>\n",
       "</div>"
      ],
      "text/plain": [
       "                business_id state      city  \\\n",
       "44   Ga2Bt7xfqoggTypWD5VpoQ    AZ     Tempe   \n",
       "46   xFc50drSPxXkcLvX5ygqrg    AZ  Glendale   \n",
       "50   Sd75ucXKoZUM2BEfBHFUOg    AZ      Mesa   \n",
       "89   j9bWpCRwpDVfwVT_V85qeA    AZ      Mesa   \n",
       "100  JcsZvx-4yovFgCXOfd6KMg    AZ   Phoenix   \n",
       "\n",
       "                                            categories  review_count  \\\n",
       "44                                Mexican, Restaurants             9   \n",
       "46   Burgers, Fast Food, American (New), Restaurant...            12   \n",
       "50                                Chinese, Restaurants            13   \n",
       "89   Food, Ethnic Food, Specialty Food, Restaurants...           130   \n",
       "100                            Restaurants, Sandwiches             4   \n",
       "\n",
       "       category   cuisine  \n",
       "44      Mexican   Mexican  \n",
       "46      Burgers  American  \n",
       "50      Chinese     Asian  \n",
       "89         Thai     Asian  \n",
       "100  Sandwiches  American  "
      ]
     },
     "execution_count": 13,
     "metadata": {},
     "output_type": "execute_result"
    }
   ],
   "source": [
    "us_restaurants[us_restaurants['cuisine'] != 'Other'].head()"
   ]
  },
  {
   "cell_type": "code",
   "execution_count": 15,
   "metadata": {},
   "outputs": [],
   "source": [
    "az_restaurants = us_restaurants[us_restaurants['cuisine'] != 'Other'].copy()"
   ]
  },
  {
   "cell_type": "code",
   "execution_count": 3,
   "metadata": {},
   "outputs": [],
   "source": [
    "yelp_reviews = []\n",
    "for line in open('yelp_academic_dataset_review.json', 'r'):\n",
    "    yelp_reviews.append(json.loads(line))\n",
    "\n",
    "reviews = pd.DataFrame.from_dict(yelp_reviews)"
   ]
  },
  {
   "cell_type": "code",
   "execution_count": 4,
   "metadata": {},
   "outputs": [
    {
     "data": {
      "text/html": [
       "<div>\n",
       "<style scoped>\n",
       "    .dataframe tbody tr th:only-of-type {\n",
       "        vertical-align: middle;\n",
       "    }\n",
       "\n",
       "    .dataframe tbody tr th {\n",
       "        vertical-align: top;\n",
       "    }\n",
       "\n",
       "    .dataframe thead th {\n",
       "        text-align: right;\n",
       "    }\n",
       "</style>\n",
       "<table border=\"1\" class=\"dataframe\">\n",
       "  <thead>\n",
       "    <tr style=\"text-align: right;\">\n",
       "      <th></th>\n",
       "      <th>review_id</th>\n",
       "      <th>user_id</th>\n",
       "      <th>business_id</th>\n",
       "      <th>stars</th>\n",
       "      <th>useful</th>\n",
       "      <th>funny</th>\n",
       "      <th>cool</th>\n",
       "      <th>text</th>\n",
       "      <th>date</th>\n",
       "    </tr>\n",
       "  </thead>\n",
       "  <tbody>\n",
       "    <tr>\n",
       "      <th>0</th>\n",
       "      <td>xQY8N_XvtGbearJ5X4QryQ</td>\n",
       "      <td>OwjRMXRC0KyPrIlcjaXeFQ</td>\n",
       "      <td>-MhfebM0QIsKt87iDN-FNw</td>\n",
       "      <td>2.0</td>\n",
       "      <td>5</td>\n",
       "      <td>0</td>\n",
       "      <td>0</td>\n",
       "      <td>As someone who has worked with many museums, I...</td>\n",
       "      <td>2015-04-15 05:21:16</td>\n",
       "    </tr>\n",
       "    <tr>\n",
       "      <th>1</th>\n",
       "      <td>UmFMZ8PyXZTY2QcwzsfQYA</td>\n",
       "      <td>nIJD_7ZXHq-FX8byPMOkMQ</td>\n",
       "      <td>lbrU8StCq3yDfr-QMnGrmQ</td>\n",
       "      <td>1.0</td>\n",
       "      <td>1</td>\n",
       "      <td>1</td>\n",
       "      <td>0</td>\n",
       "      <td>I am actually horrified this place is still in...</td>\n",
       "      <td>2013-12-07 03:16:52</td>\n",
       "    </tr>\n",
       "    <tr>\n",
       "      <th>2</th>\n",
       "      <td>LG2ZaYiOgpr2DK_90pYjNw</td>\n",
       "      <td>V34qejxNsCbcgD8C0HVk-Q</td>\n",
       "      <td>HQl28KMwrEKHqhFrrDqVNQ</td>\n",
       "      <td>5.0</td>\n",
       "      <td>1</td>\n",
       "      <td>0</td>\n",
       "      <td>0</td>\n",
       "      <td>I love Deagan's. I do. I really do. The atmosp...</td>\n",
       "      <td>2015-12-05 03:18:11</td>\n",
       "    </tr>\n",
       "    <tr>\n",
       "      <th>3</th>\n",
       "      <td>i6g_oA9Yf9Y31qt0wibXpw</td>\n",
       "      <td>ofKDkJKXSKZXu5xJNGiiBQ</td>\n",
       "      <td>5JxlZaqCnk1MnbgRirs40Q</td>\n",
       "      <td>1.0</td>\n",
       "      <td>0</td>\n",
       "      <td>0</td>\n",
       "      <td>0</td>\n",
       "      <td>Dismal, lukewarm, defrosted-tasting \"TexMex\" g...</td>\n",
       "      <td>2011-05-27 05:30:52</td>\n",
       "    </tr>\n",
       "    <tr>\n",
       "      <th>4</th>\n",
       "      <td>6TdNDKywdbjoTkizeMce8A</td>\n",
       "      <td>UgMW8bLE0QMJDCkQ1Ax5Mg</td>\n",
       "      <td>IS4cv902ykd8wj1TR0N3-A</td>\n",
       "      <td>4.0</td>\n",
       "      <td>0</td>\n",
       "      <td>0</td>\n",
       "      <td>0</td>\n",
       "      <td>Oh happy day, finally have a Canes near my cas...</td>\n",
       "      <td>2017-01-14 21:56:57</td>\n",
       "    </tr>\n",
       "  </tbody>\n",
       "</table>\n",
       "</div>"
      ],
      "text/plain": [
       "                review_id                 user_id             business_id  \\\n",
       "0  xQY8N_XvtGbearJ5X4QryQ  OwjRMXRC0KyPrIlcjaXeFQ  -MhfebM0QIsKt87iDN-FNw   \n",
       "1  UmFMZ8PyXZTY2QcwzsfQYA  nIJD_7ZXHq-FX8byPMOkMQ  lbrU8StCq3yDfr-QMnGrmQ   \n",
       "2  LG2ZaYiOgpr2DK_90pYjNw  V34qejxNsCbcgD8C0HVk-Q  HQl28KMwrEKHqhFrrDqVNQ   \n",
       "3  i6g_oA9Yf9Y31qt0wibXpw  ofKDkJKXSKZXu5xJNGiiBQ  5JxlZaqCnk1MnbgRirs40Q   \n",
       "4  6TdNDKywdbjoTkizeMce8A  UgMW8bLE0QMJDCkQ1Ax5Mg  IS4cv902ykd8wj1TR0N3-A   \n",
       "\n",
       "   stars  useful  funny  cool  \\\n",
       "0    2.0       5      0     0   \n",
       "1    1.0       1      1     0   \n",
       "2    5.0       1      0     0   \n",
       "3    1.0       0      0     0   \n",
       "4    4.0       0      0     0   \n",
       "\n",
       "                                                text                 date  \n",
       "0  As someone who has worked with many museums, I...  2015-04-15 05:21:16  \n",
       "1  I am actually horrified this place is still in...  2013-12-07 03:16:52  \n",
       "2  I love Deagan's. I do. I really do. The atmosp...  2015-12-05 03:18:11  \n",
       "3  Dismal, lukewarm, defrosted-tasting \"TexMex\" g...  2011-05-27 05:30:52  \n",
       "4  Oh happy day, finally have a Canes near my cas...  2017-01-14 21:56:57  "
      ]
     },
     "execution_count": 4,
     "metadata": {},
     "output_type": "execute_result"
    }
   ],
   "source": [
    "reviews.head()"
   ]
  },
  {
   "cell_type": "code",
   "execution_count": 5,
   "metadata": {},
   "outputs": [
    {
     "data": {
      "text/plain": [
       "5.0    3586460\n",
       "4.0    1673404\n",
       "1.0    1283897\n",
       "3.0     842289\n",
       "2.0     635072\n",
       "Name: stars, dtype: int64"
      ]
     },
     "execution_count": 5,
     "metadata": {},
     "output_type": "execute_result"
    }
   ],
   "source": [
    "reviews.stars.value_counts()"
   ]
  },
  {
   "cell_type": "code",
   "execution_count": 16,
   "metadata": {},
   "outputs": [],
   "source": [
    "review_data = pd.merge(az_restaurants, reviews, on = 'business_id', how = 'inner')"
   ]
  },
  {
   "cell_type": "code",
   "execution_count": 17,
   "metadata": {},
   "outputs": [
    {
     "data": {
      "text/html": [
       "<div>\n",
       "<style scoped>\n",
       "    .dataframe tbody tr th:only-of-type {\n",
       "        vertical-align: middle;\n",
       "    }\n",
       "\n",
       "    .dataframe tbody tr th {\n",
       "        vertical-align: top;\n",
       "    }\n",
       "\n",
       "    .dataframe thead th {\n",
       "        text-align: right;\n",
       "    }\n",
       "</style>\n",
       "<table border=\"1\" class=\"dataframe\">\n",
       "  <thead>\n",
       "    <tr style=\"text-align: right;\">\n",
       "      <th></th>\n",
       "      <th>business_id</th>\n",
       "      <th>state</th>\n",
       "      <th>city</th>\n",
       "      <th>categories</th>\n",
       "      <th>review_count</th>\n",
       "      <th>category</th>\n",
       "      <th>cuisine</th>\n",
       "      <th>review_id</th>\n",
       "      <th>user_id</th>\n",
       "      <th>stars</th>\n",
       "      <th>useful</th>\n",
       "      <th>funny</th>\n",
       "      <th>cool</th>\n",
       "      <th>text</th>\n",
       "      <th>date</th>\n",
       "    </tr>\n",
       "  </thead>\n",
       "  <tbody>\n",
       "    <tr>\n",
       "      <th>0</th>\n",
       "      <td>Ga2Bt7xfqoggTypWD5VpoQ</td>\n",
       "      <td>AZ</td>\n",
       "      <td>Tempe</td>\n",
       "      <td>Mexican, Restaurants</td>\n",
       "      <td>9</td>\n",
       "      <td>Mexican</td>\n",
       "      <td>Mexican</td>\n",
       "      <td>gRmiezddJOJpE2BrtvEGEQ</td>\n",
       "      <td>MGr8SVevx0kOoNUayx4STw</td>\n",
       "      <td>4.0</td>\n",
       "      <td>0</td>\n",
       "      <td>0</td>\n",
       "      <td>0</td>\n",
       "      <td>Great basics. Beans are made right. Tortillas ...</td>\n",
       "      <td>2013-03-24 05:34:59</td>\n",
       "    </tr>\n",
       "    <tr>\n",
       "      <th>1</th>\n",
       "      <td>Ga2Bt7xfqoggTypWD5VpoQ</td>\n",
       "      <td>AZ</td>\n",
       "      <td>Tempe</td>\n",
       "      <td>Mexican, Restaurants</td>\n",
       "      <td>9</td>\n",
       "      <td>Mexican</td>\n",
       "      <td>Mexican</td>\n",
       "      <td>CZEhIaxYGjOjGsqEQ31g_Q</td>\n",
       "      <td>mUsOaUUWRHN9eWUd3tjwag</td>\n",
       "      <td>3.0</td>\n",
       "      <td>0</td>\n",
       "      <td>1</td>\n",
       "      <td>0</td>\n",
       "      <td>Automatic star awarded for having a salsa bar ...</td>\n",
       "      <td>2010-12-03 21:16:34</td>\n",
       "    </tr>\n",
       "    <tr>\n",
       "      <th>2</th>\n",
       "      <td>Ga2Bt7xfqoggTypWD5VpoQ</td>\n",
       "      <td>AZ</td>\n",
       "      <td>Tempe</td>\n",
       "      <td>Mexican, Restaurants</td>\n",
       "      <td>9</td>\n",
       "      <td>Mexican</td>\n",
       "      <td>Mexican</td>\n",
       "      <td>KHu4YThiCE48L1azPqiPDA</td>\n",
       "      <td>DIaW2YAZ5-io7UGKnwF9tA</td>\n",
       "      <td>5.0</td>\n",
       "      <td>0</td>\n",
       "      <td>0</td>\n",
       "      <td>0</td>\n",
       "      <td>Got the #7 Enchilada and Burrito great food an...</td>\n",
       "      <td>2014-10-01 15:18:13</td>\n",
       "    </tr>\n",
       "    <tr>\n",
       "      <th>3</th>\n",
       "      <td>Ga2Bt7xfqoggTypWD5VpoQ</td>\n",
       "      <td>AZ</td>\n",
       "      <td>Tempe</td>\n",
       "      <td>Mexican, Restaurants</td>\n",
       "      <td>9</td>\n",
       "      <td>Mexican</td>\n",
       "      <td>Mexican</td>\n",
       "      <td>Anvmp37r5oeB2NmipFlr0Q</td>\n",
       "      <td>-swTLI5xzaCLxhf5ZqGfsg</td>\n",
       "      <td>4.0</td>\n",
       "      <td>0</td>\n",
       "      <td>0</td>\n",
       "      <td>0</td>\n",
       "      <td>good food for the price. I like their new loca...</td>\n",
       "      <td>2013-02-06 01:06:04</td>\n",
       "    </tr>\n",
       "    <tr>\n",
       "      <th>4</th>\n",
       "      <td>Ga2Bt7xfqoggTypWD5VpoQ</td>\n",
       "      <td>AZ</td>\n",
       "      <td>Tempe</td>\n",
       "      <td>Mexican, Restaurants</td>\n",
       "      <td>9</td>\n",
       "      <td>Mexican</td>\n",
       "      <td>Mexican</td>\n",
       "      <td>9H3Zk2jVGP60ccdE0Eouag</td>\n",
       "      <td>XObVh8__kgp1imtsNyLezQ</td>\n",
       "      <td>4.0</td>\n",
       "      <td>1</td>\n",
       "      <td>0</td>\n",
       "      <td>0</td>\n",
       "      <td>One of the better breakfast burritos I have ha...</td>\n",
       "      <td>2011-05-12 16:21:40</td>\n",
       "    </tr>\n",
       "  </tbody>\n",
       "</table>\n",
       "</div>"
      ],
      "text/plain": [
       "              business_id state   city            categories  review_count  \\\n",
       "0  Ga2Bt7xfqoggTypWD5VpoQ    AZ  Tempe  Mexican, Restaurants             9   \n",
       "1  Ga2Bt7xfqoggTypWD5VpoQ    AZ  Tempe  Mexican, Restaurants             9   \n",
       "2  Ga2Bt7xfqoggTypWD5VpoQ    AZ  Tempe  Mexican, Restaurants             9   \n",
       "3  Ga2Bt7xfqoggTypWD5VpoQ    AZ  Tempe  Mexican, Restaurants             9   \n",
       "4  Ga2Bt7xfqoggTypWD5VpoQ    AZ  Tempe  Mexican, Restaurants             9   \n",
       "\n",
       "  category  cuisine               review_id                 user_id  stars  \\\n",
       "0  Mexican  Mexican  gRmiezddJOJpE2BrtvEGEQ  MGr8SVevx0kOoNUayx4STw    4.0   \n",
       "1  Mexican  Mexican  CZEhIaxYGjOjGsqEQ31g_Q  mUsOaUUWRHN9eWUd3tjwag    3.0   \n",
       "2  Mexican  Mexican  KHu4YThiCE48L1azPqiPDA  DIaW2YAZ5-io7UGKnwF9tA    5.0   \n",
       "3  Mexican  Mexican  Anvmp37r5oeB2NmipFlr0Q  -swTLI5xzaCLxhf5ZqGfsg    4.0   \n",
       "4  Mexican  Mexican  9H3Zk2jVGP60ccdE0Eouag  XObVh8__kgp1imtsNyLezQ    4.0   \n",
       "\n",
       "   useful  funny  cool                                               text  \\\n",
       "0       0      0     0  Great basics. Beans are made right. Tortillas ...   \n",
       "1       0      1     0  Automatic star awarded for having a salsa bar ...   \n",
       "2       0      0     0  Got the #7 Enchilada and Burrito great food an...   \n",
       "3       0      0     0  good food for the price. I like their new loca...   \n",
       "4       1      0     0  One of the better breakfast burritos I have ha...   \n",
       "\n",
       "                  date  \n",
       "0  2013-03-24 05:34:59  \n",
       "1  2010-12-03 21:16:34  \n",
       "2  2014-10-01 15:18:13  \n",
       "3  2013-02-06 01:06:04  \n",
       "4  2011-05-12 16:21:40  "
      ]
     },
     "execution_count": 17,
     "metadata": {},
     "output_type": "execute_result"
    }
   ],
   "source": [
    "review_data.head()"
   ]
  },
  {
   "cell_type": "code",
   "execution_count": 18,
   "metadata": {},
   "outputs": [
    {
     "data": {
      "text/plain": [
       "Phoenix            414658\n",
       "Scottsdale         216440\n",
       "Tempe              104645\n",
       "Mesa                92892\n",
       "Chandler            85822\n",
       "Gilbert             72559\n",
       "Glendale            57531\n",
       "Peoria              32842\n",
       "Surprise            20256\n",
       "Goodyear            17452\n",
       "Avondale            11755\n",
       "Cave Creek           9451\n",
       "Fountain Hills       4467\n",
       "Litchfield Park      3776\n",
       "Paradise Valley      2952\n",
       "Sun City             1592\n",
       "Queen Creek          1497\n",
       "Laveen               1421\n",
       "Tolleson             1418\n",
       "Carefree             1213\n",
       "Buckeye              1164\n",
       "El Mirage            1132\n",
       "Anthem                840\n",
       "Ahwatukee             536\n",
       "Guadalupe             440\n",
       "Sun City West         431\n",
       "Higley                352\n",
       "Sun Lakes             333\n",
       "Youngtown             294\n",
       "Laveen Village        261\n",
       "Apache Junction       250\n",
       "laveen                226\n",
       "Scottdale             204\n",
       "GILBERT               115\n",
       "PHOENIX               103\n",
       "Sedona                 99\n",
       "Fort McDowell          83\n",
       "Rio Verde              45\n",
       "Central                39\n",
       "Waddell                25\n",
       "Fort Mcdowell          16\n",
       "Pheonix                16\n",
       "Central City           15\n",
       "Pheonix AZ             11\n",
       "Gelndale               10\n",
       "Mes                     9\n",
       "Maricopa                6\n",
       "MESA                    5\n",
       "Somerton                3\n",
       "Phoenix Valley          3\n",
       "Name: city, dtype: int64"
      ]
     },
     "execution_count": 18,
     "metadata": {},
     "output_type": "execute_result"
    }
   ],
   "source": [
    "review_data['city'].value_counts()"
   ]
  },
  {
   "cell_type": "code",
   "execution_count": 21,
   "metadata": {},
   "outputs": [
    {
     "data": {
      "text/plain": [
       "American    766196\n",
       "Asian       203189\n",
       "Mexican     192320\n",
       "Name: cuisine, dtype: int64"
      ]
     },
     "execution_count": 21,
     "metadata": {},
     "output_type": "execute_result"
    }
   ],
   "source": [
    "review_data['cuisine'].value_counts()"
   ]
  },
  {
   "cell_type": "code",
   "execution_count": 23,
   "metadata": {},
   "outputs": [],
   "source": [
    "review_data.to_csv('/home/jia_lu/project/review_data.csv',index=False, header=True)"
   ]
  },
  {
   "cell_type": "code",
   "execution_count": 22,
   "metadata": {},
   "outputs": [
    {
     "data": {
      "text/plain": [
       "['/home/jia_lu/project',\n",
       " '/home/jia_lu/anaconda3/lib/python37.zip',\n",
       " '/home/jia_lu/anaconda3/lib/python3.7',\n",
       " '/home/jia_lu/anaconda3/lib/python3.7/lib-dynload',\n",
       " '',\n",
       " '/home/jia_lu/anaconda3/lib/python3.7/site-packages',\n",
       " '/home/jia_lu/anaconda3/lib/python3.7/site-packages/IPython/extensions',\n",
       " '/home/jia_lu/.ipython']"
      ]
     },
     "execution_count": 22,
     "metadata": {},
     "output_type": "execute_result"
    }
   ],
   "source": [
    "import sys\n",
    "sys.path"
   ]
  }
 ],
 "metadata": {
  "kernelspec": {
   "display_name": "Python 3",
   "language": "python",
   "name": "python3"
  },
  "language_info": {
   "codemirror_mode": {
    "name": "ipython",
    "version": 3
   },
   "file_extension": ".py",
   "mimetype": "text/x-python",
   "name": "python",
   "nbconvert_exporter": "python",
   "pygments_lexer": "ipython3",
   "version": "3.7.6"
  }
 },
 "nbformat": 4,
 "nbformat_minor": 4
}
