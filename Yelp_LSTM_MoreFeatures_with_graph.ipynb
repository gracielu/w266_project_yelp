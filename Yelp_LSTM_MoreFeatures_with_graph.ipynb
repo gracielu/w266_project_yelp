{
  "nbformat": 4,
  "nbformat_minor": 0,
  "metadata": {
    "accelerator": "GPU",
    "colab": {
      "name": "Yelp_LSTM_MoreFeatures_with graph.ipynb",
      "provenance": [],
      "collapsed_sections": [],
      "include_colab_link": true
    },
    "kernelspec": {
      "display_name": "Python 3",
      "language": "python",
      "name": "python3"
    },
    "language_info": {
      "codemirror_mode": {
        "name": "ipython",
        "version": 3
      },
      "file_extension": ".py",
      "mimetype": "text/x-python",
      "name": "python",
      "nbconvert_exporter": "python",
      "pygments_lexer": "ipython3",
      "version": "3.7.6"
    }
  },
  "cells": [
    {
      "cell_type": "markdown",
      "metadata": {
        "id": "view-in-github",
        "colab_type": "text"
      },
      "source": [
        "<a href=\"https://colab.research.google.com/github/gracielu/w266_project_yelp/blob/master/Yelp_LSTM_MoreFeatures_with_graph.ipynb\" target=\"_parent\"><img src=\"https://colab.research.google.com/assets/colab-badge.svg\" alt=\"Open In Colab\"/></a>"
      ]
    },
    {
      "cell_type": "code",
      "metadata": {
        "colab_type": "code",
        "id": "2XZkZiHHv-iI",
        "colab": {}
      },
      "source": [
        "import numpy as np\n",
        "import pandas as pd\n",
        "import json\n",
        "import matplotlib.pyplot as plt"
      ],
      "execution_count": 388,
      "outputs": []
    },
    {
      "cell_type": "code",
      "metadata": {
        "colab_type": "code",
        "id": "XBFfpek3v-iY",
        "colab": {}
      },
      "source": [
        "import tensorflow as tf\n",
        "from tensorflow import keras\n",
        "\n",
        "from tensorflow.keras.models import Sequential\n",
        "from tensorflow.keras import layers\n",
        "from tensorflow.keras.layers import Dense\n",
        "from tensorflow.keras.layers import LSTM\n",
        "from tensorflow.keras.layers import Embedding\n",
        "from tensorflow.keras.preprocessing import sequence\n",
        "from tensorflow.keras.preprocessing.text import Tokenizer\n",
        "from tensorflow.keras.utils import to_categorical\n",
        "# fix random seed for reproducibility\n",
        "np.random.seed(7)"
      ],
      "execution_count": 389,
      "outputs": []
    },
    {
      "cell_type": "code",
      "metadata": {
        "colab_type": "code",
        "id": "3gPCvp-WuZGC",
        "colab": {
          "base_uri": "https://localhost:8080/",
          "height": 35
        },
        "outputId": "b802ef1c-f7dd-4a35-ecc9-a5e220c0a958"
      },
      "source": [
        "from google.colab import drive\n",
        "drive.mount('/contents/')"
      ],
      "execution_count": 390,
      "outputs": [
        {
          "output_type": "stream",
          "text": [
            "Drive already mounted at /contents/; to attempt to forcibly remount, call drive.mount(\"/contents/\", force_remount=True).\n"
          ],
          "name": "stdout"
        }
      ]
    },
    {
      "cell_type": "code",
      "metadata": {
        "colab_type": "code",
        "id": "hYV5wKCov-im",
        "colab": {}
      },
      "source": [
        "yelp_reviews=pd.read_csv(\"/contents/My Drive/W266/review_sample_1.csv\")"
      ],
      "execution_count": 391,
      "outputs": []
    },
    {
      "cell_type": "code",
      "metadata": {
        "id": "PzQaZ3LrCIgd",
        "colab_type": "code",
        "colab": {
          "base_uri": "https://localhost:8080/",
          "height": 69
        },
        "outputId": "3a844f7e-2b8e-4970-c7f5-13e41e159a70"
      },
      "source": [
        "yelp_reviews['labels'].value_counts()"
      ],
      "execution_count": 392,
      "outputs": [
        {
          "output_type": "execute_result",
          "data": {
            "text/plain": [
              "1    10000\n",
              "0    10000\n",
              "Name: labels, dtype: int64"
            ]
          },
          "metadata": {
            "tags": []
          },
          "execution_count": 392
        }
      ]
    },
    {
      "cell_type": "code",
      "metadata": {
        "colab_type": "code",
        "id": "Ety2fXOXv-i1",
        "colab": {
          "base_uri": "https://localhost:8080/",
          "height": 303
        },
        "outputId": "98d2f928-70f6-4548-cda3-c1506fb41c1b"
      },
      "source": [
        "yelp_reviews.head(2)"
      ],
      "execution_count": 393,
      "outputs": [
        {
          "output_type": "execute_result",
          "data": {
            "text/html": [
              "<div>\n",
              "<style scoped>\n",
              "    .dataframe tbody tr th:only-of-type {\n",
              "        vertical-align: middle;\n",
              "    }\n",
              "\n",
              "    .dataframe tbody tr th {\n",
              "        vertical-align: top;\n",
              "    }\n",
              "\n",
              "    .dataframe thead th {\n",
              "        text-align: right;\n",
              "    }\n",
              "</style>\n",
              "<table border=\"1\" class=\"dataframe\">\n",
              "  <thead>\n",
              "    <tr style=\"text-align: right;\">\n",
              "      <th></th>\n",
              "      <th>business_id</th>\n",
              "      <th>state</th>\n",
              "      <th>city</th>\n",
              "      <th>categories</th>\n",
              "      <th>review_count</th>\n",
              "      <th>category</th>\n",
              "      <th>cuisine</th>\n",
              "      <th>review_id</th>\n",
              "      <th>user_id</th>\n",
              "      <th>stars</th>\n",
              "      <th>useful</th>\n",
              "      <th>funny</th>\n",
              "      <th>cool</th>\n",
              "      <th>text</th>\n",
              "      <th>date</th>\n",
              "      <th>year</th>\n",
              "      <th>length</th>\n",
              "      <th>labels</th>\n",
              "      <th>business_cnt</th>\n",
              "      <th>American</th>\n",
              "      <th>Asian</th>\n",
              "      <th>Mexican</th>\n",
              "    </tr>\n",
              "  </thead>\n",
              "  <tbody>\n",
              "    <tr>\n",
              "      <th>0</th>\n",
              "      <td>DkIEhR8behaIoSexekWV0Q</td>\n",
              "      <td>AZ</td>\n",
              "      <td>Phoenix</td>\n",
              "      <td>Restaurants, American (Traditional), Italian, ...</td>\n",
              "      <td>402</td>\n",
              "      <td>Pizza</td>\n",
              "      <td>American</td>\n",
              "      <td>n2JRfEff_aA1A74pmF0ORQ</td>\n",
              "      <td>iY02D6gK7XdoZN6dTiprxw</td>\n",
              "      <td>5.0</td>\n",
              "      <td>0</td>\n",
              "      <td>0</td>\n",
              "      <td>0</td>\n",
              "      <td>We arrived around 7:45pm and the restaurant ne...</td>\n",
              "      <td>2019-07-01 03:10:08</td>\n",
              "      <td>2019</td>\n",
              "      <td>503</td>\n",
              "      <td>0</td>\n",
              "      <td>248</td>\n",
              "      <td>1</td>\n",
              "      <td>0</td>\n",
              "      <td>0</td>\n",
              "    </tr>\n",
              "    <tr>\n",
              "      <th>1</th>\n",
              "      <td>H0nIjiZNBTIwrNf4_DwNLQ</td>\n",
              "      <td>AZ</td>\n",
              "      <td>Mesa</td>\n",
              "      <td>Barbeque, Buffets, Restaurants, Korean, Steakh...</td>\n",
              "      <td>228</td>\n",
              "      <td>Barbeque</td>\n",
              "      <td>American</td>\n",
              "      <td>YnK192P3rMJa9t9z0clY8Q</td>\n",
              "      <td>pNb67lpeSZGXmOWXKWI_3w</td>\n",
              "      <td>2.0</td>\n",
              "      <td>0</td>\n",
              "      <td>0</td>\n",
              "      <td>0</td>\n",
              "      <td>Food is great. But it wasn't the worst experie...</td>\n",
              "      <td>2019-06-20 22:07:12</td>\n",
              "      <td>2019</td>\n",
              "      <td>389</td>\n",
              "      <td>0</td>\n",
              "      <td>164</td>\n",
              "      <td>1</td>\n",
              "      <td>0</td>\n",
              "      <td>0</td>\n",
              "    </tr>\n",
              "  </tbody>\n",
              "</table>\n",
              "</div>"
            ],
            "text/plain": [
              "              business_id state     city  ... American  Asian Mexican\n",
              "0  DkIEhR8behaIoSexekWV0Q    AZ  Phoenix  ...        1      0       0\n",
              "1  H0nIjiZNBTIwrNf4_DwNLQ    AZ     Mesa  ...        1      0       0\n",
              "\n",
              "[2 rows x 22 columns]"
            ]
          },
          "metadata": {
            "tags": []
          },
          "execution_count": 393
        }
      ]
    },
    {
      "cell_type": "code",
      "metadata": {
        "colab_type": "code",
        "id": "OJ2E8sDpv-jA",
        "colab": {
          "base_uri": "https://localhost:8080/",
          "height": 87
        },
        "outputId": "5501083d-221b-4b41-c9ad-c5db85648309"
      },
      "source": [
        "yelp_reviews['cuisine'].value_counts()"
      ],
      "execution_count": 394,
      "outputs": [
        {
          "output_type": "execute_result",
          "data": {
            "text/plain": [
              "American    13380\n",
              "Asian        3648\n",
              "Mexican      2972\n",
              "Name: cuisine, dtype: int64"
            ]
          },
          "metadata": {
            "tags": []
          },
          "execution_count": 394
        }
      ]
    },
    {
      "cell_type": "code",
      "metadata": {
        "colab_type": "code",
        "id": "qYLbxleHv-jR",
        "colab": {
          "base_uri": "https://localhost:8080/",
          "height": 121
        },
        "outputId": "744ac964-3f20-4535-a2f2-e291dbf74298"
      },
      "source": [
        "yelp_reviews['stars'].value_counts()"
      ],
      "execution_count": 395,
      "outputs": [
        {
          "output_type": "execute_result",
          "data": {
            "text/plain": [
              "5.0    8151\n",
              "4.0    5498\n",
              "1.0    2520\n",
              "3.0    2310\n",
              "2.0    1521\n",
              "Name: stars, dtype: int64"
            ]
          },
          "metadata": {
            "tags": []
          },
          "execution_count": 395
        }
      ]
    },
    {
      "cell_type": "code",
      "metadata": {
        "colab_type": "code",
        "id": "WhPW99_Nv-jW",
        "colab": {
          "base_uri": "https://localhost:8080/",
          "height": 53
        },
        "outputId": "452b4a48-9b97-4c7a-dd51-e1cd6ddf2474"
      },
      "source": [
        "yelp_reviews.text[5]"
      ],
      "execution_count": 396,
      "outputs": [
        {
          "output_type": "execute_result",
          "data": {
            "application/vnd.google.colaboratory.intrinsic+json": {
              "type": "string"
            },
            "text/plain": [
              "\"a sushi burrito...one word YUM! Staff is nice & super helpful..Don't be intimidated they will walk u thru it. Who knew a Japanese burrito could taste so good??\""
            ]
          },
          "metadata": {
            "tags": []
          },
          "execution_count": 396
        }
      ]
    },
    {
      "cell_type": "code",
      "metadata": {
        "colab_type": "code",
        "id": "f6wUY7APv-ja",
        "colab": {
          "base_uri": "https://localhost:8080/",
          "height": 416
        },
        "outputId": "7089f265-d87f-48ae-f54c-5bb9d2de6e0b"
      },
      "source": [
        "yelp_reviews.isnull().any()"
      ],
      "execution_count": 397,
      "outputs": [
        {
          "output_type": "execute_result",
          "data": {
            "text/plain": [
              "business_id     False\n",
              "state           False\n",
              "city            False\n",
              "categories      False\n",
              "review_count    False\n",
              "category        False\n",
              "cuisine         False\n",
              "review_id       False\n",
              "user_id         False\n",
              "stars           False\n",
              "useful          False\n",
              "funny           False\n",
              "cool            False\n",
              "text            False\n",
              "date            False\n",
              "year            False\n",
              "length          False\n",
              "labels          False\n",
              "business_cnt    False\n",
              "American        False\n",
              "Asian           False\n",
              "Mexican         False\n",
              "dtype: bool"
            ]
          },
          "metadata": {
            "tags": []
          },
          "execution_count": 397
        }
      ]
    },
    {
      "cell_type": "code",
      "metadata": {
        "id": "u5juFTCwgH0c",
        "colab_type": "code",
        "colab": {
          "base_uri": "https://localhost:8080/",
          "height": 225
        },
        "outputId": "176d742f-e7d1-42ee-cc29-07cbd15a05f7"
      },
      "source": [
        "yelp_reviews.useful# reviews=reviews.groupby('cuisine').apply(lambda s: s.sample(50000))"
      ],
      "execution_count": 398,
      "outputs": [
        {
          "output_type": "execute_result",
          "data": {
            "text/plain": [
              "0          0\n",
              "1          0\n",
              "2          0\n",
              "3          0\n",
              "4          0\n",
              "        ... \n",
              "19995     10\n",
              "19996     11\n",
              "19997     14\n",
              "19998     14\n",
              "19999    146\n",
              "Name: useful, Length: 20000, dtype: int64"
            ]
          },
          "metadata": {
            "tags": []
          },
          "execution_count": 398
        }
      ]
    },
    {
      "cell_type": "code",
      "metadata": {
        "colab_type": "code",
        "id": "P18vw-P5v-jg",
        "colab": {
          "base_uri": "https://localhost:8080/",
          "height": 69
        },
        "outputId": "ff0811af-f29b-489e-dc9e-ba6522c633e8"
      },
      "source": [
        "yelp_reviews['labels'].value_counts()"
      ],
      "execution_count": 399,
      "outputs": [
        {
          "output_type": "execute_result",
          "data": {
            "text/plain": [
              "1    10000\n",
              "0    10000\n",
              "Name: labels, dtype: int64"
            ]
          },
          "metadata": {
            "tags": []
          },
          "execution_count": 399
        }
      ]
    },
    {
      "cell_type": "code",
      "metadata": {
        "id": "Jpo9FRtnZmMy",
        "colab_type": "code",
        "colab": {}
      },
      "source": [
        "yelp_sample = yelp_reviews.copy()\n",
        "# yelp_sample = yelp_reviews[yelp_reviews['cuisine'] == 'Asian'].copy()"
      ],
      "execution_count": 400,
      "outputs": []
    },
    {
      "cell_type": "code",
      "metadata": {
        "id": "0M5LL_GYAcM5",
        "colab_type": "code",
        "colab": {}
      },
      "source": [
        "yelp_sample['star_deviation'] = yelp_sample['stars'] - yelp_sample.stars.mean()"
      ],
      "execution_count": 401,
      "outputs": []
    },
    {
      "cell_type": "markdown",
      "metadata": {
        "id": "1oU1am27AOVa",
        "colab_type": "text"
      },
      "source": [
        "### Data Preprocessing"
      ]
    },
    {
      "cell_type": "code",
      "metadata": {
        "colab_type": "code",
        "id": "Fo_SMfNBv-jn",
        "colab": {}
      },
      "source": [
        "texts = yelp_sample[\"text\"].values\n",
        "labels = yelp_sample[\"labels\"].values\n",
        "stars = yelp_sample[\"star_deviation\"].values\n",
        "#stars = yelp_sample[\"star_dummy\"].values\n",
        "#stars = yelp_sample[\"stars\"].values\n",
        "business_cnt = yelp_sample[\"business_cnt\"].values\n",
        "length = yelp_sample[\"length\"].values\n",
        "American = yelp_sample[\"American\"].values\n",
        "Asian = yelp_sample[\"Asian\"].values\n",
        "Mexican = yelp_sample[\"Mexican\"].values"
      ],
      "execution_count": 402,
      "outputs": []
    },
    {
      "cell_type": "code",
      "metadata": {
        "colab_type": "code",
        "id": "mH6z_Yu1v-jq",
        "colab": {
          "base_uri": "https://localhost:8080/",
          "height": 35
        },
        "outputId": "f41358bb-1ff8-4383-ae5e-f413abf38019"
      },
      "source": [
        "yelp_reviews[\"labels\"].values[:5]"
      ],
      "execution_count": 403,
      "outputs": [
        {
          "output_type": "execute_result",
          "data": {
            "text/plain": [
              "array([0, 0, 0, 0, 0])"
            ]
          },
          "metadata": {
            "tags": []
          },
          "execution_count": 403
        }
      ]
    },
    {
      "cell_type": "code",
      "metadata": {
        "colab_type": "code",
        "id": "q2OXqWwtv-ju",
        "colab": {
          "base_uri": "https://localhost:8080/",
          "height": 121
        },
        "outputId": "1d5be4a4-4605-40a9-d6d0-74aff0c3f867"
      },
      "source": [
        "print(texts.shape)\n",
        "print(labels.shape)\n",
        "print(stars.shape)\n",
        "print(business_cnt.shape)\n",
        "print(American.shape)\n",
        "print(length.shape)"
      ],
      "execution_count": 404,
      "outputs": [
        {
          "output_type": "stream",
          "text": [
            "(20000,)\n",
            "(20000,)\n",
            "(20000,)\n",
            "(20000,)\n",
            "(20000,)\n",
            "(20000,)\n"
          ],
          "name": "stdout"
        }
      ]
    },
    {
      "cell_type": "code",
      "metadata": {
        "colab_type": "code",
        "id": "7BqDs7Idv-jz",
        "colab": {
          "base_uri": "https://localhost:8080/",
          "height": 35
        },
        "outputId": "8fab7140-b015-4e7f-b4ac-ab82d95378ff"
      },
      "source": [
        "vocab_size=10000\n",
        "max_len=500\n",
        "\n",
        "tokenizer = Tokenizer(num_words=vocab_size)\n",
        "tokenizer.fit_on_texts(texts)\n",
        "sequences = tokenizer.texts_to_sequences(texts)\n",
        "\n",
        "word_index = tokenizer.word_index\n",
        "print('Found %s unique tokens.' % len(word_index))"
      ],
      "execution_count": 405,
      "outputs": [
        {
          "output_type": "stream",
          "text": [
            "Found 41265 unique tokens.\n"
          ],
          "name": "stdout"
        }
      ]
    },
    {
      "cell_type": "code",
      "metadata": {
        "colab_type": "code",
        "id": "nYJHkvbfv-j3",
        "colab": {
          "base_uri": "https://localhost:8080/",
          "height": 55
        },
        "outputId": "ee4ba43e-bca1-4afc-b958-439799f15c95"
      },
      "source": [
        "print(sequences[:1])"
      ],
      "execution_count": 406,
      "outputs": [
        {
          "output_type": "stream",
          "text": [
            "[[13, 402, 171, 502, 6953, 2, 1, 73, 169, 476, 486, 574, 734, 25, 431, 774, 3294, 776, 6, 7192, 28, 257, 4103, 1284, 71, 1368, 6, 1, 259, 2, 806, 7, 46, 1040, 1, 25, 6, 1111, 1265, 1889, 7, 2418, 88, 6, 103, 2, 320, 6, 217, 495, 12, 2203, 672, 7, 75, 1, 295, 6, 647, 2, 217, 3766, 12, 212, 131, 1, 1495, 22, 108, 2, 1213, 2, 8, 6, 1, 102, 1416, 305, 154, 107, 21]]\n"
          ],
          "name": "stdout"
        }
      ]
    },
    {
      "cell_type": "code",
      "metadata": {
        "colab_type": "code",
        "id": "LFJdQrBSv-j6",
        "colab": {
          "base_uri": "https://localhost:8080/",
          "height": 52
        },
        "outputId": "1dea7c9a-ff8a-4f00-ab2d-ad004ebb7d2b"
      },
      "source": [
        "print(list(word_index.items())[0])\n",
        "print(list(word_index.items())[100])"
      ],
      "execution_count": 407,
      "outputs": [
        {
          "output_type": "stream",
          "text": [
            "('the', 1)\n",
            "(\"didn't\", 101)\n"
          ],
          "name": "stdout"
        }
      ]
    },
    {
      "cell_type": "code",
      "metadata": {
        "colab_type": "code",
        "id": "RhInu4Opv-j9",
        "colab": {
          "base_uri": "https://localhost:8080/",
          "height": 35
        },
        "outputId": "afeff3c6-6147-412b-ad87-24c730750bf4"
      },
      "source": [
        "min(list(word_index.values()))"
      ],
      "execution_count": 408,
      "outputs": [
        {
          "output_type": "execute_result",
          "data": {
            "text/plain": [
              "1"
            ]
          },
          "metadata": {
            "tags": []
          },
          "execution_count": 408
        }
      ]
    },
    {
      "cell_type": "code",
      "metadata": {
        "colab_type": "code",
        "id": "xlH6mprEv-kA",
        "colab": {}
      },
      "source": [
        "data = sequence.pad_sequences(sequences, \n",
        "                              maxlen=max_len,\n",
        "                              padding='post', \n",
        "                              truncating='post'\n",
        "                             )"
      ],
      "execution_count": 409,
      "outputs": []
    },
    {
      "cell_type": "code",
      "metadata": {
        "colab_type": "code",
        "id": "4acugQi6v-kC",
        "colab": {
          "base_uri": "https://localhost:8080/",
          "height": 104
        },
        "outputId": "3d3b0765-b178-43f3-dde6-389c86fef985"
      },
      "source": [
        "data[0:5]"
      ],
      "execution_count": 410,
      "outputs": [
        {
          "output_type": "execute_result",
          "data": {
            "text/plain": [
              "array([[  13,  402,  171, ...,    0,    0,    0],\n",
              "       [  25,    9,   36, ...,    0,    0,    0],\n",
              "       [  15,  291,    2, ...,    0,    0,    0],\n",
              "       [  15,  100, 2002, ...,    0,    0,    0],\n",
              "       [ 277,  195,  420, ...,    0,    0,    0]], dtype=int32)"
            ]
          },
          "metadata": {
            "tags": []
          },
          "execution_count": 410
        }
      ]
    },
    {
      "cell_type": "code",
      "metadata": {
        "colab_type": "code",
        "id": "fSKRpMrYv-kF",
        "colab": {
          "base_uri": "https://localhost:8080/",
          "height": 69
        },
        "outputId": "326b5903-ef3c-4e52-ef2a-b1bea189b27d"
      },
      "source": [
        "labels_b = to_categorical(np.asarray(labels))\n",
        "print('Shape of data:', data.shape)\n",
        "print('Shape of label:', labels.shape)\n",
        "print('Shape of label:', labels_b.shape)"
      ],
      "execution_count": 411,
      "outputs": [
        {
          "output_type": "stream",
          "text": [
            "Shape of data: (20000, 500)\n",
            "Shape of label: (20000,)\n",
            "Shape of label: (20000, 2)\n"
          ],
          "name": "stdout"
        }
      ]
    },
    {
      "cell_type": "code",
      "metadata": {
        "colab_type": "code",
        "id": "ndqCRx6qv-kI",
        "colab": {}
      },
      "source": [
        "VALIDATION_SPLIT=0.2\n",
        "\n",
        "indices = np.arange(data.shape[0])\n",
        "np.random.shuffle(indices)\n",
        "data = data[indices]\n",
        "labels = labels[indices]\n",
        "labels_b = labels_b[indices]\n",
        "\n",
        "stars = stars[indices]\n",
        "business_cnt = business_cnt[indices]\n",
        "length = length[indices]\n",
        "American = American[indices]\n",
        "Asian = Asian[indices]\n",
        "Mexican = Mexican[indices]\n",
        "\n",
        "nb_validation_samples = int(VALIDATION_SPLIT * data.shape[0])\n",
        "\n",
        "x_train = data[:-nb_validation_samples]\n",
        "y_train = labels[:-nb_validation_samples]\n",
        "y_train_b = labels_b[:-nb_validation_samples]\n",
        "x_test = data[-nb_validation_samples:]\n",
        "y_test = labels[-nb_validation_samples:]\n",
        "y_test_b = labels_b[-nb_validation_samples:]\n",
        "\n",
        "stars_train = stars[:-nb_validation_samples]\n",
        "stars_test = stars[-nb_validation_samples:]\n",
        "\n",
        "business_cnt_train = business_cnt[:-nb_validation_samples]\n",
        "business_cnt_test = business_cnt[-nb_validation_samples:]\n",
        "\n",
        "length_train = length[:-nb_validation_samples]\n",
        "length_test = length[-nb_validation_samples:]\n",
        "\n",
        "American_train = American[:-nb_validation_samples]\n",
        "American_test = American[-nb_validation_samples:]\n",
        "\n",
        "Asian_train = Asian[:-nb_validation_samples]\n",
        "Asian_test = Asian[-nb_validation_samples:]\n",
        "\n",
        "Mexican_train = Mexican[:-nb_validation_samples]\n",
        "Mexican_test = Mexican[-nb_validation_samples:]\n"
      ],
      "execution_count": 412,
      "outputs": []
    },
    {
      "cell_type": "code",
      "metadata": {
        "colab_type": "code",
        "id": "W7rYliwQv-kK",
        "colab": {
          "base_uri": "https://localhost:8080/",
          "height": 121
        },
        "outputId": "aed73993-d730-434a-a6ad-391497728301"
      },
      "source": [
        "print('Shape of x_train:', x_train.shape)\n",
        "print('Shape of x_test:', x_test.shape)\n",
        "print('Shape of y_train:', y_train.shape)\n",
        "print('Shape of y_train_b:', y_train_b.shape)\n",
        "print('Shape of y_test:', y_test.shape)\n",
        "print('Shape of y_test_b:', y_test_b.shape)"
      ],
      "execution_count": 413,
      "outputs": [
        {
          "output_type": "stream",
          "text": [
            "Shape of x_train: (16000, 500)\n",
            "Shape of x_test: (4000, 500)\n",
            "Shape of y_train: (16000,)\n",
            "Shape of y_train_b: (16000, 2)\n",
            "Shape of y_test: (4000,)\n",
            "Shape of y_test_b: (4000, 2)\n"
          ],
          "name": "stdout"
        }
      ]
    },
    {
      "cell_type": "code",
      "metadata": {
        "colab_type": "code",
        "id": "6gfklfO6v-kN",
        "colab": {
          "base_uri": "https://localhost:8080/",
          "height": 87
        },
        "outputId": "6e2ede1f-672c-4ef5-ed78-bfc741c82fa5"
      },
      "source": [
        "print(x_train[0:3])\n",
        "print(y_train[0:3])"
      ],
      "execution_count": 414,
      "outputs": [
        {
          "output_type": "stream",
          "text": [
            "[[ 123   27  221 ...    0    0    0]\n",
            " [ 574   54  392 ...    0    0    0]\n",
            " [  15 3959 7379 ...    0    0    0]]\n",
            "[1 0 1]\n"
          ],
          "name": "stdout"
        }
      ]
    },
    {
      "cell_type": "code",
      "metadata": {
        "id": "NtzK_FlxBGFg",
        "colab_type": "code",
        "colab": {}
      },
      "source": [
        "dat2t = pd.DataFrame(stars_test, columns = ['stars'])\n",
        "dat3t = pd.DataFrame(business_cnt_test, columns = ['business_cnt'])\n",
        "dat4t = pd.DataFrame(length_test, columns = ['length'])\n",
        "dat5t = pd.DataFrame(American_test, columns = ['American'])\n",
        "dat6t = pd.DataFrame(Asian_test, columns = ['Asian'])\n",
        "dat7t = pd.DataFrame(Mexican_test, columns = ['Mexican'])\n",
        "\n",
        "#x2_test_tmp = pd.concat([dat2t, dat3t, dat4t, dat5t, dat6t, dat7t], axis=1)\n",
        "\n",
        "x2_test_tmp = pd.concat([dat2t, dat3t, dat4t], axis=1)\n",
        "\n",
        "x2_test=(x2_test_tmp-x2_test_tmp.mean())/x2_test_tmp.std()\n",
        "\n",
        "x2_test = np.array(x2_test).reshape(int(VALIDATION_SPLIT * data.shape[0]), x2_test_tmp.shape[1])"
      ],
      "execution_count": 415,
      "outputs": []
    },
    {
      "cell_type": "code",
      "metadata": {
        "id": "ZBhMh5bOBH2H",
        "colab_type": "code",
        "colab": {
          "base_uri": "https://localhost:8080/",
          "height": 219
        },
        "outputId": "881aa946-2850-457d-d257-8c4c4ba00074"
      },
      "source": [
        "dat2 = pd.DataFrame(stars_train, columns = ['stars'])\n",
        "dat3 = pd.DataFrame(business_cnt_train, columns = ['business_cnt'])\n",
        "dat4 = pd.DataFrame(length_train, columns = ['length'])\n",
        "dat5 = pd.DataFrame(American_train, columns = ['American'])\n",
        "dat6 = pd.DataFrame(Asian_train, columns = ['Asian'])\n",
        "dat7 = pd.DataFrame(Mexican_train, columns = ['Mexican'])\n",
        "\n",
        "#x2_train_tmp = pd.concat([dat2, dat3, dat4, dat5, dat6, dat7], axis=1)\n",
        "x2_train_tmp = pd.concat([dat2, dat3, dat4], axis=1)\n",
        "\n",
        "print(x2_train_tmp.shape)\n",
        "x2_train_tmp.head()"
      ],
      "execution_count": 416,
      "outputs": [
        {
          "output_type": "stream",
          "text": [
            "(16000, 3)\n"
          ],
          "name": "stdout"
        },
        {
          "output_type": "execute_result",
          "data": {
            "text/html": [
              "<div>\n",
              "<style scoped>\n",
              "    .dataframe tbody tr th:only-of-type {\n",
              "        vertical-align: middle;\n",
              "    }\n",
              "\n",
              "    .dataframe tbody tr th {\n",
              "        vertical-align: top;\n",
              "    }\n",
              "\n",
              "    .dataframe thead th {\n",
              "        text-align: right;\n",
              "    }\n",
              "</style>\n",
              "<table border=\"1\" class=\"dataframe\">\n",
              "  <thead>\n",
              "    <tr style=\"text-align: right;\">\n",
              "      <th></th>\n",
              "      <th>stars</th>\n",
              "      <th>business_cnt</th>\n",
              "      <th>length</th>\n",
              "    </tr>\n",
              "  </thead>\n",
              "  <tbody>\n",
              "    <tr>\n",
              "      <th>0</th>\n",
              "      <td>0.23805</td>\n",
              "      <td>146</td>\n",
              "      <td>394</td>\n",
              "    </tr>\n",
              "    <tr>\n",
              "      <th>1</th>\n",
              "      <td>0.23805</td>\n",
              "      <td>356</td>\n",
              "      <td>336</td>\n",
              "    </tr>\n",
              "    <tr>\n",
              "      <th>2</th>\n",
              "      <td>-1.76195</td>\n",
              "      <td>128</td>\n",
              "      <td>1012</td>\n",
              "    </tr>\n",
              "    <tr>\n",
              "      <th>3</th>\n",
              "      <td>1.23805</td>\n",
              "      <td>125</td>\n",
              "      <td>755</td>\n",
              "    </tr>\n",
              "    <tr>\n",
              "      <th>4</th>\n",
              "      <td>-2.76195</td>\n",
              "      <td>103</td>\n",
              "      <td>986</td>\n",
              "    </tr>\n",
              "  </tbody>\n",
              "</table>\n",
              "</div>"
            ],
            "text/plain": [
              "     stars  business_cnt  length\n",
              "0  0.23805           146     394\n",
              "1  0.23805           356     336\n",
              "2 -1.76195           128    1012\n",
              "3  1.23805           125     755\n",
              "4 -2.76195           103     986"
            ]
          },
          "metadata": {
            "tags": []
          },
          "execution_count": 416
        }
      ]
    },
    {
      "cell_type": "code",
      "metadata": {
        "id": "--ONtc5RBdsJ",
        "colab_type": "code",
        "colab": {}
      },
      "source": [
        "x2_train=(x2_train_tmp-x2_train_tmp.mean())/x2_train_tmp.std()\n",
        "x2_train = np.array(x2_train).reshape(int((1-VALIDATION_SPLIT) * data.shape[0]), x2_train_tmp.shape[1])"
      ],
      "execution_count": 417,
      "outputs": []
    },
    {
      "cell_type": "code",
      "metadata": {
        "id": "-3Bly9uaBstW",
        "colab_type": "code",
        "colab": {
          "base_uri": "https://localhost:8080/",
          "height": 52
        },
        "outputId": "0f8b7828-f2ab-4ec0-b1f2-5c4ec85d6f31"
      },
      "source": [
        "# Explore other features\n",
        "\n",
        "from sklearn.linear_model import LogisticRegression\n",
        "from nltk.classify.scikitlearn import SklearnClassifier\n",
        "from sklearn import metrics\n",
        "clf = LogisticRegression()\n",
        "clf.fit(x2_train, y_train)\n",
        "predicted= clf.predict(x2_test)\n",
        "\n",
        "print(\"Logistic Regression accuracy:\", metrics.accuracy_score(y_test, predicted))\n",
        "\n",
        "print(clf.coef_)"
      ],
      "execution_count": 418,
      "outputs": [
        {
          "output_type": "stream",
          "text": [
            "Logistic Regression accuracy: 0.7805\n",
            "[[ 0.09670427 -0.08461461  2.49166236]]\n"
          ],
          "name": "stdout"
        }
      ]
    },
    {
      "cell_type": "markdown",
      "metadata": {
        "colab_type": "text",
        "id": "nXqatziEv-kP"
      },
      "source": [
        "### Simple LSTM Classifier"
      ]
    },
    {
      "cell_type": "code",
      "metadata": {
        "colab_type": "code",
        "id": "4f_-Ox4Rv-kQ",
        "colab": {
          "base_uri": "https://localhost:8080/",
          "height": 295
        },
        "outputId": "ab22048b-9341-4c4a-95cc-90f88c9921d2"
      },
      "source": [
        "#Simple LSTM Classifier\n",
        "embedding_units = 200\n",
        "rnn_units = 256\n",
        "#attn_units=128\n",
        "\n",
        "#Simple LSTM Classifier\n",
        "sequence_input = layers.Input(shape=(max_len,),name=\"input_layer\", dtype='int32')\n",
        "embeddings = keras.layers.Embedding(input_dim=vocab_size, output_dim=embedding_units, input_length=max_len,name=\"embedding_layer\")(sequence_input)\n",
        "rnn_output=tf.keras.layers.LSTM(rnn_units,name='LSTM')(embeddings)\n",
        "output = keras.layers.Dense(1, activation='sigmoid',name='output_layer')(rnn_output)\n",
        "simple_model = keras.Model(inputs=sequence_input, outputs=output)\n",
        "\n",
        "simple_model.summary()"
      ],
      "execution_count": 419,
      "outputs": [
        {
          "output_type": "stream",
          "text": [
            "Model: \"model_24\"\n",
            "_________________________________________________________________\n",
            "Layer (type)                 Output Shape              Param #   \n",
            "=================================================================\n",
            "input_layer (InputLayer)     [(None, 500)]             0         \n",
            "_________________________________________________________________\n",
            "embedding_layer (Embedding)  (None, 500, 200)          2000000   \n",
            "_________________________________________________________________\n",
            "LSTM (LSTM)                  (None, 256)               467968    \n",
            "_________________________________________________________________\n",
            "output_layer (Dense)         (None, 1)                 257       \n",
            "=================================================================\n",
            "Total params: 2,468,225\n",
            "Trainable params: 2,468,225\n",
            "Non-trainable params: 0\n",
            "_________________________________________________________________\n"
          ],
          "name": "stdout"
        }
      ]
    },
    {
      "cell_type": "code",
      "metadata": {
        "colab_type": "code",
        "id": "qar5A0Kev-kT",
        "colab": {}
      },
      "source": [
        "simple_model.compile(optimizer='adam',\n",
        "              loss='binary_crossentropy',\n",
        "              metrics=['accuracy'])\n",
        "\n",
        "early_stopping_callback = keras.callbacks.EarlyStopping(monitor='val_loss',\n",
        "                                                        min_delta=0,\n",
        "                                                        patience=3,\n",
        "                                                        verbose=0, mode='auto')"
      ],
      "execution_count": 420,
      "outputs": []
    },
    {
      "cell_type": "code",
      "metadata": {
        "colab_type": "code",
        "id": "UAMgPmm7v-kV",
        "colab": {
          "base_uri": "https://localhost:8080/",
          "height": 191
        },
        "outputId": "c570d170-e202-444f-a56d-7a7caf95d042"
      },
      "source": [
        "history = simple_model.fit(x_train,\n",
        "                    y_train,\n",
        "                    epochs=5,\n",
        "                    batch_size=200,\n",
        "                    validation_split=.3, verbose=1, callbacks=[early_stopping_callback])"
      ],
      "execution_count": 421,
      "outputs": [
        {
          "output_type": "stream",
          "text": [
            "Epoch 1/5\n",
            "56/56 [==============================] - 11s 192ms/step - loss: 0.7001 - accuracy: 0.5279 - val_loss: 0.6823 - val_accuracy: 0.5473\n",
            "Epoch 2/5\n",
            "56/56 [==============================] - 11s 188ms/step - loss: 0.6882 - accuracy: 0.5312 - val_loss: 0.6821 - val_accuracy: 0.4885\n",
            "Epoch 3/5\n",
            "56/56 [==============================] - 11s 188ms/step - loss: 0.6753 - accuracy: 0.5283 - val_loss: 0.6695 - val_accuracy: 0.5546\n",
            "Epoch 4/5\n",
            "56/56 [==============================] - 11s 189ms/step - loss: 0.6788 - accuracy: 0.5290 - val_loss: 0.6734 - val_accuracy: 0.5471\n",
            "Epoch 5/5\n",
            "56/56 [==============================] - 11s 188ms/step - loss: 0.6735 - accuracy: 0.5271 - val_loss: 0.6756 - val_accuracy: 0.4885\n"
          ],
          "name": "stdout"
        }
      ]
    },
    {
      "cell_type": "code",
      "metadata": {
        "colab_type": "code",
        "id": "x0fBdm8Jv-kX",
        "colab": {
          "base_uri": "https://localhost:8080/",
          "height": 35
        },
        "outputId": "12cdcdb3-0e7e-4afb-b366-4caba7d5e0d1"
      },
      "source": [
        "# Final evaluation of the model\n",
        "scores = simple_model.evaluate(x_test, y_test, verbose=0)\n",
        "print(\"Accuracy: %.2f%%\" % (scores[1]*100))"
      ],
      "execution_count": 422,
      "outputs": [
        {
          "output_type": "stream",
          "text": [
            "Accuracy: 50.45%\n"
          ],
          "name": "stdout"
        }
      ]
    },
    {
      "cell_type": "code",
      "metadata": {
        "id": "Q3tfkOuJx9Kz",
        "colab_type": "code",
        "colab": {
          "base_uri": "https://localhost:8080/",
          "height": 295
        },
        "outputId": "ea7489fa-475f-42bc-bbec-b8378a658c62"
      },
      "source": [
        "# summarize history for accuracy\n",
        "\n",
        "\n",
        "plt.plot(history.history['accuracy'])\n",
        "plt.plot(history.history['val_accuracy'])\n",
        "plt.title('model accuracy')\n",
        "plt.ylabel('accuracy')\n",
        "plt.xlabel('epoch')\n",
        "plt.legend(['train', 'test'], loc='upper left')\n",
        "plt.show()"
      ],
      "execution_count": 423,
      "outputs": [
        {
          "output_type": "display_data",
          "data": {
            "image/png": "[encoded data removed]",
            "text/plain": [
              "<Figure size 432x288 with 1 Axes>"
            ]
          },
          "metadata": {
            "tags": [],
            "needs_background": "light"
          }
        }
      ]
    },
    {
      "cell_type": "markdown",
      "metadata": {
        "colab_type": "text",
        "id": "9TUvX_7ov-kZ"
      },
      "source": [
        "### Bidirectional LSTM Classifier"
      ]
    },
    {
      "cell_type": "code",
      "metadata": {
        "colab_type": "code",
        "id": "GngpS8iMv-kc",
        "colab": {
          "base_uri": "https://localhost:8080/",
          "height": 295
        },
        "outputId": "9138c9eb-d6db-4021-fa6d-f006c8161c9e"
      },
      "source": [
        "from tensorflow.keras.layers import Bidirectional\n",
        "\n",
        "sequence_input = layers.Input(shape=(max_len,),name=\"input_layer\", dtype='int32')\n",
        "embeddings = keras.layers.Embedding(input_dim=vocab_size, output_dim=embedding_units, input_length=max_len,name=\"embedding_layer\")(sequence_input)\n",
        "rnn_output=Bidirectional(tf.keras.layers.LSTM(rnn_units,name='LSTM'))(embeddings)\n",
        "output = keras.layers.Dense(1, activation='sigmoid',name='output_layer')(rnn_output)\n",
        "bidirectional_model = keras.Model(inputs=sequence_input, outputs=output)\n",
        "\n",
        "bidirectional_model.summary()\n",
        "\n",
        "bidirectional_model.compile(optimizer='adam',\n",
        "              loss='binary_crossentropy',\n",
        "              metrics=['accuracy'])\n",
        "\n",
        "early_stopping_callback = keras.callbacks.EarlyStopping(monitor='val_loss',\n",
        "                                                        min_delta=0,\n",
        "                                                        patience=3,\n",
        "                                                        verbose=0, mode='auto')"
      ],
      "execution_count": 424,
      "outputs": [
        {
          "output_type": "stream",
          "text": [
            "Model: \"model_25\"\n",
            "_________________________________________________________________\n",
            "Layer (type)                 Output Shape              Param #   \n",
            "=================================================================\n",
            "input_layer (InputLayer)     [(None, 500)]             0         \n",
            "_________________________________________________________________\n",
            "embedding_layer (Embedding)  (None, 500, 200)          2000000   \n",
            "_________________________________________________________________\n",
            "bidirectional_5 (Bidirection (None, 512)               935936    \n",
            "_________________________________________________________________\n",
            "output_layer (Dense)         (None, 1)                 513       \n",
            "=================================================================\n",
            "Total params: 2,936,449\n",
            "Trainable params: 2,936,449\n",
            "Non-trainable params: 0\n",
            "_________________________________________________________________\n"
          ],
          "name": "stdout"
        }
      ]
    },
    {
      "cell_type": "code",
      "metadata": {
        "colab_type": "code",
        "id": "fu7qgTx6v-kf",
        "colab": {
          "base_uri": "https://localhost:8080/",
          "height": 87
        },
        "outputId": "bb989b69-d3ae-449e-f990-a24385f895df"
      },
      "source": [
        "history = bidirectional_model.fit(x_train, y_train, validation_split=.3,\n",
        "          epochs=2, batch_size=200);"
      ],
      "execution_count": 425,
      "outputs": [
        {
          "output_type": "stream",
          "text": [
            "Epoch 1/2\n",
            "56/56 [==============================] - 19s 347ms/step - loss: 0.5526 - accuracy: 0.7221 - val_loss: 0.4585 - val_accuracy: 0.8050\n",
            "Epoch 2/2\n",
            "56/56 [==============================] - 19s 334ms/step - loss: 0.4189 - accuracy: 0.8237 - val_loss: 0.4682 - val_accuracy: 0.7981\n"
          ],
          "name": "stdout"
        }
      ]
    },
    {
      "cell_type": "code",
      "metadata": {
        "colab_type": "code",
        "id": "Ldb6HhuAGINC",
        "colab": {
          "base_uri": "https://localhost:8080/",
          "height": 35
        },
        "outputId": "afdf845b-f7fd-4aa5-dee1-44c4fa5036d5"
      },
      "source": [
        "scores = bidirectional_model.evaluate(x_test, y_test, verbose=0)\n",
        "print(\"Accuracy: %.2f%%\" % (scores[1]*100))"
      ],
      "execution_count": 426,
      "outputs": [
        {
          "output_type": "stream",
          "text": [
            "Accuracy: 79.80%\n"
          ],
          "name": "stdout"
        }
      ]
    },
    {
      "cell_type": "code",
      "metadata": {
        "id": "PB0_RKuwu2pT",
        "colab_type": "code",
        "colab": {
          "base_uri": "https://localhost:8080/",
          "height": 295
        },
        "outputId": "d43434e5-9043-4d65-bcbf-e776071ebeeb"
      },
      "source": [
        "# summarize history for accuracy\n",
        "\n",
        "\n",
        "plt.plot(history.history['accuracy'])\n",
        "plt.plot(history.history['val_accuracy'])\n",
        "plt.title('model accuracy')\n",
        "plt.ylabel('accuracy')\n",
        "plt.xlabel('epoch')\n",
        "plt.legend(['train', 'test'], loc='upper left')\n",
        "plt.show()"
      ],
      "execution_count": 427,
      "outputs": [
        {
          "output_type": "display_data",
          "data": {
            "image/png": "[encoded data removed]",
            "text/plain": [
              "<Figure size 432x288 with 1 Axes>"
            ]
          },
          "metadata": {
            "tags": [],
            "needs_background": "light"
          }
        }
      ]
    },
    {
      "cell_type": "markdown",
      "metadata": {
        "colab_type": "text",
        "id": "METxMGE7v-kh"
      },
      "source": [
        "### LSTM Classifier with attention"
      ]
    },
    {
      "cell_type": "code",
      "metadata": {
        "colab_type": "code",
        "id": "T6xRNOIAv-ki",
        "colab": {}
      },
      "source": [
        "#our attention layer, uses Bahdanau Attention from 2015 paper that's essentially weighted sum, also known as \"additive attention\"\n",
        "class BahdanauAttention(layers.Layer):\n",
        "    def __init__(self, units):\n",
        "        super(BahdanauAttention, self).__init__()\n",
        "        self.W1 = tf.keras.layers.Dense(units)\n",
        "        self.W2 = tf.keras.layers.Dense(units)\n",
        "        self.V = tf.keras.layers.Dense(1)\n",
        "        self._name=\"Attention\"\n",
        " \n",
        "    def call(self, features, hidden):\n",
        "    # hidden state shape == (batch_size, hidden size)\n",
        "    # hidden_with_time_axis shape == (batch_size, 1, hidden size)\n",
        "    # values shape == (batch_size, max_len, hidden size)\n",
        "    # we are doing this to broadcast addition along the time axis to calculate the score\n",
        "        hidden_with_time_axis = tf.expand_dims(hidden, 1)\n",
        "    # score shape == (batch_size, max_length, 1)\n",
        "    # we get 1 at the last axis because we are applying score to self.V\n",
        "    # the shape of the tensor before applying self.V is (batch_size, max_length, units)\n",
        "        score = tf.nn.tanh(self.W1(features) + self.W2(hidden_with_time_axis))\n",
        "        \n",
        "    # attention_weights shape == (batch_size, max_length, 1)\n",
        "        attention_weights = tf.nn.softmax(self.V(score), axis=1)\n",
        "    # context_vector shape after sum == (batch_size, hidden_size)\n",
        "        context_vector = attention_weights * features\n",
        "        context_vector = tf.reduce_sum(context_vector, axis=1)\n",
        " \n",
        "        return context_vector, attention_weights"
      ],
      "execution_count": 428,
      "outputs": []
    },
    {
      "cell_type": "code",
      "metadata": {
        "colab_type": "code",
        "id": "nsOVvLufv-kk",
        "colab": {
          "base_uri": "https://localhost:8080/",
          "height": 329
        },
        "outputId": "c2e371df-aced-4831-975e-e29b3736bf79"
      },
      "source": [
        "#LSTM Classifier with Attention\n",
        "attn_units=128\n",
        "\n",
        "sequence_input = layers.Input(shape=(max_len,),name=\"input_layer\", dtype='int32')\n",
        "embeddings = keras.layers.Embedding(input_dim=vocab_size, output_dim=embedding_units, input_length=max_len,name=\"embedding_layer\")(sequence_input)\n",
        "lstm_output,hidden_h, hidden_c=tf.keras.layers.LSTM(rnn_units,name='LSTM',return_sequences=True,\n",
        "                                      return_state=True)(embeddings)\n",
        "context_vector, attention_weights = BahdanauAttention(attn_units)(lstm_output, hidden_h)\n",
        "output = keras.layers.Dense(1, activation='sigmoid',name='output_layer')(context_vector)\n",
        "attn_model = keras.Model(inputs=sequence_input, outputs=output)\n",
        " \n",
        "# summarize layers\n",
        "attn_model.summary()"
      ],
      "execution_count": 429,
      "outputs": [
        {
          "output_type": "stream",
          "text": [
            "Model: \"model_26\"\n",
            "_________________________________________________________________\n",
            "Layer (type)                 Output Shape              Param #   \n",
            "=================================================================\n",
            "input_layer (InputLayer)     [(None, 500)]             0         \n",
            "_________________________________________________________________\n",
            "embedding_layer (Embedding)  (None, 500, 200)          2000000   \n",
            "_________________________________________________________________\n",
            "LSTM (LSTM)                  [(None, 500, 256), (None, 467968    \n",
            "_________________________________________________________________\n",
            "Attention (BahdanauAttention ((None, 256), (None, 500, 65921     \n",
            "_________________________________________________________________\n",
            "output_layer (Dense)         (None, 1)                 257       \n",
            "=================================================================\n",
            "Total params: 2,534,146\n",
            "Trainable params: 2,534,146\n",
            "Non-trainable params: 0\n",
            "_________________________________________________________________\n"
          ],
          "name": "stdout"
        }
      ]
    },
    {
      "cell_type": "code",
      "metadata": {
        "colab_type": "code",
        "id": "M__BtuGLv-kn",
        "colab": {}
      },
      "source": [
        "attn_model.compile(optimizer='adam',\n",
        "              loss='binary_crossentropy',\n",
        "              metrics=['accuracy'])\n",
        "\n",
        "early_stopping_callback = keras.callbacks.EarlyStopping(monitor='val_loss',\n",
        "                                                        min_delta=0,\n",
        "                                                        patience=3,\n",
        "                                                        verbose=0, mode='auto')"
      ],
      "execution_count": 430,
      "outputs": []
    },
    {
      "cell_type": "code",
      "metadata": {
        "colab_type": "code",
        "id": "KAG9yZ7lv-kp",
        "colab": {
          "base_uri": "https://localhost:8080/",
          "height": 87
        },
        "outputId": "1df9915a-ac79-4cb2-ad1d-891b7922231e"
      },
      "source": [
        "history = attn_model.fit(x_train,\n",
        "                    y_train,\n",
        "                    epochs=2,\n",
        "                    batch_size=200,\n",
        "                    validation_split=.3, verbose=1, callbacks=[early_stopping_callback])"
      ],
      "execution_count": 431,
      "outputs": [
        {
          "output_type": "stream",
          "text": [
            "Epoch 1/2\n",
            "56/56 [==============================] - 12s 215ms/step - loss: 0.4960 - accuracy: 0.7604 - val_loss: 0.4520 - val_accuracy: 0.8031\n",
            "Epoch 2/2\n",
            "56/56 [==============================] - 12s 208ms/step - loss: 0.3897 - accuracy: 0.8363 - val_loss: 0.4412 - val_accuracy: 0.8083\n"
          ],
          "name": "stdout"
        }
      ]
    },
    {
      "cell_type": "code",
      "metadata": {
        "colab_type": "code",
        "id": "vTRlxhCev-kr",
        "colab": {
          "base_uri": "https://localhost:8080/",
          "height": 52
        },
        "outputId": "4dd41d61-e619-46cf-9ca1-7628245ca0c6"
      },
      "source": [
        "result = attn_model.evaluate(x_test, y_test)\n",
        "print(result)"
      ],
      "execution_count": 432,
      "outputs": [
        {
          "output_type": "stream",
          "text": [
            "125/125 [==============================] - 2s 16ms/step - loss: 0.4241 - accuracy: 0.8102\n",
            "[0.42412906885147095, 0.8102499842643738]\n"
          ],
          "name": "stdout"
        }
      ]
    },
    {
      "cell_type": "code",
      "metadata": {
        "id": "IBpG-ixDuv5C",
        "colab_type": "code",
        "colab": {
          "base_uri": "https://localhost:8080/",
          "height": 295
        },
        "outputId": "b5ff8508-a3f5-4ff5-b059-8c3e379b2fcd"
      },
      "source": [
        "# summarize history for accuracy\n",
        "\n",
        "\n",
        "plt.plot(history.history['accuracy'])\n",
        "plt.plot(history.history['val_accuracy'])\n",
        "plt.title('model accuracy')\n",
        "plt.ylabel('accuracy')\n",
        "plt.xlabel('epoch')\n",
        "plt.legend(['train', 'test'], loc='upper left')\n",
        "plt.show()"
      ],
      "execution_count": 433,
      "outputs": [
        {
          "output_type": "display_data",
          "data": {
            "image/png": "[encoded data removed]",
            "text/plain": [
              "<Figure size 432x288 with 1 Axes>"
            ]
          },
          "metadata": {
            "tags": [],
            "needs_background": "light"
          }
        }
      ]
    },
    {
      "cell_type": "markdown",
      "metadata": {
        "colab_type": "text",
        "id": "dgkH5WNJv-kt"
      },
      "source": [
        "### LSTM Classifier with attention and GloVe embedding"
      ]
    },
    {
      "cell_type": "code",
      "metadata": {
        "colab_type": "code",
        "id": "6xfUbHSFo75J",
        "colab": {
          "base_uri": "https://localhost:8080/",
          "height": 35
        },
        "outputId": "87786b39-6cc7-4659-af63-4c49d9d980c5"
      },
      "source": [
        "import os\n",
        "import itertools\n",
        "embeddings_index = {}\n",
        "f = open(os.path.join('/contents/My Drive/W266', 'glove.6B.50d.txt'))\n",
        "for line in f:\n",
        "    values = line.split()\n",
        "    word = values[0]\n",
        "    coefs = np.asarray(values[1:], dtype='float32')\n",
        "    embeddings_index[word] = coefs\n",
        "f.close()\n",
        "\n",
        "print('Found %s word vectors.' % len(embeddings_index))"
      ],
      "execution_count": 434,
      "outputs": [
        {
          "output_type": "stream",
          "text": [
            "Found 400001 word vectors.\n"
          ],
          "name": "stdout"
        }
      ]
    },
    {
      "cell_type": "code",
      "metadata": {
        "colab_type": "code",
        "id": "1BT-Ln2C0GY1",
        "colab": {
          "base_uri": "https://localhost:8080/",
          "height": 35
        },
        "outputId": "f9e230f1-8033-401e-fd9d-1428c348a17d"
      },
      "source": [
        "word_index = tokenizer.word_index\n",
        "print('Found %s unique tokens.' % len(word_index))"
      ],
      "execution_count": 435,
      "outputs": [
        {
          "output_type": "stream",
          "text": [
            "Found 41265 unique tokens.\n"
          ],
          "name": "stdout"
        }
      ]
    },
    {
      "cell_type": "code",
      "metadata": {
        "colab_type": "code",
        "id": "w9riqdJ60IxI",
        "colab": {}
      },
      "source": [
        "vocab_size = len(word_index) + 1\n",
        "\n",
        "embedding_dim = 50\n",
        "\n",
        "\n",
        "# first create a matrix of zeros, this is our embedding matrix\n",
        "embedding_matrix = np.zeros((vocab_size, embedding_dim))\n",
        "\n",
        "# for each word in out tokenizer lets try to find that work in our w2v model\n",
        "for word, i in word_index.items():\n",
        "    embedding_vector = embeddings_index.get(word)\n",
        "    if embedding_vector is not None:\n",
        "        # we found the word - add that words vector to the matrix\n",
        "        embedding_matrix[i] = embedding_vector\n",
        "    else:\n",
        "        # doesn't exist, assign a random vector\n",
        "        embedding_matrix[i] = np.random.randn(embedding_dim)"
      ],
      "execution_count": 436,
      "outputs": []
    },
    {
      "cell_type": "code",
      "metadata": {
        "colab_type": "code",
        "id": "Gljs7Upx1p6u",
        "colab": {
          "base_uri": "https://localhost:8080/",
          "height": 329
        },
        "outputId": "2d3852e5-7886-40e1-f3f0-8274c4ede07b"
      },
      "source": [
        "attn_units=128\n",
        "sequence_input = layers.Input(shape=(max_len,),name=\"input_layer\", dtype='int32')\n",
        "#put in glove embeddings in weights\n",
        "embeddings = keras.layers.Embedding(input_dim=vocab_size, output_dim=embedding_dim, input_length=max_len, weights=[embedding_matrix], name=\"embedding_layer\", trainable = 'false')(sequence_input)\n",
        "lstm_output,hidden_h, hidden_c=tf.keras.layers.LSTM(rnn_units,name='LSTM',return_sequences=True,\n",
        "                                      return_state=True)(embeddings)\n",
        "context_vector, attention_weights = BahdanauAttention(attn_units)(lstm_output, hidden_h)\n",
        "output = keras.layers.Dense(1, activation='sigmoid',name='output_layer')(context_vector)\n",
        "glove_attn_model = keras.Model(inputs=sequence_input, outputs=output)\n",
        " \n",
        "# summarize layers\n",
        "glove_attn_model.summary()"
      ],
      "execution_count": 437,
      "outputs": [
        {
          "output_type": "stream",
          "text": [
            "Model: \"model_27\"\n",
            "_________________________________________________________________\n",
            "Layer (type)                 Output Shape              Param #   \n",
            "=================================================================\n",
            "input_layer (InputLayer)     [(None, 500)]             0         \n",
            "_________________________________________________________________\n",
            "embedding_layer (Embedding)  (None, 500, 50)           2063300   \n",
            "_________________________________________________________________\n",
            "LSTM (LSTM)                  [(None, 500, 256), (None, 314368    \n",
            "_________________________________________________________________\n",
            "Attention (BahdanauAttention ((None, 256), (None, 500, 65921     \n",
            "_________________________________________________________________\n",
            "output_layer (Dense)         (None, 1)                 257       \n",
            "=================================================================\n",
            "Total params: 2,443,846\n",
            "Trainable params: 2,443,846\n",
            "Non-trainable params: 0\n",
            "_________________________________________________________________\n"
          ],
          "name": "stdout"
        }
      ]
    },
    {
      "cell_type": "code",
      "metadata": {
        "colab_type": "code",
        "id": "uYdzhcO4FHYv",
        "colab": {}
      },
      "source": [
        "glove_attn_model.compile(optimizer='adam',\n",
        "              loss='binary_crossentropy',\n",
        "              metrics=['accuracy'])\n",
        "\n",
        "early_stopping_callback = keras.callbacks.EarlyStopping(monitor='val_loss',\n",
        "                                                        min_delta=0,\n",
        "                                                        patience=3,\n",
        "                                                        verbose=0, mode='auto')"
      ],
      "execution_count": 438,
      "outputs": []
    },
    {
      "cell_type": "code",
      "metadata": {
        "colab_type": "code",
        "id": "O_tR9j84GDMD",
        "colab": {
          "base_uri": "https://localhost:8080/",
          "height": 87
        },
        "outputId": "6f489198-79cd-4621-f22a-83b1fd90399d"
      },
      "source": [
        "history = glove_attn_model.fit(x_train,\n",
        "                    y_train,\n",
        "                    epochs=2,\n",
        "                    batch_size=200,\n",
        "                    validation_split=.3, verbose=1, callbacks=[early_stopping_callback])"
      ],
      "execution_count": 439,
      "outputs": [
        {
          "output_type": "stream",
          "text": [
            "Epoch 1/2\n",
            "56/56 [==============================] - 9s 160ms/step - loss: 0.5153 - accuracy: 0.7357 - val_loss: 0.4712 - val_accuracy: 0.7915\n",
            "Epoch 2/2\n",
            "56/56 [==============================] - 9s 153ms/step - loss: 0.4509 - accuracy: 0.7974 - val_loss: 0.5029 - val_accuracy: 0.7581\n"
          ],
          "name": "stdout"
        }
      ]
    },
    {
      "cell_type": "code",
      "metadata": {
        "colab_type": "code",
        "id": "2AZTY0XXGFKr",
        "colab": {
          "base_uri": "https://localhost:8080/",
          "height": 52
        },
        "outputId": "eb046945-f64e-4bf7-b58d-080b042b9a41"
      },
      "source": [
        "result = glove_attn_model.evaluate(x_test, y_test)\n",
        "print(result)"
      ],
      "execution_count": 440,
      "outputs": [
        {
          "output_type": "stream",
          "text": [
            "125/125 [==============================] - 2s 13ms/step - loss: 0.4883 - accuracy: 0.7695\n",
            "[0.48828601837158203, 0.7695000171661377]\n"
          ],
          "name": "stdout"
        }
      ]
    },
    {
      "cell_type": "code",
      "metadata": {
        "id": "yVZh4P9KutHg",
        "colab_type": "code",
        "colab": {
          "base_uri": "https://localhost:8080/",
          "height": 295
        },
        "outputId": "76650764-b3e3-4e0d-c3fc-4a3e6b41cb30"
      },
      "source": [
        "# summarize history for accuracy\n",
        "\n",
        "\n",
        "plt.plot(history.history['accuracy'])\n",
        "plt.plot(history.history['val_accuracy'])\n",
        "plt.title('model accuracy')\n",
        "plt.ylabel('accuracy')\n",
        "plt.xlabel('epoch')\n",
        "plt.legend(['train', 'test'], loc='upper left')\n",
        "plt.show()"
      ],
      "execution_count": 441,
      "outputs": [
        {
          "output_type": "display_data",
          "data": {
            "image/png": "[encoded data removed]",
            "text/plain": [
              "<Figure size 432x288 with 1 Axes>"
            ]
          },
          "metadata": {
            "tags": [],
            "needs_background": "light"
          }
        }
      ]
    },
    {
      "cell_type": "markdown",
      "metadata": {
        "id": "3fSTHzwvFld8",
        "colab_type": "text"
      },
      "source": [
        "### Additional Features"
      ]
    },
    {
      "cell_type": "code",
      "metadata": {
        "id": "N_jbSEe3Fo4B",
        "colab_type": "code",
        "colab": {
          "base_uri": "https://localhost:8080/",
          "height": 485
        },
        "outputId": "d966e6ed-1fee-4475-a112-681f5b0d22c4"
      },
      "source": [
        "attn_units = 128\n",
        "#embedding_units = 200\n",
        "rnn_units = 256\n",
        "\n",
        "#LSTM Classifier with Attention\n",
        "sequence_input = layers.Input(shape=(max_len,),name=\"input_layer\", dtype='int32')\n",
        "embeddings = keras.layers.Embedding(input_dim=vocab_size, output_dim=embedding_dim, input_length=max_len, weights=[embedding_matrix], name=\"embedding_layer\", trainable = 'false')(sequence_input)\n",
        "lstm_output,hidden_h, hidden_c=(tf.keras.layers.LSTM(rnn_units,name='LSTM',return_sequences=True,\n",
        "                                      return_state=True))(embeddings)\n",
        "context_vector, attention_weights = BahdanauAttention(attn_units)(lstm_output, hidden_h)\n",
        "\n",
        "other_input = layers.Input(shape=(x2_train.shape[1],),name=\"input_other\", dtype='float32')\n",
        "\n",
        "concat_output = tf.keras.layers.Concatenate()([context_vector, other_input])\n",
        "\n",
        "Dense1 = keras.layers.Dense(100, activation='relu',name='dense1')(concat_output)\n",
        "Dense2 = keras.layers.Dense(30, activation='relu',name='dense2')(Dense1)\n",
        "output = keras.layers.Dense(1, activation='sigmoid',name='output_layer')(Dense2)\n",
        "\n",
        "attn_model_f = keras.Model(inputs=[sequence_input, other_input], outputs=output)\n",
        " \n",
        "# summarize layers\n",
        "attn_model_f.summary()\n",
        "\n",
        "attn_model_f.compile(optimizer='adam',\n",
        "              loss='binary_crossentropy',\n",
        "              metrics=['accuracy'])"
      ],
      "execution_count": 442,
      "outputs": [
        {
          "output_type": "stream",
          "text": [
            "Model: \"model_28\"\n",
            "__________________________________________________________________________________________________\n",
            "Layer (type)                    Output Shape         Param #     Connected to                     \n",
            "==================================================================================================\n",
            "input_layer (InputLayer)        [(None, 500)]        0                                            \n",
            "__________________________________________________________________________________________________\n",
            "embedding_layer (Embedding)     (None, 500, 50)      2063300     input_layer[0][0]                \n",
            "__________________________________________________________________________________________________\n",
            "LSTM (LSTM)                     [(None, 500, 256), ( 314368      embedding_layer[0][0]            \n",
            "__________________________________________________________________________________________________\n",
            "Attention (BahdanauAttention)   ((None, 256), (None, 65921       LSTM[0][0]                       \n",
            "__________________________________________________________________________________________________\n",
            "input_other (InputLayer)        [(None, 3)]          0                                            \n",
            "__________________________________________________________________________________________________\n",
            "concatenate_4 (Concatenate)     (None, 259)          0           Attention[0][0]                  \n",
            "                                                                 input_other[0][0]                \n",
            "__________________________________________________________________________________________________\n",
            "dense1 (Dense)                  (None, 100)          26000       concatenate_4[0][0]              \n",
            "__________________________________________________________________________________________________\n",
            "dense2 (Dense)                  (None, 30)           3030        dense1[0][0]                     \n",
            "__________________________________________________________________________________________________\n",
            "output_layer (Dense)            (None, 1)            31          dense2[0][0]                     \n",
            "==================================================================================================\n",
            "Total params: 2,472,650\n",
            "Trainable params: 2,472,650\n",
            "Non-trainable params: 0\n",
            "__________________________________________________________________________________________________\n"
          ],
          "name": "stdout"
        }
      ]
    },
    {
      "cell_type": "code",
      "metadata": {
        "id": "hJNUIFf6GWB3",
        "colab_type": "code",
        "colab": {
          "base_uri": "https://localhost:8080/",
          "height": 441
        },
        "outputId": "c30d991f-f7f9-40be-a7ab-70bee8107527"
      },
      "source": [
        "tf.keras.utils.plot_model(attn_model_f, show_shapes=True, dpi=48)"
      ],
      "execution_count": 443,
      "outputs": [
        {
          "output_type": "execute_result",
          "data": {
            "image/png": "[encoded data removed]",
            "text/plain": [
              "<IPython.core.display.Image object>"
            ]
          },
          "metadata": {
            "tags": []
          },
          "execution_count": 443
        }
      ]
    },
    {
      "cell_type": "code",
      "metadata": {
        "id": "FVdFXMmRGj5C",
        "colab_type": "code",
        "colab": {}
      },
      "source": [
        "attn_model_f.compile(optimizer='adam',\n",
        "              loss='binary_crossentropy',\n",
        "              metrics=['accuracy'])\n",
        "\n",
        "early_stopping_callback = keras.callbacks.EarlyStopping(monitor='val_loss',\n",
        "                                                        min_delta=0,\n",
        "                                                        patience=3,\n",
        "                                                        verbose=0, mode='auto')"
      ],
      "execution_count": 444,
      "outputs": []
    },
    {
      "cell_type": "code",
      "metadata": {
        "id": "Ylgr5e9WGtri",
        "colab_type": "code",
        "colab": {
          "base_uri": "https://localhost:8080/",
          "height": 191
        },
        "outputId": "8fc46728-497c-4481-8745-29eedb394b9e"
      },
      "source": [
        "history = attn_model_f.fit([x_train, x2_train],\n",
        "                    y_train,\n",
        "                    epochs=5,\n",
        "                    batch_size=200,\n",
        "                    validation_split=.3, verbose=1, callbacks=[early_stopping_callback])"
      ],
      "execution_count": 445,
      "outputs": [
        {
          "output_type": "stream",
          "text": [
            "Epoch 1/5\n",
            "56/56 [==============================] - 9s 162ms/step - loss: 0.4929 - accuracy: 0.7760 - val_loss: 0.4717 - val_accuracy: 0.7931\n",
            "Epoch 2/5\n",
            "56/56 [==============================] - 9s 154ms/step - loss: 0.4515 - accuracy: 0.7985 - val_loss: 0.4781 - val_accuracy: 0.7835\n",
            "Epoch 3/5\n",
            "56/56 [==============================] - 9s 154ms/step - loss: 0.4403 - accuracy: 0.8030 - val_loss: 0.4734 - val_accuracy: 0.7844\n",
            "Epoch 4/5\n",
            "56/56 [==============================] - 9s 154ms/step - loss: 0.4237 - accuracy: 0.8120 - val_loss: 0.4550 - val_accuracy: 0.8012\n",
            "Epoch 5/5\n",
            "56/56 [==============================] - 9s 154ms/step - loss: 0.4158 - accuracy: 0.8142 - val_loss: 0.4406 - val_accuracy: 0.8056\n"
          ],
          "name": "stdout"
        }
      ]
    },
    {
      "cell_type": "code",
      "metadata": {
        "id": "F5xQqa7AG4qH",
        "colab_type": "code",
        "colab": {
          "base_uri": "https://localhost:8080/",
          "height": 52
        },
        "outputId": "65fa8723-4f60-41d2-d5ee-4dfcdd655b87"
      },
      "source": [
        "attn_model_f.evaluate([x_test, x2_test], y_test)"
      ],
      "execution_count": 446,
      "outputs": [
        {
          "output_type": "stream",
          "text": [
            "125/125 [==============================] - 2s 13ms/step - loss: 0.4419 - accuracy: 0.7972\n"
          ],
          "name": "stdout"
        },
        {
          "output_type": "execute_result",
          "data": {
            "text/plain": [
              "[0.4418713450431824, 0.797249972820282]"
            ]
          },
          "metadata": {
            "tags": []
          },
          "execution_count": 446
        }
      ]
    },
    {
      "cell_type": "code",
      "metadata": {
        "id": "ApM1epFBtRZX",
        "colab_type": "code",
        "colab": {
          "base_uri": "https://localhost:8080/",
          "height": 295
        },
        "outputId": "c0403b15-1220-4473-fce2-0300acbcc6f5"
      },
      "source": [
        "# summarize history for accuracy\n",
        "\n",
        "\n",
        "plt.plot(history.history['accuracy'])\n",
        "plt.plot(history.history['val_accuracy'])\n",
        "plt.title('model accuracy')\n",
        "plt.ylabel('accuracy')\n",
        "plt.xlabel('epoch')\n",
        "plt.legend(['train', 'test'], loc='upper left')\n",
        "plt.show()"
      ],
      "execution_count": 447,
      "outputs": [
        {
          "output_type": "display_data",
          "data": {
            "image/png": "[encoded data removed]",
            "text/plain": [
              "<Figure size 432x288 with 1 Axes>"
            ]
          },
          "metadata": {
            "tags": [],
            "needs_background": "light"
          }
        }
      ]
    }
  ]
}