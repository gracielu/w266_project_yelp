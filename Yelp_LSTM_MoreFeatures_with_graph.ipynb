{
  "nbformat": 4,
  "nbformat_minor": 0,
  "metadata": {
    "accelerator": "GPU",
    "colab": {
      "name": "Yelp_LSTM_MoreFeatures_with graph.ipynb",
      "provenance": [],
      "collapsed_sections": [],
      "include_colab_link": true
    },
    "kernelspec": {
      "display_name": "Python 3",
      "language": "python",
      "name": "python3"
    },
    "language_info": {
      "codemirror_mode": {
        "name": "ipython",
        "version": 3
      },
      "file_extension": ".py",
      "mimetype": "text/x-python",
      "name": "python",
      "nbconvert_exporter": "python",
      "pygments_lexer": "ipython3",
      "version": "3.7.6"
    }
  },
  "cells": [
    {
      "cell_type": "markdown",
      "metadata": {
        "id": "view-in-github",
        "colab_type": "text"
      },
      "source": [
        "<a href=\"https://colab.research.google.com/github/gracielu/w266_project_yelp/blob/master/Yelp_LSTM_MoreFeatures_with_graph.ipynb\" target=\"_parent\"><img src=\"https://colab.research.google.com/assets/colab-badge.svg\" alt=\"Open In Colab\"/></a>"
      ]
    },
    {
      "cell_type": "code",
      "metadata": {
        "colab_type": "code",
        "id": "2XZkZiHHv-iI",
        "colab": {}
      },
      "source": [
        "import numpy as np\n",
        "import pandas as pd\n",
        "import json\n",
        "import matplotlib.pyplot as plt"
      ],
      "execution_count": 324,
      "outputs": []
    },
    {
      "cell_type": "code",
      "metadata": {
        "colab_type": "code",
        "id": "XBFfpek3v-iY",
        "colab": {}
      },
      "source": [
        "import tensorflow as tf\n",
        "from tensorflow import keras\n",
        "\n",
        "from tensorflow.keras.models import Sequential\n",
        "from tensorflow.keras import layers\n",
        "from tensorflow.keras.layers import Dense\n",
        "from tensorflow.keras.layers import LSTM\n",
        "from tensorflow.keras.layers import Embedding\n",
        "from tensorflow.keras.preprocessing import sequence\n",
        "from tensorflow.keras.preprocessing.text import Tokenizer\n",
        "from tensorflow.keras.utils import to_categorical\n",
        "# fix random seed for reproducibility\n",
        "np.random.seed(7)"
      ],
      "execution_count": 325,
      "outputs": []
    },
    {
      "cell_type": "code",
      "metadata": {
        "colab_type": "code",
        "id": "3gPCvp-WuZGC",
        "colab": {
          "base_uri": "https://localhost:8080/",
          "height": 35
        },
        "outputId": "cecfe011-d4bf-4a76-8748-53a0c3f214af"
      },
      "source": [
        "from google.colab import drive\n",
        "drive.mount('/contents/')"
      ],
      "execution_count": 326,
      "outputs": [
        {
          "output_type": "stream",
          "text": [
            "Drive already mounted at /contents/; to attempt to forcibly remount, call drive.mount(\"/contents/\", force_remount=True).\n"
          ],
          "name": "stdout"
        }
      ]
    },
    {
      "cell_type": "code",
      "metadata": {
        "colab_type": "code",
        "id": "hYV5wKCov-im",
        "colab": {}
      },
      "source": [
        "yelp_reviews=pd.read_csv(\"/contents/My Drive/W266/review_sample_1.csv\")"
      ],
      "execution_count": 327,
      "outputs": []
    },
    {
      "cell_type": "code",
      "metadata": {
        "colab_type": "code",
        "id": "Ety2fXOXv-i1",
        "colab": {
          "base_uri": "https://localhost:8080/",
          "height": 355
        },
        "outputId": "e0e42f14-c45c-419b-b5a2-e0ef4531ce7c"
      },
      "source": [
        "yelp_reviews.head(2)"
      ],
      "execution_count": 328,
      "outputs": [
        {
          "output_type": "execute_result",
          "data": {
            "text/html": [
              "<div>\n",
              "<style scoped>\n",
              "    .dataframe tbody tr th:only-of-type {\n",
              "        vertical-align: middle;\n",
              "    }\n",
              "\n",
              "    .dataframe tbody tr th {\n",
              "        vertical-align: top;\n",
              "    }\n",
              "\n",
              "    .dataframe thead th {\n",
              "        text-align: right;\n",
              "    }\n",
              "</style>\n",
              "<table border=\"1\" class=\"dataframe\">\n",
              "  <thead>\n",
              "    <tr style=\"text-align: right;\">\n",
              "      <th></th>\n",
              "      <th>business_id</th>\n",
              "      <th>state</th>\n",
              "      <th>city</th>\n",
              "      <th>categories</th>\n",
              "      <th>review_count</th>\n",
              "      <th>category</th>\n",
              "      <th>cuisine</th>\n",
              "      <th>review_id</th>\n",
              "      <th>user_id</th>\n",
              "      <th>stars</th>\n",
              "      <th>useful</th>\n",
              "      <th>funny</th>\n",
              "      <th>cool</th>\n",
              "      <th>text</th>\n",
              "      <th>date</th>\n",
              "      <th>length</th>\n",
              "      <th>labels</th>\n",
              "      <th>business_cnt</th>\n",
              "      <th>American</th>\n",
              "      <th>Asian</th>\n",
              "      <th>Mexican</th>\n",
              "    </tr>\n",
              "  </thead>\n",
              "  <tbody>\n",
              "    <tr>\n",
              "      <th>0</th>\n",
              "      <td>hIgGkG1JnHX4xmVuOgegDw</td>\n",
              "      <td>AZ</td>\n",
              "      <td>Tempe</td>\n",
              "      <td>Restaurants, Sandwiches, Cheesesteaks, Food, D...</td>\n",
              "      <td>516</td>\n",
              "      <td>Sandwiches</td>\n",
              "      <td>American</td>\n",
              "      <td>IlPefxI7zZo1OFz_Sevlew</td>\n",
              "      <td>w0pA_3W2rJVLj9ensvpUeg</td>\n",
              "      <td>5.0</td>\n",
              "      <td>0</td>\n",
              "      <td>0</td>\n",
              "      <td>0</td>\n",
              "      <td>My husband says this spot has the best origina...</td>\n",
              "      <td>2011-05-08 01:26:03</td>\n",
              "      <td>220</td>\n",
              "      <td>0</td>\n",
              "      <td>458</td>\n",
              "      <td>1</td>\n",
              "      <td>0</td>\n",
              "      <td>0</td>\n",
              "    </tr>\n",
              "    <tr>\n",
              "      <th>1</th>\n",
              "      <td>qQP2bCj8H8ddp9QG-zRZ-w</td>\n",
              "      <td>AZ</td>\n",
              "      <td>Phoenix</td>\n",
              "      <td>Event Planning &amp; Services, Caterers, Restauran...</td>\n",
              "      <td>153</td>\n",
              "      <td>Barbeque</td>\n",
              "      <td>American</td>\n",
              "      <td>B__K3bYpKoIjpHcTpzNM8A</td>\n",
              "      <td>wPmO2BCg73G2UjRSkjQjTA</td>\n",
              "      <td>2.0</td>\n",
              "      <td>0</td>\n",
              "      <td>0</td>\n",
              "      <td>0</td>\n",
              "      <td>Food is just okay, not great. Meat is dry and ...</td>\n",
              "      <td>2019-03-28 22:07:40</td>\n",
              "      <td>165</td>\n",
              "      <td>0</td>\n",
              "      <td>131</td>\n",
              "      <td>1</td>\n",
              "      <td>0</td>\n",
              "      <td>0</td>\n",
              "    </tr>\n",
              "  </tbody>\n",
              "</table>\n",
              "</div>"
            ],
            "text/plain": [
              "              business_id state     city  ... American  Asian Mexican\n",
              "0  hIgGkG1JnHX4xmVuOgegDw    AZ    Tempe  ...        1      0       0\n",
              "1  qQP2bCj8H8ddp9QG-zRZ-w    AZ  Phoenix  ...        1      0       0\n",
              "\n",
              "[2 rows x 21 columns]"
            ]
          },
          "metadata": {
            "tags": []
          },
          "execution_count": 328
        }
      ]
    },
    {
      "cell_type": "code",
      "metadata": {
        "colab_type": "code",
        "id": "OJ2E8sDpv-jA",
        "colab": {
          "base_uri": "https://localhost:8080/",
          "height": 87
        },
        "outputId": "6ade71e3-58a4-49cd-a8ce-153afc8e7158"
      },
      "source": [
        "yelp_reviews['cuisine'].value_counts()"
      ],
      "execution_count": 329,
      "outputs": [
        {
          "output_type": "execute_result",
          "data": {
            "text/plain": [
              "American    26679\n",
              "Asian        7100\n",
              "Mexican      6221\n",
              "Name: cuisine, dtype: int64"
            ]
          },
          "metadata": {
            "tags": []
          },
          "execution_count": 329
        }
      ]
    },
    {
      "cell_type": "code",
      "metadata": {
        "colab_type": "code",
        "id": "qYLbxleHv-jR",
        "colab": {
          "base_uri": "https://localhost:8080/",
          "height": 121
        },
        "outputId": "48eb9cab-875a-4776-d961-2ff8e323be26"
      },
      "source": [
        "yelp_reviews['stars'].value_counts()"
      ],
      "execution_count": 330,
      "outputs": [
        {
          "output_type": "execute_result",
          "data": {
            "text/plain": [
              "5.0    15110\n",
              "4.0     9952\n",
              "1.0     6112\n",
              "3.0     4853\n",
              "2.0     3973\n",
              "Name: stars, dtype: int64"
            ]
          },
          "metadata": {
            "tags": []
          },
          "execution_count": 330
        }
      ]
    },
    {
      "cell_type": "code",
      "metadata": {
        "colab_type": "code",
        "id": "WhPW99_Nv-jW",
        "colab": {
          "base_uri": "https://localhost:8080/",
          "height": 70
        },
        "outputId": "34ba2723-4f34-4180-b9ab-3d718e87f6e9"
      },
      "source": [
        "yelp_reviews.text[5]"
      ],
      "execution_count": 331,
      "outputs": [
        {
          "output_type": "execute_result",
          "data": {
            "application/vnd.google.colaboratory.intrinsic+json": {
              "type": "string"
            },
            "text/plain": [
              "\"Good food and buzzing vibe at this place. Inside are tv's to watch sports. Outside patio is great seating on a nice day and eve. The food is so good we went there twice on a one week trip.  \\nThe steak quesadilla is excellent.  It is more like ground steak in a nicely cooked non greasy quesadilla.  The brewery burger was outstanding and it comes with good fries.  Service is good and fast. Really enjoyed the place and even bought the t-shirt.\""
            ]
          },
          "metadata": {
            "tags": []
          },
          "execution_count": 331
        }
      ]
    },
    {
      "cell_type": "code",
      "metadata": {
        "colab_type": "code",
        "id": "f6wUY7APv-ja",
        "colab": {
          "base_uri": "https://localhost:8080/",
          "height": 399
        },
        "outputId": "6939f99b-f59c-4aba-ccd0-b5602c309c7f"
      },
      "source": [
        "yelp_reviews.isnull().any()"
      ],
      "execution_count": 332,
      "outputs": [
        {
          "output_type": "execute_result",
          "data": {
            "text/plain": [
              "business_id     False\n",
              "state           False\n",
              "city            False\n",
              "categories      False\n",
              "review_count    False\n",
              "category        False\n",
              "cuisine         False\n",
              "review_id       False\n",
              "user_id         False\n",
              "stars           False\n",
              "useful          False\n",
              "funny           False\n",
              "cool            False\n",
              "text            False\n",
              "date            False\n",
              "length          False\n",
              "labels          False\n",
              "business_cnt    False\n",
              "American        False\n",
              "Asian           False\n",
              "Mexican         False\n",
              "dtype: bool"
            ]
          },
          "metadata": {
            "tags": []
          },
          "execution_count": 332
        }
      ]
    },
    {
      "cell_type": "code",
      "metadata": {
        "id": "u5juFTCwgH0c",
        "colab_type": "code",
        "colab": {
          "base_uri": "https://localhost:8080/",
          "height": 225
        },
        "outputId": "5b0d1ae8-d726-4b9f-a989-d9435662943b"
      },
      "source": [
        "yelp_reviews.useful# reviews=reviews.groupby('cuisine').apply(lambda s: s.sample(50000))"
      ],
      "execution_count": 333,
      "outputs": [
        {
          "output_type": "execute_result",
          "data": {
            "text/plain": [
              "0         0\n",
              "1         0\n",
              "2         1\n",
              "3         0\n",
              "4         0\n",
              "         ..\n",
              "39995     7\n",
              "39996    48\n",
              "39997     9\n",
              "39998     7\n",
              "39999     8\n",
              "Name: useful, Length: 40000, dtype: int64"
            ]
          },
          "metadata": {
            "tags": []
          },
          "execution_count": 333
        }
      ]
    },
    {
      "cell_type": "code",
      "metadata": {
        "colab_type": "code",
        "id": "P18vw-P5v-jg",
        "colab": {
          "base_uri": "https://localhost:8080/",
          "height": 69
        },
        "outputId": "dbe26b0a-f6b1-4e14-acad-7f3d3c52ee1a"
      },
      "source": [
        "yelp_reviews['labels'].value_counts()"
      ],
      "execution_count": 334,
      "outputs": [
        {
          "output_type": "execute_result",
          "data": {
            "text/plain": [
              "1    20000\n",
              "0    20000\n",
              "Name: labels, dtype: int64"
            ]
          },
          "metadata": {
            "tags": []
          },
          "execution_count": 334
        }
      ]
    },
    {
      "cell_type": "code",
      "metadata": {
        "id": "Jpo9FRtnZmMy",
        "colab_type": "code",
        "colab": {}
      },
      "source": [
        "yelp_sample = yelp_reviews.copy()\n",
        "# yelp_sample = yelp_reviews[yelp_reviews['cuisine'] == 'Asian'].copy()"
      ],
      "execution_count": 335,
      "outputs": []
    },
    {
      "cell_type": "code",
      "metadata": {
        "id": "0M5LL_GYAcM5",
        "colab_type": "code",
        "colab": {}
      },
      "source": [
        "yelp_sample['star_deviation'] = yelp_sample['stars'] - yelp_sample.stars.mean()"
      ],
      "execution_count": 336,
      "outputs": []
    },
    {
      "cell_type": "markdown",
      "metadata": {
        "id": "1oU1am27AOVa",
        "colab_type": "text"
      },
      "source": [
        "### Data Preprocessing"
      ]
    },
    {
      "cell_type": "code",
      "metadata": {
        "colab_type": "code",
        "id": "Fo_SMfNBv-jn",
        "colab": {}
      },
      "source": [
        "texts = yelp_sample[\"text\"].values\n",
        "labels = yelp_sample[\"labels\"].values\n",
        "stars = yelp_sample[\"star_deviation\"].values\n",
        "#stars = yelp_sample[\"star_dummy\"].values\n",
        "#stars = yelp_sample[\"stars\"].values\n",
        "business_cnt = yelp_sample[\"business_cnt\"].values\n",
        "length = yelp_sample[\"length\"].values\n",
        "American = yelp_sample[\"American\"].values\n",
        "Asian = yelp_sample[\"Asian\"].values\n",
        "Mexican = yelp_sample[\"Mexican\"].values"
      ],
      "execution_count": 337,
      "outputs": []
    },
    {
      "cell_type": "code",
      "metadata": {
        "colab_type": "code",
        "id": "mH6z_Yu1v-jq",
        "colab": {
          "base_uri": "https://localhost:8080/",
          "height": 35
        },
        "outputId": "44c02576-7502-48a5-b36b-fd2d367c4bb7"
      },
      "source": [
        "yelp_reviews[\"labels\"].values[:5]"
      ],
      "execution_count": 338,
      "outputs": [
        {
          "output_type": "execute_result",
          "data": {
            "text/plain": [
              "array([0, 0, 0, 0, 0])"
            ]
          },
          "metadata": {
            "tags": []
          },
          "execution_count": 338
        }
      ]
    },
    {
      "cell_type": "code",
      "metadata": {
        "colab_type": "code",
        "id": "q2OXqWwtv-ju",
        "colab": {
          "base_uri": "https://localhost:8080/",
          "height": 121
        },
        "outputId": "71c00f48-e1db-4a35-d0ad-d6995ed7e820"
      },
      "source": [
        "print(texts.shape)\n",
        "print(labels.shape)\n",
        "print(stars.shape)\n",
        "print(business_cnt.shape)\n",
        "print(American.shape)\n",
        "print(length.shape)"
      ],
      "execution_count": 339,
      "outputs": [
        {
          "output_type": "stream",
          "text": [
            "(40000,)\n",
            "(40000,)\n",
            "(40000,)\n",
            "(40000,)\n",
            "(40000,)\n",
            "(40000,)\n"
          ],
          "name": "stdout"
        }
      ]
    },
    {
      "cell_type": "code",
      "metadata": {
        "colab_type": "code",
        "id": "7BqDs7Idv-jz",
        "colab": {
          "base_uri": "https://localhost:8080/",
          "height": 35
        },
        "outputId": "d506cf1b-2cec-4e29-eb90-14f23ea9f296"
      },
      "source": [
        "vocab_size=10000\n",
        "max_len=500\n",
        "\n",
        "tokenizer = Tokenizer(num_words=vocab_size)\n",
        "tokenizer.fit_on_texts(texts)\n",
        "sequences = tokenizer.texts_to_sequences(texts)\n",
        "\n",
        "word_index = tokenizer.word_index\n",
        "print('Found %s unique tokens.' % len(word_index))"
      ],
      "execution_count": 340,
      "outputs": [
        {
          "output_type": "stream",
          "text": [
            "Found 52579 unique tokens.\n"
          ],
          "name": "stdout"
        }
      ]
    },
    {
      "cell_type": "code",
      "metadata": {
        "colab_type": "code",
        "id": "nYJHkvbfv-j3",
        "colab": {
          "base_uri": "https://localhost:8080/",
          "height": 55
        },
        "outputId": "99cb5119-4a05-4b83-eea8-ca8fdccfe85f"
      },
      "source": [
        "print(sequences[:1])"
      ],
      "execution_count": 341,
      "outputs": [
        {
          "output_type": "stream",
          "text": [
            "[[15, 324, 732, 16, 257, 92, 1, 102, 966, 1563, 2209, 11, 729, 1, 517, 24, 4, 252, 520, 7, 332, 2, 1, 238, 9, 1171, 38, 517, 2, 20, 1822, 90, 1, 1400, 106, 964, 133, 30, 50]]\n"
          ],
          "name": "stdout"
        }
      ]
    },
    {
      "cell_type": "code",
      "metadata": {
        "colab_type": "code",
        "id": "LFJdQrBSv-j6",
        "colab": {
          "base_uri": "https://localhost:8080/",
          "height": 52
        },
        "outputId": "2b7ac706-9621-4142-ac7d-5f2c01547e43"
      },
      "source": [
        "print(list(word_index.items())[0])\n",
        "print(list(word_index.items())[100])"
      ],
      "execution_count": 342,
      "outputs": [
        {
          "output_type": "stream",
          "text": [
            "('the', 1)\n",
            "('cheese', 101)\n"
          ],
          "name": "stdout"
        }
      ]
    },
    {
      "cell_type": "code",
      "metadata": {
        "colab_type": "code",
        "id": "RhInu4Opv-j9",
        "colab": {
          "base_uri": "https://localhost:8080/",
          "height": 35
        },
        "outputId": "6b7065bd-5ff3-4579-c479-0c6465d638a4"
      },
      "source": [
        "min(list(word_index.values()))"
      ],
      "execution_count": 343,
      "outputs": [
        {
          "output_type": "execute_result",
          "data": {
            "text/plain": [
              "1"
            ]
          },
          "metadata": {
            "tags": []
          },
          "execution_count": 343
        }
      ]
    },
    {
      "cell_type": "code",
      "metadata": {
        "colab_type": "code",
        "id": "xlH6mprEv-kA",
        "colab": {}
      },
      "source": [
        "data = sequence.pad_sequences(sequences, \n",
        "                              maxlen=max_len,\n",
        "                              padding='post', \n",
        "                              truncating='post'\n",
        "                             )"
      ],
      "execution_count": 344,
      "outputs": []
    },
    {
      "cell_type": "code",
      "metadata": {
        "colab_type": "code",
        "id": "4acugQi6v-kC",
        "colab": {
          "base_uri": "https://localhost:8080/",
          "height": 104
        },
        "outputId": "83cca176-2dc6-4fb9-d9d6-af63729b2219"
      },
      "source": [
        "data[0:5]"
      ],
      "execution_count": 345,
      "outputs": [
        {
          "output_type": "execute_result",
          "data": {
            "text/plain": [
              "array([[  15,  324,  732, ...,    0,    0,    0],\n",
              "       [  21,    9,   39, ...,    0,    0,    0],\n",
              "       [   1, 2499,    9, ...,    0,    0,    0],\n",
              "       [  16,   29,    9, ...,    0,    0,    0],\n",
              "       [  86,   11,   28, ...,    0,    0,    0]], dtype=int32)"
            ]
          },
          "metadata": {
            "tags": []
          },
          "execution_count": 345
        }
      ]
    },
    {
      "cell_type": "code",
      "metadata": {
        "colab_type": "code",
        "id": "fSKRpMrYv-kF",
        "colab": {
          "base_uri": "https://localhost:8080/",
          "height": 69
        },
        "outputId": "f6f63780-832e-4ef0-d8a2-e1aa591aed4c"
      },
      "source": [
        "labels_b = to_categorical(np.asarray(labels))\n",
        "print('Shape of data:', data.shape)\n",
        "print('Shape of label:', labels.shape)\n",
        "print('Shape of label:', labels_b.shape)"
      ],
      "execution_count": 346,
      "outputs": [
        {
          "output_type": "stream",
          "text": [
            "Shape of data: (40000, 500)\n",
            "Shape of label: (40000,)\n",
            "Shape of label: (40000, 2)\n"
          ],
          "name": "stdout"
        }
      ]
    },
    {
      "cell_type": "code",
      "metadata": {
        "colab_type": "code",
        "id": "ndqCRx6qv-kI",
        "colab": {}
      },
      "source": [
        "VALIDATION_SPLIT=0.2\n",
        "\n",
        "indices = np.arange(data.shape[0])\n",
        "np.random.shuffle(indices)\n",
        "data = data[indices]\n",
        "labels = labels[indices]\n",
        "labels_b = labels_b[indices]\n",
        "\n",
        "stars = stars[indices]\n",
        "business_cnt = business_cnt[indices]\n",
        "length = length[indices]\n",
        "American = American[indices]\n",
        "Asian = Asian[indices]\n",
        "Mexican = Mexican[indices]\n",
        "\n",
        "nb_validation_samples = int(VALIDATION_SPLIT * data.shape[0])\n",
        "\n",
        "x_train = data[:-nb_validation_samples]\n",
        "y_train = labels[:-nb_validation_samples]\n",
        "y_train_b = labels_b[:-nb_validation_samples]\n",
        "x_test = data[-nb_validation_samples:]\n",
        "y_test = labels[-nb_validation_samples:]\n",
        "y_test_b = labels_b[-nb_validation_samples:]\n",
        "\n",
        "stars_train = stars[:-nb_validation_samples]\n",
        "stars_test = stars[-nb_validation_samples:]\n",
        "\n",
        "business_cnt_train = business_cnt[:-nb_validation_samples]\n",
        "business_cnt_test = business_cnt[-nb_validation_samples:]\n",
        "\n",
        "length_train = length[:-nb_validation_samples]\n",
        "length_test = length[-nb_validation_samples:]\n",
        "\n",
        "American_train = American[:-nb_validation_samples]\n",
        "American_test = American[-nb_validation_samples:]\n",
        "\n",
        "Asian_train = Asian[:-nb_validation_samples]\n",
        "Asian_test = Asian[-nb_validation_samples:]\n",
        "\n",
        "Mexican_train = Mexican[:-nb_validation_samples]\n",
        "Mexican_test = Mexican[-nb_validation_samples:]\n"
      ],
      "execution_count": 347,
      "outputs": []
    },
    {
      "cell_type": "code",
      "metadata": {
        "colab_type": "code",
        "id": "W7rYliwQv-kK",
        "colab": {
          "base_uri": "https://localhost:8080/",
          "height": 121
        },
        "outputId": "df3dc568-9c18-45cb-ce5e-59523b417704"
      },
      "source": [
        "print('Shape of x_train:', x_train.shape)\n",
        "print('Shape of x_test:', x_test.shape)\n",
        "print('Shape of y_train:', y_train.shape)\n",
        "print('Shape of y_train_b:', y_train_b.shape)\n",
        "print('Shape of y_test:', y_test.shape)\n",
        "print('Shape of y_test_b:', y_test_b.shape)"
      ],
      "execution_count": 348,
      "outputs": [
        {
          "output_type": "stream",
          "text": [
            "Shape of x_train: (32000, 500)\n",
            "Shape of x_test: (8000, 500)\n",
            "Shape of y_train: (32000,)\n",
            "Shape of y_train_b: (32000, 2)\n",
            "Shape of y_test: (8000,)\n",
            "Shape of y_test_b: (8000, 2)\n"
          ],
          "name": "stdout"
        }
      ]
    },
    {
      "cell_type": "code",
      "metadata": {
        "colab_type": "code",
        "id": "6gfklfO6v-kN",
        "colab": {
          "base_uri": "https://localhost:8080/",
          "height": 87
        },
        "outputId": "975e4084-00ca-4267-ca7a-c9317c1ea9c9"
      },
      "source": [
        "print(x_train[0:3])\n",
        "print(y_train[0:3])"
      ],
      "execution_count": 349,
      "outputs": [
        {
          "output_type": "stream",
          "text": [
            "[[ 16   6   4 ...   0   0   0]\n",
            " [490 236  10 ...   0   0   0]\n",
            " [350   2  27 ...   0   0   0]]\n",
            "[0 0 1]\n"
          ],
          "name": "stdout"
        }
      ]
    },
    {
      "cell_type": "code",
      "metadata": {
        "id": "NtzK_FlxBGFg",
        "colab_type": "code",
        "colab": {}
      },
      "source": [
        "dat2t = pd.DataFrame(stars_test, columns = ['stars'])\n",
        "dat3t = pd.DataFrame(business_cnt_test, columns = ['business_cnt'])\n",
        "dat4t = pd.DataFrame(length_test, columns = ['length'])\n",
        "dat5t = pd.DataFrame(American_test, columns = ['American'])\n",
        "dat6t = pd.DataFrame(Asian_test, columns = ['Asian'])\n",
        "dat7t = pd.DataFrame(Mexican_test, columns = ['Mexican'])\n",
        "\n",
        "#x2_test_tmp = pd.concat([dat2t, dat3t, dat4t, dat5t, dat6t, dat7t], axis=1)\n",
        "\n",
        "x2_test_tmp = pd.concat([dat2t, dat3t, dat4t], axis=1)\n",
        "\n",
        "x2_test=(x2_test_tmp-x2_test_tmp.mean())/x2_test_tmp.std()\n",
        "\n",
        "x2_test = np.array(x2_test).reshape(int(VALIDATION_SPLIT * data.shape[0]), x2_test_tmp.shape[1])"
      ],
      "execution_count": 350,
      "outputs": []
    },
    {
      "cell_type": "code",
      "metadata": {
        "id": "ZBhMh5bOBH2H",
        "colab_type": "code",
        "colab": {
          "base_uri": "https://localhost:8080/",
          "height": 219
        },
        "outputId": "c82f024a-9a95-4144-df1f-cbaf8f58ccc1"
      },
      "source": [
        "dat2 = pd.DataFrame(stars_train, columns = ['stars'])\n",
        "dat3 = pd.DataFrame(business_cnt_train, columns = ['business_cnt'])\n",
        "dat4 = pd.DataFrame(length_train, columns = ['length'])\n",
        "dat5 = pd.DataFrame(American_train, columns = ['American'])\n",
        "dat6 = pd.DataFrame(Asian_train, columns = ['Asian'])\n",
        "dat7 = pd.DataFrame(Mexican_train, columns = ['Mexican'])\n",
        "\n",
        "#x2_train_tmp = pd.concat([dat2, dat3, dat4, dat5, dat6, dat7], axis=1)\n",
        "x2_train_tmp = pd.concat([dat2, dat3, dat4], axis=1)\n",
        "\n",
        "print(x2_train_tmp.shape)\n",
        "x2_train_tmp.head()"
      ],
      "execution_count": 351,
      "outputs": [
        {
          "output_type": "stream",
          "text": [
            "(32000, 3)\n"
          ],
          "name": "stdout"
        },
        {
          "output_type": "execute_result",
          "data": {
            "text/html": [
              "<div>\n",
              "<style scoped>\n",
              "    .dataframe tbody tr th:only-of-type {\n",
              "        vertical-align: middle;\n",
              "    }\n",
              "\n",
              "    .dataframe tbody tr th {\n",
              "        vertical-align: top;\n",
              "    }\n",
              "\n",
              "    .dataframe thead th {\n",
              "        text-align: right;\n",
              "    }\n",
              "</style>\n",
              "<table border=\"1\" class=\"dataframe\">\n",
              "  <thead>\n",
              "    <tr style=\"text-align: right;\">\n",
              "      <th></th>\n",
              "      <th>stars</th>\n",
              "      <th>business_cnt</th>\n",
              "      <th>length</th>\n",
              "    </tr>\n",
              "  </thead>\n",
              "  <tbody>\n",
              "    <tr>\n",
              "      <th>0</th>\n",
              "      <td>-2.599375</td>\n",
              "      <td>274</td>\n",
              "      <td>1051</td>\n",
              "    </tr>\n",
              "    <tr>\n",
              "      <th>1</th>\n",
              "      <td>1.400625</td>\n",
              "      <td>301</td>\n",
              "      <td>459</td>\n",
              "    </tr>\n",
              "    <tr>\n",
              "      <th>2</th>\n",
              "      <td>-1.599375</td>\n",
              "      <td>379</td>\n",
              "      <td>1481</td>\n",
              "    </tr>\n",
              "    <tr>\n",
              "      <th>3</th>\n",
              "      <td>1.400625</td>\n",
              "      <td>309</td>\n",
              "      <td>189</td>\n",
              "    </tr>\n",
              "    <tr>\n",
              "      <th>4</th>\n",
              "      <td>1.400625</td>\n",
              "      <td>313</td>\n",
              "      <td>191</td>\n",
              "    </tr>\n",
              "  </tbody>\n",
              "</table>\n",
              "</div>"
            ],
            "text/plain": [
              "      stars  business_cnt  length\n",
              "0 -2.599375           274    1051\n",
              "1  1.400625           301     459\n",
              "2 -1.599375           379    1481\n",
              "3  1.400625           309     189\n",
              "4  1.400625           313     191"
            ]
          },
          "metadata": {
            "tags": []
          },
          "execution_count": 351
        }
      ]
    },
    {
      "cell_type": "code",
      "metadata": {
        "id": "--ONtc5RBdsJ",
        "colab_type": "code",
        "colab": {}
      },
      "source": [
        "x2_train=(x2_train_tmp-x2_train_tmp.mean())/x2_train_tmp.std()\n",
        "x2_train = np.array(x2_train).reshape(int((1-VALIDATION_SPLIT) * data.shape[0]), x2_train_tmp.shape[1])"
      ],
      "execution_count": 352,
      "outputs": []
    },
    {
      "cell_type": "code",
      "metadata": {
        "id": "-3Bly9uaBstW",
        "colab_type": "code",
        "colab": {
          "base_uri": "https://localhost:8080/",
          "height": 52
        },
        "outputId": "f56651cf-39ff-4169-c0ec-edfc17e69407"
      },
      "source": [
        "# Explore other features\n",
        "\n",
        "from sklearn.linear_model import LogisticRegression\n",
        "from nltk.classify.scikitlearn import SklearnClassifier\n",
        "from sklearn import metrics\n",
        "clf = LogisticRegression()\n",
        "clf.fit(x2_train, y_train)\n",
        "predicted= clf.predict(x2_test)\n",
        "\n",
        "print(\"Logistic Regression accuracy:\", metrics.accuracy_score(y_test, predicted))\n",
        "\n",
        "print(clf.coef_)"
      ],
      "execution_count": 353,
      "outputs": [
        {
          "output_type": "stream",
          "text": [
            "Logistic Regression accuracy: 0.74075\n",
            "[[-0.09947372 -0.07013056  1.69971254]]\n"
          ],
          "name": "stdout"
        }
      ]
    },
    {
      "cell_type": "markdown",
      "metadata": {
        "colab_type": "text",
        "id": "nXqatziEv-kP"
      },
      "source": [
        "### Simple LSTM Classifier"
      ]
    },
    {
      "cell_type": "code",
      "metadata": {
        "colab_type": "code",
        "id": "4f_-Ox4Rv-kQ",
        "colab": {
          "base_uri": "https://localhost:8080/",
          "height": 295
        },
        "outputId": "630bb1dd-d61c-463e-82e4-2b1c4487a71b"
      },
      "source": [
        "#Simple LSTM Classifier\n",
        "embedding_units = 200\n",
        "rnn_units = 256\n",
        "#attn_units=128\n",
        "\n",
        "#Simple LSTM Classifier\n",
        "sequence_input = layers.Input(shape=(max_len,),name=\"input_layer\", dtype='int32')\n",
        "embeddings = keras.layers.Embedding(input_dim=vocab_size, output_dim=embedding_units, input_length=max_len,name=\"embedding_layer\")(sequence_input)\n",
        "rnn_output=tf.keras.layers.LSTM(rnn_units,name='LSTM')(embeddings)\n",
        "output = keras.layers.Dense(1, activation='sigmoid',name='output_layer')(rnn_output)\n",
        "simple_model = keras.Model(inputs=sequence_input, outputs=output)\n",
        "\n",
        "simple_model.summary()"
      ],
      "execution_count": 354,
      "outputs": [
        {
          "output_type": "stream",
          "text": [
            "Model: \"model_19\"\n",
            "_________________________________________________________________\n",
            "Layer (type)                 Output Shape              Param #   \n",
            "=================================================================\n",
            "input_layer (InputLayer)     [(None, 500)]             0         \n",
            "_________________________________________________________________\n",
            "embedding_layer (Embedding)  (None, 500, 200)          2000000   \n",
            "_________________________________________________________________\n",
            "LSTM (LSTM)                  (None, 256)               467968    \n",
            "_________________________________________________________________\n",
            "output_layer (Dense)         (None, 1)                 257       \n",
            "=================================================================\n",
            "Total params: 2,468,225\n",
            "Trainable params: 2,468,225\n",
            "Non-trainable params: 0\n",
            "_________________________________________________________________\n"
          ],
          "name": "stdout"
        }
      ]
    },
    {
      "cell_type": "code",
      "metadata": {
        "colab_type": "code",
        "id": "qar5A0Kev-kT",
        "colab": {}
      },
      "source": [
        "simple_model.compile(optimizer='adam',\n",
        "              loss='binary_crossentropy',\n",
        "              metrics=['accuracy'])\n",
        "\n",
        "early_stopping_callback = keras.callbacks.EarlyStopping(monitor='val_loss',\n",
        "                                                        min_delta=0,\n",
        "                                                        patience=3,\n",
        "                                                        verbose=0, mode='auto')"
      ],
      "execution_count": 355,
      "outputs": []
    },
    {
      "cell_type": "code",
      "metadata": {
        "colab_type": "code",
        "id": "UAMgPmm7v-kV",
        "colab": {
          "base_uri": "https://localhost:8080/",
          "height": 191
        },
        "outputId": "f42b4dc9-8712-45c5-f241-c4e2c829bf20"
      },
      "source": [
        "history = simple_model.fit(x_train,\n",
        "                    y_train,\n",
        "                    epochs=5,\n",
        "                    batch_size=200,\n",
        "                    validation_split=.3, verbose=1, callbacks=[early_stopping_callback])"
      ],
      "execution_count": 356,
      "outputs": [
        {
          "output_type": "stream",
          "text": [
            "Epoch 1/5\n",
            "112/112 [==============================] - 22s 194ms/step - loss: 0.6950 - accuracy: 0.5150 - val_loss: 0.6851 - val_accuracy: 0.5273\n",
            "Epoch 2/5\n",
            "112/112 [==============================] - 21s 189ms/step - loss: 0.6893 - accuracy: 0.5181 - val_loss: 0.6797 - val_accuracy: 0.5273\n",
            "Epoch 3/5\n",
            "112/112 [==============================] - 21s 187ms/step - loss: 0.6832 - accuracy: 0.5172 - val_loss: 0.6813 - val_accuracy: 0.5271\n",
            "Epoch 4/5\n",
            "112/112 [==============================] - 21s 188ms/step - loss: 0.6798 - accuracy: 0.5195 - val_loss: 0.6793 - val_accuracy: 0.5302\n",
            "Epoch 5/5\n",
            "112/112 [==============================] - 21s 188ms/step - loss: 0.6791 - accuracy: 0.5210 - val_loss: 0.6799 - val_accuracy: 0.5272\n"
          ],
          "name": "stdout"
        }
      ]
    },
    {
      "cell_type": "code",
      "metadata": {
        "colab_type": "code",
        "id": "x0fBdm8Jv-kX",
        "colab": {
          "base_uri": "https://localhost:8080/",
          "height": 35
        },
        "outputId": "a9abaa1b-3a78-46ed-e3fb-364ebc288d2d"
      },
      "source": [
        "# Final evaluation of the model\n",
        "scores = simple_model.evaluate(x_test, y_test, verbose=0)\n",
        "print(\"Accuracy: %.2f%%\" % (scores[1]*100))"
      ],
      "execution_count": 357,
      "outputs": [
        {
          "output_type": "stream",
          "text": [
            "Accuracy: 53.05%\n"
          ],
          "name": "stdout"
        }
      ]
    },
    {
      "cell_type": "code",
      "metadata": {
        "id": "Q3tfkOuJx9Kz",
        "colab_type": "code",
        "colab": {
          "base_uri": "https://localhost:8080/",
          "height": 295
        },
        "outputId": "061828f5-6441-43b6-c82c-8418f38ebfd7"
      },
      "source": [
        "# summarize history for accuracy\n",
        "\n",
        "\n",
        "plt.plot(history.history['accuracy'])\n",
        "plt.plot(history.history['val_accuracy'])\n",
        "plt.title('model accuracy')\n",
        "plt.ylabel('accuracy')\n",
        "plt.xlabel('epoch')\n",
        "plt.legend(['train', 'test'], loc='upper left')\n",
        "plt.show()"
      ],
      "execution_count": 358,
      "outputs": [
        {
          "output_type": "display_data",
          "data": {
            "image/png": "[encoded data removed]",
            "text/plain": [
              "<Figure size 432x288 with 1 Axes>"
            ]
          },
          "metadata": {
            "tags": [],
            "needs_background": "light"
          }
        }
      ]
    },
    {
      "cell_type": "markdown",
      "metadata": {
        "colab_type": "text",
        "id": "9TUvX_7ov-kZ"
      },
      "source": [
        "### Bidirectional LSTM Classifier"
      ]
    },
    {
      "cell_type": "code",
      "metadata": {
        "colab_type": "code",
        "id": "GngpS8iMv-kc",
        "colab": {
          "base_uri": "https://localhost:8080/",
          "height": 295
        },
        "outputId": "138d1e88-3960-4cc5-a0b7-440ffe40fdf7"
      },
      "source": [
        "from tensorflow.keras.layers import Bidirectional\n",
        "\n",
        "sequence_input = layers.Input(shape=(max_len,),name=\"input_layer\", dtype='int32')\n",
        "embeddings = keras.layers.Embedding(input_dim=vocab_size, output_dim=embedding_units, input_length=max_len,name=\"embedding_layer\")(sequence_input)\n",
        "rnn_output=Bidirectional(tf.keras.layers.LSTM(rnn_units,name='LSTM'))(embeddings)\n",
        "output = keras.layers.Dense(1, activation='sigmoid',name='output_layer')(rnn_output)\n",
        "bidirectional_model = keras.Model(inputs=sequence_input, outputs=output)\n",
        "\n",
        "bidirectional_model.summary()\n",
        "\n",
        "bidirectional_model.compile(optimizer='adam',\n",
        "              loss='binary_crossentropy',\n",
        "              metrics=['accuracy'])\n",
        "\n",
        "early_stopping_callback = keras.callbacks.EarlyStopping(monitor='val_loss',\n",
        "                                                        min_delta=0,\n",
        "                                                        patience=3,\n",
        "                                                        verbose=0, mode='auto')"
      ],
      "execution_count": 359,
      "outputs": [
        {
          "output_type": "stream",
          "text": [
            "Model: \"model_20\"\n",
            "_________________________________________________________________\n",
            "Layer (type)                 Output Shape              Param #   \n",
            "=================================================================\n",
            "input_layer (InputLayer)     [(None, 500)]             0         \n",
            "_________________________________________________________________\n",
            "embedding_layer (Embedding)  (None, 500, 200)          2000000   \n",
            "_________________________________________________________________\n",
            "bidirectional_4 (Bidirection (None, 512)               935936    \n",
            "_________________________________________________________________\n",
            "output_layer (Dense)         (None, 1)                 513       \n",
            "=================================================================\n",
            "Total params: 2,936,449\n",
            "Trainable params: 2,936,449\n",
            "Non-trainable params: 0\n",
            "_________________________________________________________________\n"
          ],
          "name": "stdout"
        }
      ]
    },
    {
      "cell_type": "code",
      "metadata": {
        "colab_type": "code",
        "id": "fu7qgTx6v-kf",
        "colab": {
          "base_uri": "https://localhost:8080/",
          "height": 87
        },
        "outputId": "2319b99c-60a7-40f0-b615-483e7d5821d7"
      },
      "source": [
        "history = bidirectional_model.fit(x_train, y_train, validation_split=.3,\n",
        "          epochs=2, batch_size=200);"
      ],
      "execution_count": 360,
      "outputs": [
        {
          "output_type": "stream",
          "text": [
            "Epoch 1/2\n",
            "112/112 [==============================] - 38s 338ms/step - loss: 0.5745 - accuracy: 0.7034 - val_loss: 0.5084 - val_accuracy: 0.7644\n",
            "Epoch 2/2\n",
            "112/112 [==============================] - 37s 332ms/step - loss: 0.4961 - accuracy: 0.7756 - val_loss: 0.5105 - val_accuracy: 0.7638\n"
          ],
          "name": "stdout"
        }
      ]
    },
    {
      "cell_type": "code",
      "metadata": {
        "colab_type": "code",
        "id": "Ldb6HhuAGINC",
        "colab": {
          "base_uri": "https://localhost:8080/",
          "height": 35
        },
        "outputId": "05a59c74-9791-4e1a-a705-b3497a4bd5e3"
      },
      "source": [
        "scores = bidirectional_model.evaluate(x_test, y_test, verbose=0)\n",
        "print(\"Accuracy: %.2f%%\" % (scores[1]*100))"
      ],
      "execution_count": 361,
      "outputs": [
        {
          "output_type": "stream",
          "text": [
            "Accuracy: 75.41%\n"
          ],
          "name": "stdout"
        }
      ]
    },
    {
      "cell_type": "code",
      "metadata": {
        "id": "PB0_RKuwu2pT",
        "colab_type": "code",
        "colab": {
          "base_uri": "https://localhost:8080/",
          "height": 295
        },
        "outputId": "4664c480-2d5a-48b4-fb2d-241d7b1b5a1c"
      },
      "source": [
        "# summarize history for accuracy\n",
        "\n",
        "\n",
        "plt.plot(history.history['accuracy'])\n",
        "plt.plot(history.history['val_accuracy'])\n",
        "plt.title('model accuracy')\n",
        "plt.ylabel('accuracy')\n",
        "plt.xlabel('epoch')\n",
        "plt.legend(['train', 'test'], loc='upper left')\n",
        "plt.show()"
      ],
      "execution_count": 362,
      "outputs": [
        {
          "output_type": "display_data",
          "data": {
            "image/png": "[encoded data removed]",
            "text/plain": [
              "<Figure size 432x288 with 1 Axes>"
            ]
          },
          "metadata": {
            "tags": [],
            "needs_background": "light"
          }
        }
      ]
    },
    {
      "cell_type": "markdown",
      "metadata": {
        "colab_type": "text",
        "id": "METxMGE7v-kh"
      },
      "source": [
        "### LSTM Classifier with attention"
      ]
    },
    {
      "cell_type": "code",
      "metadata": {
        "colab_type": "code",
        "id": "T6xRNOIAv-ki",
        "colab": {}
      },
      "source": [
        "#our attention layer, uses Bahdanau Attention from 2015 paper that's essentially weighted sum, also known as \"additive attention\"\n",
        "class BahdanauAttention(layers.Layer):\n",
        "    def __init__(self, units):\n",
        "        super(BahdanauAttention, self).__init__()\n",
        "        self.W1 = tf.keras.layers.Dense(units)\n",
        "        self.W2 = tf.keras.layers.Dense(units)\n",
        "        self.V = tf.keras.layers.Dense(1)\n",
        "        self._name=\"Attention\"\n",
        " \n",
        "    def call(self, features, hidden):\n",
        "    # hidden state shape == (batch_size, hidden size)\n",
        "    # hidden_with_time_axis shape == (batch_size, 1, hidden size)\n",
        "    # values shape == (batch_size, max_len, hidden size)\n",
        "    # we are doing this to broadcast addition along the time axis to calculate the score\n",
        "        hidden_with_time_axis = tf.expand_dims(hidden, 1)\n",
        "    # score shape == (batch_size, max_length, 1)\n",
        "    # we get 1 at the last axis because we are applying score to self.V\n",
        "    # the shape of the tensor before applying self.V is (batch_size, max_length, units)\n",
        "        score = tf.nn.tanh(self.W1(features) + self.W2(hidden_with_time_axis))\n",
        "        \n",
        "    # attention_weights shape == (batch_size, max_length, 1)\n",
        "        attention_weights = tf.nn.softmax(self.V(score), axis=1)\n",
        "    # context_vector shape after sum == (batch_size, hidden_size)\n",
        "        context_vector = attention_weights * features\n",
        "        context_vector = tf.reduce_sum(context_vector, axis=1)\n",
        " \n",
        "        return context_vector, attention_weights"
      ],
      "execution_count": 363,
      "outputs": []
    },
    {
      "cell_type": "code",
      "metadata": {
        "colab_type": "code",
        "id": "nsOVvLufv-kk",
        "colab": {
          "base_uri": "https://localhost:8080/",
          "height": 329
        },
        "outputId": "0abb832d-4ac7-42ba-b169-3b761a244981"
      },
      "source": [
        "#LSTM Classifier with Attention\n",
        "attn_units=128\n",
        "\n",
        "sequence_input = layers.Input(shape=(max_len,),name=\"input_layer\", dtype='int32')\n",
        "embeddings = keras.layers.Embedding(input_dim=vocab_size, output_dim=embedding_units, input_length=max_len,name=\"embedding_layer\")(sequence_input)\n",
        "lstm_output,hidden_h, hidden_c=tf.keras.layers.LSTM(rnn_units,name='LSTM',return_sequences=True,\n",
        "                                      return_state=True)(embeddings)\n",
        "context_vector, attention_weights = BahdanauAttention(attn_units)(lstm_output, hidden_h)\n",
        "output = keras.layers.Dense(1, activation='sigmoid',name='output_layer')(context_vector)\n",
        "attn_model = keras.Model(inputs=sequence_input, outputs=output)\n",
        " \n",
        "# summarize layers\n",
        "attn_model.summary()"
      ],
      "execution_count": 364,
      "outputs": [
        {
          "output_type": "stream",
          "text": [
            "Model: \"model_21\"\n",
            "_________________________________________________________________\n",
            "Layer (type)                 Output Shape              Param #   \n",
            "=================================================================\n",
            "input_layer (InputLayer)     [(None, 500)]             0         \n",
            "_________________________________________________________________\n",
            "embedding_layer (Embedding)  (None, 500, 200)          2000000   \n",
            "_________________________________________________________________\n",
            "LSTM (LSTM)                  [(None, 500, 256), (None, 467968    \n",
            "_________________________________________________________________\n",
            "Attention (BahdanauAttention ((None, 256), (None, 500, 65921     \n",
            "_________________________________________________________________\n",
            "output_layer (Dense)         (None, 1)                 257       \n",
            "=================================================================\n",
            "Total params: 2,534,146\n",
            "Trainable params: 2,534,146\n",
            "Non-trainable params: 0\n",
            "_________________________________________________________________\n"
          ],
          "name": "stdout"
        }
      ]
    },
    {
      "cell_type": "code",
      "metadata": {
        "colab_type": "code",
        "id": "M__BtuGLv-kn",
        "colab": {}
      },
      "source": [
        "attn_model.compile(optimizer='adam',\n",
        "              loss='binary_crossentropy',\n",
        "              metrics=['accuracy'])\n",
        "\n",
        "early_stopping_callback = keras.callbacks.EarlyStopping(monitor='val_loss',\n",
        "                                                        min_delta=0,\n",
        "                                                        patience=3,\n",
        "                                                        verbose=0, mode='auto')"
      ],
      "execution_count": 365,
      "outputs": []
    },
    {
      "cell_type": "code",
      "metadata": {
        "colab_type": "code",
        "id": "KAG9yZ7lv-kp",
        "colab": {
          "base_uri": "https://localhost:8080/",
          "height": 87
        },
        "outputId": "3ae4f59f-05bc-452d-a8e8-bc0f4859c137"
      },
      "source": [
        "history = attn_model.fit(x_train,\n",
        "                    y_train,\n",
        "                    epochs=2,\n",
        "                    batch_size=200,\n",
        "                    validation_split=.3, verbose=1, callbacks=[early_stopping_callback])"
      ],
      "execution_count": 366,
      "outputs": [
        {
          "output_type": "stream",
          "text": [
            "Epoch 1/2\n",
            "112/112 [==============================] - 23s 208ms/step - loss: 0.5470 - accuracy: 0.7270 - val_loss: 0.5046 - val_accuracy: 0.7644\n",
            "Epoch 2/2\n",
            "112/112 [==============================] - 23s 205ms/step - loss: 0.4852 - accuracy: 0.7751 - val_loss: 0.5000 - val_accuracy: 0.7684\n"
          ],
          "name": "stdout"
        }
      ]
    },
    {
      "cell_type": "code",
      "metadata": {
        "colab_type": "code",
        "id": "vTRlxhCev-kr",
        "colab": {
          "base_uri": "https://localhost:8080/",
          "height": 52
        },
        "outputId": "5f1e36e5-fa92-4eaf-a2f1-f37ecf989940"
      },
      "source": [
        "result = attn_model.evaluate(x_test, y_test)\n",
        "print(result)"
      ],
      "execution_count": 367,
      "outputs": [
        {
          "output_type": "stream",
          "text": [
            "250/250 [==============================] - 4s 15ms/step - loss: 0.5053 - accuracy: 0.7600\n",
            "[0.5052657723426819, 0.7599999904632568]\n"
          ],
          "name": "stdout"
        }
      ]
    },
    {
      "cell_type": "code",
      "metadata": {
        "id": "IBpG-ixDuv5C",
        "colab_type": "code",
        "colab": {
          "base_uri": "https://localhost:8080/",
          "height": 295
        },
        "outputId": "08689c4b-2ac6-47c9-ed88-2fb99343170c"
      },
      "source": [
        "# summarize history for accuracy\n",
        "\n",
        "\n",
        "plt.plot(history.history['accuracy'])\n",
        "plt.plot(history.history['val_accuracy'])\n",
        "plt.title('model accuracy')\n",
        "plt.ylabel('accuracy')\n",
        "plt.xlabel('epoch')\n",
        "plt.legend(['train', 'test'], loc='upper left')\n",
        "plt.show()"
      ],
      "execution_count": 368,
      "outputs": [
        {
          "output_type": "display_data",
          "data": {
            "image/png": "[encoded data removed]",
            "text/plain": [
              "<Figure size 432x288 with 1 Axes>"
            ]
          },
          "metadata": {
            "tags": [],
            "needs_background": "light"
          }
        }
      ]
    },
    {
      "cell_type": "markdown",
      "metadata": {
        "colab_type": "text",
        "id": "dgkH5WNJv-kt"
      },
      "source": [
        "### LSTM Classifier with attention and GloVe embedding"
      ]
    },
    {
      "cell_type": "code",
      "metadata": {
        "colab_type": "code",
        "id": "6xfUbHSFo75J",
        "colab": {
          "base_uri": "https://localhost:8080/",
          "height": 35
        },
        "outputId": "e33752b0-3ee0-4898-866c-0a962cf03f39"
      },
      "source": [
        "import os\n",
        "import itertools\n",
        "embeddings_index = {}\n",
        "f = open(os.path.join('/contents/My Drive/W266', 'glove.6B.50d.txt'))\n",
        "for line in f:\n",
        "    values = line.split()\n",
        "    word = values[0]\n",
        "    coefs = np.asarray(values[1:], dtype='float32')\n",
        "    embeddings_index[word] = coefs\n",
        "f.close()\n",
        "\n",
        "print('Found %s word vectors.' % len(embeddings_index))"
      ],
      "execution_count": 369,
      "outputs": [
        {
          "output_type": "stream",
          "text": [
            "Found 400001 word vectors.\n"
          ],
          "name": "stdout"
        }
      ]
    },
    {
      "cell_type": "code",
      "metadata": {
        "colab_type": "code",
        "id": "1BT-Ln2C0GY1",
        "colab": {
          "base_uri": "https://localhost:8080/",
          "height": 35
        },
        "outputId": "5234d48d-8dbf-4734-f0e2-13869da76c96"
      },
      "source": [
        "word_index = tokenizer.word_index\n",
        "print('Found %s unique tokens.' % len(word_index))"
      ],
      "execution_count": 370,
      "outputs": [
        {
          "output_type": "stream",
          "text": [
            "Found 52579 unique tokens.\n"
          ],
          "name": "stdout"
        }
      ]
    },
    {
      "cell_type": "code",
      "metadata": {
        "colab_type": "code",
        "id": "w9riqdJ60IxI",
        "colab": {}
      },
      "source": [
        "vocab_size = len(word_index) + 1\n",
        "\n",
        "embedding_dim = 50\n",
        "\n",
        "\n",
        "# first create a matrix of zeros, this is our embedding matrix\n",
        "embedding_matrix = np.zeros((vocab_size, embedding_dim))\n",
        "\n",
        "# for each word in out tokenizer lets try to find that work in our w2v model\n",
        "for word, i in word_index.items():\n",
        "    embedding_vector = embeddings_index.get(word)\n",
        "    if embedding_vector is not None:\n",
        "        # we found the word - add that words vector to the matrix\n",
        "        embedding_matrix[i] = embedding_vector\n",
        "    else:\n",
        "        # doesn't exist, assign a random vector\n",
        "        embedding_matrix[i] = np.random.randn(embedding_dim)"
      ],
      "execution_count": 371,
      "outputs": []
    },
    {
      "cell_type": "code",
      "metadata": {
        "colab_type": "code",
        "id": "Gljs7Upx1p6u",
        "colab": {
          "base_uri": "https://localhost:8080/",
          "height": 329
        },
        "outputId": "dc6ba44f-2fc5-4b09-a712-592ae67ad8ab"
      },
      "source": [
        "attn_units=128\n",
        "sequence_input = layers.Input(shape=(max_len,),name=\"input_layer\", dtype='int32')\n",
        "#put in glove embeddings in weights\n",
        "embeddings = keras.layers.Embedding(input_dim=vocab_size, output_dim=embedding_dim, input_length=max_len, weights=[embedding_matrix], name=\"embedding_layer\", trainable = 'false')(sequence_input)\n",
        "lstm_output,hidden_h, hidden_c=tf.keras.layers.LSTM(rnn_units,name='LSTM',return_sequences=True,\n",
        "                                      return_state=True)(embeddings)\n",
        "context_vector, attention_weights = BahdanauAttention(attn_units)(lstm_output, hidden_h)\n",
        "output = keras.layers.Dense(1, activation='sigmoid',name='output_layer')(context_vector)\n",
        "glove_attn_model = keras.Model(inputs=sequence_input, outputs=output)\n",
        " \n",
        "# summarize layers\n",
        "glove_attn_model.summary()"
      ],
      "execution_count": 372,
      "outputs": [
        {
          "output_type": "stream",
          "text": [
            "Model: \"model_22\"\n",
            "_________________________________________________________________\n",
            "Layer (type)                 Output Shape              Param #   \n",
            "=================================================================\n",
            "input_layer (InputLayer)     [(None, 500)]             0         \n",
            "_________________________________________________________________\n",
            "embedding_layer (Embedding)  (None, 500, 50)           2629000   \n",
            "_________________________________________________________________\n",
            "LSTM (LSTM)                  [(None, 500, 256), (None, 314368    \n",
            "_________________________________________________________________\n",
            "Attention (BahdanauAttention ((None, 256), (None, 500, 65921     \n",
            "_________________________________________________________________\n",
            "output_layer (Dense)         (None, 1)                 257       \n",
            "=================================================================\n",
            "Total params: 3,009,546\n",
            "Trainable params: 3,009,546\n",
            "Non-trainable params: 0\n",
            "_________________________________________________________________\n"
          ],
          "name": "stdout"
        }
      ]
    },
    {
      "cell_type": "code",
      "metadata": {
        "colab_type": "code",
        "id": "uYdzhcO4FHYv",
        "colab": {}
      },
      "source": [
        "glove_attn_model.compile(optimizer='adam',\n",
        "              loss='binary_crossentropy',\n",
        "              metrics=['accuracy'])\n",
        "\n",
        "early_stopping_callback = keras.callbacks.EarlyStopping(monitor='val_loss',\n",
        "                                                        min_delta=0,\n",
        "                                                        patience=3,\n",
        "                                                        verbose=0, mode='auto')"
      ],
      "execution_count": 373,
      "outputs": []
    },
    {
      "cell_type": "code",
      "metadata": {
        "colab_type": "code",
        "id": "O_tR9j84GDMD",
        "colab": {
          "base_uri": "https://localhost:8080/",
          "height": 87
        },
        "outputId": "382ea7d9-8a8a-4651-f167-7901a06cc120"
      },
      "source": [
        "history = glove_attn_model.fit(x_train,\n",
        "                    y_train,\n",
        "                    epochs=2,\n",
        "                    batch_size=200,\n",
        "                    validation_split=.3, verbose=1, callbacks=[early_stopping_callback])"
      ],
      "execution_count": 374,
      "outputs": [
        {
          "output_type": "stream",
          "text": [
            "Epoch 1/2\n",
            "112/112 [==============================] - 18s 160ms/step - loss: 0.5530 - accuracy: 0.7196 - val_loss: 0.5383 - val_accuracy: 0.7334\n",
            "Epoch 2/2\n",
            "112/112 [==============================] - 18s 159ms/step - loss: 0.5293 - accuracy: 0.7390 - val_loss: 0.5143 - val_accuracy: 0.7570\n"
          ],
          "name": "stdout"
        }
      ]
    },
    {
      "cell_type": "code",
      "metadata": {
        "colab_type": "code",
        "id": "2AZTY0XXGFKr",
        "colab": {
          "base_uri": "https://localhost:8080/",
          "height": 52
        },
        "outputId": "0fda010b-605a-47e4-95cc-4449904d0626"
      },
      "source": [
        "result = glove_attn_model.evaluate(x_test, y_test)\n",
        "print(result)"
      ],
      "execution_count": 375,
      "outputs": [
        {
          "output_type": "stream",
          "text": [
            "250/250 [==============================] - 3s 13ms/step - loss: 0.5176 - accuracy: 0.7524\n",
            "[0.5176299810409546, 0.7523750066757202]\n"
          ],
          "name": "stdout"
        }
      ]
    },
    {
      "cell_type": "code",
      "metadata": {
        "id": "yVZh4P9KutHg",
        "colab_type": "code",
        "colab": {
          "base_uri": "https://localhost:8080/",
          "height": 295
        },
        "outputId": "625dc3ed-e03b-4b41-eea1-c56f7ad26e79"
      },
      "source": [
        "# summarize history for accuracy\n",
        "\n",
        "\n",
        "plt.plot(history.history['accuracy'])\n",
        "plt.plot(history.history['val_accuracy'])\n",
        "plt.title('model accuracy')\n",
        "plt.ylabel('accuracy')\n",
        "plt.xlabel('epoch')\n",
        "plt.legend(['train', 'test'], loc='upper left')\n",
        "plt.show()"
      ],
      "execution_count": 376,
      "outputs": [
        {
          "output_type": "display_data",
          "data": {
            "image/png": "[encoded data removed]",
            "text/plain": [
              "<Figure size 432x288 with 1 Axes>"
            ]
          },
          "metadata": {
            "tags": [],
            "needs_background": "light"
          }
        }
      ]
    },
    {
      "cell_type": "markdown",
      "metadata": {
        "id": "3fSTHzwvFld8",
        "colab_type": "text"
      },
      "source": [
        "### Additional Features"
      ]
    },
    {
      "cell_type": "code",
      "metadata": {
        "id": "N_jbSEe3Fo4B",
        "colab_type": "code",
        "colab": {
          "base_uri": "https://localhost:8080/",
          "height": 485
        },
        "outputId": "bf617d96-416f-4164-8e49-12c6d02a4d17"
      },
      "source": [
        "attn_units = 128\n",
        "#embedding_units = 200\n",
        "rnn_units = 256\n",
        "\n",
        "#LSTM Classifier with Attention\n",
        "sequence_input = layers.Input(shape=(max_len,),name=\"input_layer\", dtype='int32')\n",
        "embeddings = keras.layers.Embedding(input_dim=vocab_size, output_dim=embedding_dim, input_length=max_len, weights=[embedding_matrix], name=\"embedding_layer\", trainable = 'false')(sequence_input)\n",
        "lstm_output,hidden_h, hidden_c=(tf.keras.layers.LSTM(rnn_units,name='LSTM',return_sequences=True,\n",
        "                                      return_state=True))(embeddings)\n",
        "context_vector, attention_weights = BahdanauAttention(attn_units)(lstm_output, hidden_h)\n",
        "\n",
        "other_input = layers.Input(shape=(x2_train.shape[1],),name=\"input_other\", dtype='float32')\n",
        "\n",
        "concat_output = tf.keras.layers.Concatenate()([context_vector, other_input])\n",
        "\n",
        "Dense1 = keras.layers.Dense(100, activation='relu',name='dense1')(concat_output)\n",
        "Dense2 = keras.layers.Dense(30, activation='relu',name='dense2')(Dense1)\n",
        "output = keras.layers.Dense(1, activation='sigmoid',name='output_layer')(Dense2)\n",
        "\n",
        "attn_model_f = keras.Model(inputs=[sequence_input, other_input], outputs=output)\n",
        " \n",
        "# summarize layers\n",
        "attn_model_f.summary()\n",
        "\n",
        "attn_model_f.compile(optimizer='adam',\n",
        "              loss='binary_crossentropy',\n",
        "              metrics=['accuracy'])"
      ],
      "execution_count": 377,
      "outputs": [
        {
          "output_type": "stream",
          "text": [
            "Model: \"model_23\"\n",
            "__________________________________________________________________________________________________\n",
            "Layer (type)                    Output Shape         Param #     Connected to                     \n",
            "==================================================================================================\n",
            "input_layer (InputLayer)        [(None, 500)]        0                                            \n",
            "__________________________________________________________________________________________________\n",
            "embedding_layer (Embedding)     (None, 500, 50)      2629000     input_layer[0][0]                \n",
            "__________________________________________________________________________________________________\n",
            "LSTM (LSTM)                     [(None, 500, 256), ( 314368      embedding_layer[0][0]            \n",
            "__________________________________________________________________________________________________\n",
            "Attention (BahdanauAttention)   ((None, 256), (None, 65921       LSTM[0][0]                       \n",
            "__________________________________________________________________________________________________\n",
            "input_other (InputLayer)        [(None, 3)]          0                                            \n",
            "__________________________________________________________________________________________________\n",
            "concatenate_3 (Concatenate)     (None, 259)          0           Attention[0][0]                  \n",
            "                                                                 input_other[0][0]                \n",
            "__________________________________________________________________________________________________\n",
            "dense1 (Dense)                  (None, 100)          26000       concatenate_3[0][0]              \n",
            "__________________________________________________________________________________________________\n",
            "dense2 (Dense)                  (None, 30)           3030        dense1[0][0]                     \n",
            "__________________________________________________________________________________________________\n",
            "output_layer (Dense)            (None, 1)            31          dense2[0][0]                     \n",
            "==================================================================================================\n",
            "Total params: 3,038,350\n",
            "Trainable params: 3,038,350\n",
            "Non-trainable params: 0\n",
            "__________________________________________________________________________________________________\n"
          ],
          "name": "stdout"
        }
      ]
    },
    {
      "cell_type": "code",
      "metadata": {
        "id": "hJNUIFf6GWB3",
        "colab_type": "code",
        "colab": {
          "base_uri": "https://localhost:8080/",
          "height": 441
        },
        "outputId": "71f24856-7ac6-4479-9eb7-50e909d3117d"
      },
      "source": [
        "tf.keras.utils.plot_model(attn_model_f, show_shapes=True, dpi=48)"
      ],
      "execution_count": 378,
      "outputs": [
        {
          "output_type": "execute_result",
          "data": {
            "image/png": "[encoded data removed]",
            "text/plain": [
              "<IPython.core.display.Image object>"
            ]
          },
          "metadata": {
            "tags": []
          },
          "execution_count": 378
        }
      ]
    },
    {
      "cell_type": "code",
      "metadata": {
        "id": "FVdFXMmRGj5C",
        "colab_type": "code",
        "colab": {}
      },
      "source": [
        "attn_model_f.compile(optimizer='adam',\n",
        "              loss='binary_crossentropy',\n",
        "              metrics=['accuracy'])\n",
        "\n",
        "early_stopping_callback = keras.callbacks.EarlyStopping(monitor='val_loss',\n",
        "                                                        min_delta=0,\n",
        "                                                        patience=3,\n",
        "                                                        verbose=0, mode='auto')"
      ],
      "execution_count": 379,
      "outputs": []
    },
    {
      "cell_type": "code",
      "metadata": {
        "id": "Ylgr5e9WGtri",
        "colab_type": "code",
        "colab": {
          "base_uri": "https://localhost:8080/",
          "height": 191
        },
        "outputId": "5d61602e-7a8c-4e76-cd9b-1423333e95a4"
      },
      "source": [
        "history = attn_model_f.fit([x_train, x2_train],\n",
        "                    y_train,\n",
        "                    epochs=5,\n",
        "                    batch_size=200,\n",
        "                    validation_split=.3, verbose=1, callbacks=[early_stopping_callback])"
      ],
      "execution_count": 380,
      "outputs": [
        {
          "output_type": "stream",
          "text": [
            "Epoch 1/5\n",
            "112/112 [==============================] - 18s 159ms/step - loss: 0.5476 - accuracy: 0.7214 - val_loss: 0.5189 - val_accuracy: 0.7539\n",
            "Epoch 2/5\n",
            "112/112 [==============================] - 17s 156ms/step - loss: 0.5237 - accuracy: 0.7431 - val_loss: 0.5145 - val_accuracy: 0.7566\n",
            "Epoch 3/5\n",
            "112/112 [==============================] - 17s 155ms/step - loss: 0.5127 - accuracy: 0.7511 - val_loss: 0.5079 - val_accuracy: 0.7588\n",
            "Epoch 4/5\n",
            "112/112 [==============================] - 17s 155ms/step - loss: 0.4914 - accuracy: 0.7663 - val_loss: 0.5051 - val_accuracy: 0.7634\n",
            "Epoch 5/5\n",
            "112/112 [==============================] - 17s 155ms/step - loss: 0.4669 - accuracy: 0.7845 - val_loss: 0.5308 - val_accuracy: 0.7432\n"
          ],
          "name": "stdout"
        }
      ]
    },
    {
      "cell_type": "code",
      "metadata": {
        "id": "F5xQqa7AG4qH",
        "colab_type": "code",
        "colab": {
          "base_uri": "https://localhost:8080/",
          "height": 52
        },
        "outputId": "ae308dfe-6ec8-43a4-b5ea-923b488351c1"
      },
      "source": [
        "attn_model_f.evaluate([x_test, x2_test], y_test)"
      ],
      "execution_count": 381,
      "outputs": [
        {
          "output_type": "stream",
          "text": [
            "250/250 [==============================] - 3s 13ms/step - loss: 0.5313 - accuracy: 0.7372\n"
          ],
          "name": "stdout"
        },
        {
          "output_type": "execute_result",
          "data": {
            "text/plain": [
              "[0.5312541723251343, 0.7372499704360962]"
            ]
          },
          "metadata": {
            "tags": []
          },
          "execution_count": 381
        }
      ]
    },
    {
      "cell_type": "code",
      "metadata": {
        "id": "ApM1epFBtRZX",
        "colab_type": "code",
        "colab": {
          "base_uri": "https://localhost:8080/",
          "height": 295
        },
        "outputId": "0e4d6dde-4d0a-46de-f89b-468ff90a6e98"
      },
      "source": [
        "# summarize history for accuracy\n",
        "\n",
        "\n",
        "plt.plot(history.history['accuracy'])\n",
        "plt.plot(history.history['val_accuracy'])\n",
        "plt.title('model accuracy')\n",
        "plt.ylabel('accuracy')\n",
        "plt.xlabel('epoch')\n",
        "plt.legend(['train', 'test'], loc='upper left')\n",
        "plt.show()"
      ],
      "execution_count": 382,
      "outputs": [
        {
          "output_type": "display_data",
          "data": {
            "image/png": "[encoded data removed]",
            "text/plain": [
              "<Figure size 432x288 with 1 Axes>"
            ]
          },
          "metadata": {
            "tags": [],
            "needs_background": "light"
          }
        }
      ]
    }
  ]
}