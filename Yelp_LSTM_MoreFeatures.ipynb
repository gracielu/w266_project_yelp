{
  "nbformat": 4,
  "nbformat_minor": 0,
  "metadata": {
    "accelerator": "GPU",
    "colab": {
      "name": "Yelp_LSTM_MoreFeatures.ipynb",
      "provenance": [],
      "collapsed_sections": []
    },
    "kernelspec": {
      "display_name": "Python 3",
      "language": "python",
      "name": "python3"
    },
    "language_info": {
      "codemirror_mode": {
        "name": "ipython",
        "version": 3
      },
      "file_extension": ".py",
      "mimetype": "text/x-python",
      "name": "python",
      "nbconvert_exporter": "python",
      "pygments_lexer": "ipython3",
      "version": "3.7.6"
    }
  },
  "cells": [
    {
      "cell_type": "markdown",
      "metadata": {
        "colab_type": "text",
        "id": "view-in-github"
      },
      "source": [
        "<a href=\"https://colab.research.google.com/github/gracielu/w266_project_yelp/blob/master/Yelp_LSTM_Suzy_asian.ipynb\" target=\"_parent\"><img src=\"https://colab.research.google.com/assets/colab-badge.svg\" alt=\"Open In Colab\"/></a>"
      ]
    },
    {
      "cell_type": "code",
      "metadata": {
        "colab_type": "code",
        "id": "2XZkZiHHv-iI",
        "colab": {}
      },
      "source": [
        "import numpy as np\n",
        "import pandas as pd\n",
        "import json"
      ],
      "execution_count": 1,
      "outputs": []
    },
    {
      "cell_type": "code",
      "metadata": {
        "colab_type": "code",
        "id": "XBFfpek3v-iY",
        "colab": {}
      },
      "source": [
        "import tensorflow as tf\n",
        "from tensorflow import keras\n",
        "\n",
        "from tensorflow.keras.models import Sequential\n",
        "from tensorflow.keras import layers\n",
        "from tensorflow.keras.layers import Dense\n",
        "from tensorflow.keras.layers import LSTM\n",
        "from tensorflow.keras.layers import Embedding\n",
        "from tensorflow.keras.preprocessing import sequence\n",
        "from tensorflow.keras.preprocessing.text import Tokenizer\n",
        "from tensorflow.keras.utils import to_categorical\n",
        "# fix random seed for reproducibility\n",
        "np.random.seed(7)"
      ],
      "execution_count": 3,
      "outputs": []
    },
    {
      "cell_type": "code",
      "metadata": {
        "colab_type": "code",
        "id": "3gPCvp-WuZGC",
        "colab": {
          "base_uri": "https://localhost:8080/",
          "height": 34
        },
        "outputId": "ccfd41f2-0194-4bc9-fc5f-a8f03fa3c081"
      },
      "source": [
        "from google.colab import drive\n",
        "drive.mount('/contents/')"
      ],
      "execution_count": 5,
      "outputs": [
        {
          "output_type": "stream",
          "text": [
            "Mounted at /contents/\n"
          ],
          "name": "stdout"
        }
      ]
    },
    {
      "cell_type": "code",
      "metadata": {
        "colab_type": "code",
        "id": "hYV5wKCov-im",
        "colab": {}
      },
      "source": [
        "yelp_reviews=pd.read_csv(\"/contents/My Drive/review_sample.csv\")"
      ],
      "execution_count": 27,
      "outputs": []
    },
    {
      "cell_type": "code",
      "metadata": {
        "colab_type": "code",
        "id": "Ety2fXOXv-i1",
        "colab": {
          "base_uri": "https://localhost:8080/",
          "height": 318
        },
        "outputId": "99d0fe9e-7e35-49ec-d064-d608b5c55e78"
      },
      "source": [
        "yelp_reviews.head(2)"
      ],
      "execution_count": 28,
      "outputs": [
        {
          "output_type": "execute_result",
          "data": {
            "text/html": [
              "<div>\n",
              "<style scoped>\n",
              "    .dataframe tbody tr th:only-of-type {\n",
              "        vertical-align: middle;\n",
              "    }\n",
              "\n",
              "    .dataframe tbody tr th {\n",
              "        vertical-align: top;\n",
              "    }\n",
              "\n",
              "    .dataframe thead th {\n",
              "        text-align: right;\n",
              "    }\n",
              "</style>\n",
              "<table border=\"1\" class=\"dataframe\">\n",
              "  <thead>\n",
              "    <tr style=\"text-align: right;\">\n",
              "      <th></th>\n",
              "      <th>business_id</th>\n",
              "      <th>state</th>\n",
              "      <th>city</th>\n",
              "      <th>categories</th>\n",
              "      <th>review_count</th>\n",
              "      <th>category</th>\n",
              "      <th>cuisine</th>\n",
              "      <th>review_id</th>\n",
              "      <th>user_id</th>\n",
              "      <th>stars</th>\n",
              "      <th>useful</th>\n",
              "      <th>funny</th>\n",
              "      <th>cool</th>\n",
              "      <th>text</th>\n",
              "      <th>date</th>\n",
              "      <th>year</th>\n",
              "      <th>length</th>\n",
              "      <th>business_cnt</th>\n",
              "      <th>labels</th>\n",
              "      <th>American</th>\n",
              "      <th>Asian</th>\n",
              "      <th>Mexican</th>\n",
              "    </tr>\n",
              "  </thead>\n",
              "  <tbody>\n",
              "    <tr>\n",
              "      <th>0</th>\n",
              "      <td>8keN8Z2sylAEXgMCJMQpDg</td>\n",
              "      <td>AZ</td>\n",
              "      <td>Chandler</td>\n",
              "      <td>Soup, Chinese, Restaurants, Seafood, Chicken Shop</td>\n",
              "      <td>230</td>\n",
              "      <td>Chinese</td>\n",
              "      <td>Asian</td>\n",
              "      <td>2ZPXn8b5_WoHJBi6TcF-Bw</td>\n",
              "      <td>srfEK_-HRq6E-1XkS7NEyw</td>\n",
              "      <td>5.0</td>\n",
              "      <td>2</td>\n",
              "      <td>1</td>\n",
              "      <td>2</td>\n",
              "      <td>Better than average Chinese food. They usually...</td>\n",
              "      <td>2019-03-10 15:16:53</td>\n",
              "      <td>2019</td>\n",
              "      <td>502</td>\n",
              "      <td>239</td>\n",
              "      <td>1</td>\n",
              "      <td>0</td>\n",
              "      <td>1</td>\n",
              "      <td>0</td>\n",
              "    </tr>\n",
              "    <tr>\n",
              "      <th>1</th>\n",
              "      <td>APM7r0DaFgwHk8fzvjBphA</td>\n",
              "      <td>AZ</td>\n",
              "      <td>Tempe</td>\n",
              "      <td>Breakfast &amp; Brunch, Bars, Restaurants, Mexican...</td>\n",
              "      <td>76</td>\n",
              "      <td>Mexican</td>\n",
              "      <td>Mexican</td>\n",
              "      <td>586dCJMCx-DJnSBlu-mAeA</td>\n",
              "      <td>fZXYoG5teswbFKR60oFBtw</td>\n",
              "      <td>4.0</td>\n",
              "      <td>0</td>\n",
              "      <td>0</td>\n",
              "      <td>0</td>\n",
              "      <td>Think of Chipotle but with a huge bar with ton...</td>\n",
              "      <td>2019-11-13 20:16:26</td>\n",
              "      <td>2019</td>\n",
              "      <td>1177</td>\n",
              "      <td>78</td>\n",
              "      <td>0</td>\n",
              "      <td>0</td>\n",
              "      <td>0</td>\n",
              "      <td>1</td>\n",
              "    </tr>\n",
              "  </tbody>\n",
              "</table>\n",
              "</div>"
            ],
            "text/plain": [
              "              business_id state      city  ... American  Asian Mexican\n",
              "0  8keN8Z2sylAEXgMCJMQpDg    AZ  Chandler  ...        0      1       0\n",
              "1  APM7r0DaFgwHk8fzvjBphA    AZ     Tempe  ...        0      0       1\n",
              "\n",
              "[2 rows x 22 columns]"
            ]
          },
          "metadata": {
            "tags": []
          },
          "execution_count": 28
        }
      ]
    },
    {
      "cell_type": "code",
      "metadata": {
        "colab_type": "code",
        "id": "OJ2E8sDpv-jA",
        "colab": {
          "base_uri": "https://localhost:8080/",
          "height": 85
        },
        "outputId": "f3230ae4-e3ce-4b5c-8d42-d9c9891d80e7"
      },
      "source": [
        "yelp_reviews['cuisine'].value_counts()"
      ],
      "execution_count": 29,
      "outputs": [
        {
          "output_type": "execute_result",
          "data": {
            "text/plain": [
              "American    13098\n",
              "Mexican      3601\n",
              "Asian        3301\n",
              "Name: cuisine, dtype: int64"
            ]
          },
          "metadata": {
            "tags": []
          },
          "execution_count": 29
        }
      ]
    },
    {
      "cell_type": "code",
      "metadata": {
        "colab_type": "code",
        "id": "qYLbxleHv-jR",
        "colab": {
          "base_uri": "https://localhost:8080/",
          "height": 119
        },
        "outputId": "29e0b429-81ef-429c-8230-47409c6a9e19"
      },
      "source": [
        "yelp_reviews['stars'].value_counts()"
      ],
      "execution_count": 30,
      "outputs": [
        {
          "output_type": "execute_result",
          "data": {
            "text/plain": [
              "5.0    10026\n",
              "1.0     3533\n",
              "4.0     3081\n",
              "3.0     1773\n",
              "2.0     1587\n",
              "Name: stars, dtype: int64"
            ]
          },
          "metadata": {
            "tags": []
          },
          "execution_count": 30
        }
      ]
    },
    {
      "cell_type": "code",
      "metadata": {
        "colab_type": "code",
        "id": "WhPW99_Nv-jW",
        "colab": {
          "base_uri": "https://localhost:8080/",
          "height": 71
        },
        "outputId": "462fd289-4113-4711-8d06-e67250e470ed"
      },
      "source": [
        "yelp_reviews.text[5]"
      ],
      "execution_count": 31,
      "outputs": [
        {
          "output_type": "execute_result",
          "data": {
            "application/vnd.google.colaboratory.intrinsic+json": {
              "type": "string"
            },
            "text/plain": [
              "'I went with a friend last Saturday at 5:00 p.m. The service was outstanding and the food was even better. The Normal Diner - beautifully renovated and under new management which includes chef Chris Bianco - is a welcome addition to the neighborhood. Tempe needs more quality restaurants with good service and I will be back to eat at the Normal Dinner again.'"
            ]
          },
          "metadata": {
            "tags": []
          },
          "execution_count": 31
        }
      ]
    },
    {
      "cell_type": "code",
      "metadata": {
        "colab_type": "code",
        "id": "f6wUY7APv-ja",
        "colab": {
          "base_uri": "https://localhost:8080/",
          "height": 408
        },
        "outputId": "d639311a-4f1c-40dc-e157-b1a620465d67"
      },
      "source": [
        "yelp_reviews.isnull().any()"
      ],
      "execution_count": 32,
      "outputs": [
        {
          "output_type": "execute_result",
          "data": {
            "text/plain": [
              "business_id     False\n",
              "state           False\n",
              "city            False\n",
              "categories      False\n",
              "review_count    False\n",
              "category        False\n",
              "cuisine         False\n",
              "review_id       False\n",
              "user_id         False\n",
              "stars           False\n",
              "useful          False\n",
              "funny           False\n",
              "cool            False\n",
              "text            False\n",
              "date            False\n",
              "year            False\n",
              "length          False\n",
              "business_cnt    False\n",
              "labels          False\n",
              "American        False\n",
              "Asian           False\n",
              "Mexican         False\n",
              "dtype: bool"
            ]
          },
          "metadata": {
            "tags": []
          },
          "execution_count": 32
        }
      ]
    },
    {
      "cell_type": "code",
      "metadata": {
        "colab_type": "code",
        "id": "AmB8jpw_v-jd",
        "colab": {}
      },
      "source": [
        "#yelp_reviews[\"labels\"]= yelp_reviews[\"useful\"].apply(lambda x: 1 if x >= 1  else 0)"
      ],
      "execution_count": 33,
      "outputs": []
    },
    {
      "cell_type": "code",
      "metadata": {
        "colab_type": "code",
        "id": "P18vw-P5v-jg",
        "colab": {
          "base_uri": "https://localhost:8080/",
          "height": 68
        },
        "outputId": "abb539e5-4c6e-461d-9974-52fccbba0c8c"
      },
      "source": [
        "yelp_reviews['labels'].value_counts()"
      ],
      "execution_count": 34,
      "outputs": [
        {
          "output_type": "execute_result",
          "data": {
            "text/plain": [
              "0    13567\n",
              "1     6433\n",
              "Name: labels, dtype: int64"
            ]
          },
          "metadata": {
            "tags": []
          },
          "execution_count": 34
        }
      ]
    },
    {
      "cell_type": "code",
      "metadata": {
        "id": "0M5LL_GYAcM5",
        "colab_type": "code",
        "colab": {}
      },
      "source": [
        "yelp_sample['star_deviation'] = yelp_sample['stars'] - yelp_sample.stars.mean()"
      ],
      "execution_count": 42,
      "outputs": []
    },
    {
      "cell_type": "markdown",
      "metadata": {
        "id": "1oU1am27AOVa",
        "colab_type": "text"
      },
      "source": [
        "### Data Preprocessing"
      ]
    },
    {
      "cell_type": "code",
      "metadata": {
        "colab_type": "code",
        "id": "Fo_SMfNBv-jn",
        "colab": {}
      },
      "source": [
        "texts = yelp_sample[\"text\"].values\n",
        "labels = yelp_sample[\"labels\"].values\n",
        "stars = yelp_sample[\"star_deviation\"].values\n",
        "#stars = yelp_sample[\"star_dummy\"].values\n",
        "#stars = yelp_sample[\"stars\"].values\n",
        "business_cnt = yelp_sample[\"business_cnt\"].values\n",
        "length = yelp_sample[\"length\"].values\n",
        "American = yelp_sample[\"American\"].values\n",
        "Asian = yelp_sample[\"Asian\"].values\n",
        "Mexican = yelp_sample[\"Mexican\"].values"
      ],
      "execution_count": 43,
      "outputs": []
    },
    {
      "cell_type": "code",
      "metadata": {
        "colab_type": "code",
        "id": "mH6z_Yu1v-jq",
        "colab": {
          "base_uri": "https://localhost:8080/",
          "height": 34
        },
        "outputId": "a0e84d67-6624-4e0e-b962-07b92d833322"
      },
      "source": [
        "yelp_reviews[\"labels\"].values[:5]"
      ],
      "execution_count": 44,
      "outputs": [
        {
          "output_type": "execute_result",
          "data": {
            "text/plain": [
              "array([1, 0, 1, 1, 0])"
            ]
          },
          "metadata": {
            "tags": []
          },
          "execution_count": 44
        }
      ]
    },
    {
      "cell_type": "code",
      "metadata": {
        "colab_type": "code",
        "id": "q2OXqWwtv-ju",
        "colab": {
          "base_uri": "https://localhost:8080/",
          "height": 119
        },
        "outputId": "447e111a-ba99-4fea-fb4a-8af3a24a76d5"
      },
      "source": [
        "print(texts.shape)\n",
        "print(labels.shape)\n",
        "print(stars.shape)\n",
        "print(business_cnt.shape)\n",
        "print(American.shape)\n",
        "print(length.shape)"
      ],
      "execution_count": 46,
      "outputs": [
        {
          "output_type": "stream",
          "text": [
            "(20000,)\n",
            "(20000,)\n",
            "(20000,)\n",
            "(20000,)\n",
            "(20000,)\n",
            "(20000,)\n"
          ],
          "name": "stdout"
        }
      ]
    },
    {
      "cell_type": "code",
      "metadata": {
        "colab_type": "code",
        "id": "7BqDs7Idv-jz",
        "colab": {
          "base_uri": "https://localhost:8080/",
          "height": 34
        },
        "outputId": "cca8a6b5-2024-494e-9a4c-84bb676b412b"
      },
      "source": [
        "vocab_size=10000\n",
        "max_len=500\n",
        "\n",
        "tokenizer = Tokenizer(num_words=vocab_size)\n",
        "tokenizer.fit_on_texts(texts)\n",
        "sequences = tokenizer.texts_to_sequences(texts)\n",
        "\n",
        "word_index = tokenizer.word_index\n",
        "print('Found %s unique tokens.' % len(word_index))"
      ],
      "execution_count": 47,
      "outputs": [
        {
          "output_type": "stream",
          "text": [
            "Found 25569 unique tokens.\n"
          ],
          "name": "stdout"
        }
      ]
    },
    {
      "cell_type": "code",
      "metadata": {
        "colab_type": "code",
        "id": "nYJHkvbfv-j3",
        "colab": {
          "base_uri": "https://localhost:8080/",
          "height": 54
        },
        "outputId": "29ad268f-beec-446b-ac26-53cf57a28e5a"
      },
      "source": [
        "print(sequences[:1])"
      ],
      "execution_count": 48,
      "outputs": [
        {
          "output_type": "stream",
          "text": [
            "[[146, 137, 605, 578, 15, 18, 371, 25, 80, 436, 1197, 382, 585, 393, 2, 18, 371, 48, 7, 963, 3, 77, 1, 253, 2, 1111, 2, 14, 343, 1808, 1, 1705, 1896, 1956, 11, 74, 371, 48, 1, 703, 6930, 67, 32, 146, 137, 6931, 86, 395, 394, 32, 29, 2, 47, 1170, 2316, 96, 31, 10, 585, 1388, 5, 284, 18, 32, 74, 149, 260, 10, 1170, 11, 96, 371, 504, 21, 30, 153, 41, 2, 56, 501, 86, 1, 40, 11, 48, 41, 68, 9, 371, 229]]\n"
          ],
          "name": "stdout"
        }
      ]
    },
    {
      "cell_type": "code",
      "metadata": {
        "colab_type": "code",
        "id": "LFJdQrBSv-j6",
        "colab": {
          "base_uri": "https://localhost:8080/",
          "height": 51
        },
        "outputId": "6f4042db-ead1-452e-c5d4-738928171b56"
      },
      "source": [
        "print(list(word_index.items())[0])\n",
        "print(list(word_index.items())[100])"
      ],
      "execution_count": 49,
      "outputs": [
        {
          "output_type": "stream",
          "text": [
            "('the', 1)\n",
            "(\"i'm\", 101)\n"
          ],
          "name": "stdout"
        }
      ]
    },
    {
      "cell_type": "code",
      "metadata": {
        "colab_type": "code",
        "id": "RhInu4Opv-j9",
        "colab": {
          "base_uri": "https://localhost:8080/",
          "height": 34
        },
        "outputId": "23fa06e5-35cf-46a3-f851-4aeb224c7256"
      },
      "source": [
        "min(list(word_index.values()))"
      ],
      "execution_count": 50,
      "outputs": [
        {
          "output_type": "execute_result",
          "data": {
            "text/plain": [
              "1"
            ]
          },
          "metadata": {
            "tags": []
          },
          "execution_count": 50
        }
      ]
    },
    {
      "cell_type": "code",
      "metadata": {
        "colab_type": "code",
        "id": "xlH6mprEv-kA",
        "colab": {}
      },
      "source": [
        "data = sequence.pad_sequences(sequences, \n",
        "                              maxlen=max_len,\n",
        "                              padding='post', \n",
        "                              truncating='post'\n",
        "                             )"
      ],
      "execution_count": 51,
      "outputs": []
    },
    {
      "cell_type": "code",
      "metadata": {
        "colab_type": "code",
        "id": "4acugQi6v-kC",
        "colab": {
          "base_uri": "https://localhost:8080/",
          "height": 102
        },
        "outputId": "48b2d958-b29f-4c26-c3c0-e8c6ab6308b6"
      },
      "source": [
        "data[0:5]"
      ],
      "execution_count": 52,
      "outputs": [
        {
          "output_type": "execute_result",
          "data": {
            "text/plain": [
              "array([[ 146,  137,  605, ...,    0,    0,    0],\n",
              "       [ 207,    8,  985, ...,    0,    0,    0],\n",
              "       [ 160,   46,    2, ...,    0,    0,    0],\n",
              "       [  31, 2370,    8, ...,    0,    0,    0],\n",
              "       [  94, 1379,   16, ...,    0,    0,    0]], dtype=int32)"
            ]
          },
          "metadata": {
            "tags": []
          },
          "execution_count": 52
        }
      ]
    },
    {
      "cell_type": "code",
      "metadata": {
        "colab_type": "code",
        "id": "fSKRpMrYv-kF",
        "colab": {
          "base_uri": "https://localhost:8080/",
          "height": 68
        },
        "outputId": "89500315-e688-4876-a3b7-d85f7f15d28f"
      },
      "source": [
        "labels_b = to_categorical(np.asarray(labels))\n",
        "print('Shape of data:', data.shape)\n",
        "print('Shape of label:', labels.shape)\n",
        "print('Shape of label:', labels_b.shape)"
      ],
      "execution_count": 53,
      "outputs": [
        {
          "output_type": "stream",
          "text": [
            "Shape of data: (20000, 500)\n",
            "Shape of label: (20000,)\n",
            "Shape of label: (20000, 2)\n"
          ],
          "name": "stdout"
        }
      ]
    },
    {
      "cell_type": "code",
      "metadata": {
        "colab_type": "code",
        "id": "ndqCRx6qv-kI",
        "colab": {}
      },
      "source": [
        "VALIDATION_SPLIT=0.2\n",
        "\n",
        "indices = np.arange(data.shape[0])\n",
        "np.random.shuffle(indices)\n",
        "data = data[indices]\n",
        "labels = labels[indices]\n",
        "labels_b = labels_b[indices]\n",
        "\n",
        "stars = stars[indices]\n",
        "business_cnt = business_cnt[indices]\n",
        "length = length[indices]\n",
        "American = American[indices]\n",
        "Asian = Asian[indices]\n",
        "Mexican = Mexican[indices]\n",
        "\n",
        "nb_validation_samples = int(VALIDATION_SPLIT * data.shape[0])\n",
        "\n",
        "x_train = data[:-nb_validation_samples]\n",
        "y_train = labels[:-nb_validation_samples]\n",
        "y_train_b = labels_b[:-nb_validation_samples]\n",
        "x_test = data[-nb_validation_samples:]\n",
        "y_test = labels[-nb_validation_samples:]\n",
        "y_test_b = labels_b[-nb_validation_samples:]\n",
        "\n",
        "stars_train = stars[:-nb_validation_samples]\n",
        "stars_test = stars[-nb_validation_samples:]\n",
        "\n",
        "business_cnt_train = business_cnt[:-nb_validation_samples]\n",
        "business_cnt_test = business_cnt[-nb_validation_samples:]\n",
        "\n",
        "length_train = length[:-nb_validation_samples]\n",
        "length_test = length[-nb_validation_samples:]\n",
        "\n",
        "American_train = American[:-nb_validation_samples]\n",
        "American_test = American[-nb_validation_samples:]\n",
        "\n",
        "Asian_train = Asian[:-nb_validation_samples]\n",
        "Asian_test = Asian[-nb_validation_samples:]\n",
        "\n",
        "Mexican_train = Mexican[:-nb_validation_samples]\n",
        "Mexican_test = Mexican[-nb_validation_samples:]\n"
      ],
      "execution_count": 54,
      "outputs": []
    },
    {
      "cell_type": "code",
      "metadata": {
        "colab_type": "code",
        "id": "W7rYliwQv-kK",
        "colab": {
          "base_uri": "https://localhost:8080/",
          "height": 119
        },
        "outputId": "7e0426a4-33c0-479a-cbbc-037de251e6d6"
      },
      "source": [
        "print('Shape of x_train:', x_train.shape)\n",
        "print('Shape of x_test:', x_test.shape)\n",
        "print('Shape of y_train:', y_train.shape)\n",
        "print('Shape of y_train_b:', y_train_b.shape)\n",
        "print('Shape of y_test:', y_test.shape)\n",
        "print('Shape of y_test_b:', y_test_b.shape)"
      ],
      "execution_count": 57,
      "outputs": [
        {
          "output_type": "stream",
          "text": [
            "Shape of x_train: (16000, 500)\n",
            "Shape of x_test: (4000, 500)\n",
            "Shape of y_train: (16000,)\n",
            "Shape of y_train_b: (16000, 2)\n",
            "Shape of y_test: (4000,)\n",
            "Shape of y_test_b: (4000, 2)\n"
          ],
          "name": "stdout"
        }
      ]
    },
    {
      "cell_type": "code",
      "metadata": {
        "colab_type": "code",
        "id": "6gfklfO6v-kN",
        "colab": {
          "base_uri": "https://localhost:8080/",
          "height": 85
        },
        "outputId": "7284f75e-4d0c-44af-e15a-192b313993d3"
      },
      "source": [
        "print(x_train[0:3])\n",
        "print(y_train[0:3])"
      ],
      "execution_count": 58,
      "outputs": [
        {
          "output_type": "stream",
          "text": [
            "[[  15    9   79 ...    0    0    0]\n",
            " [  77   13   28 ...    0    0    0]\n",
            " [7973  101  863 ...    0    0    0]]\n",
            "[0 1 0]\n"
          ],
          "name": "stdout"
        }
      ]
    },
    {
      "cell_type": "code",
      "metadata": {
        "id": "NtzK_FlxBGFg",
        "colab_type": "code",
        "colab": {}
      },
      "source": [
        "dat2t = pd.DataFrame(stars_test, columns = ['stars'])\n",
        "dat3t = pd.DataFrame(business_cnt_test, columns = ['business_cnt'])\n",
        "dat4t = pd.DataFrame(length_test, columns = ['length'])\n",
        "dat5t = pd.DataFrame(American_test, columns = ['American'])\n",
        "dat6t = pd.DataFrame(Asian_test, columns = ['Asian'])\n",
        "dat7t = pd.DataFrame(Mexican_test, columns = ['Mexican'])\n",
        "\n",
        "#x2_test_tmp = pd.concat([dat2t, dat3t, dat4t, dat5t, dat6t, dat7t], axis=1)\n",
        "\n",
        "x2_test_tmp = pd.concat([dat2t, dat3t, dat4t], axis=1)\n",
        "\n",
        "x2_test=(x2_test_tmp-x2_test_tmp.mean())/x2_test_tmp.std()\n",
        "\n",
        "x2_test = np.array(x2_test).reshape(int(VALIDATION_SPLIT * data.shape[0]), x2_test_tmp.shape[1])"
      ],
      "execution_count": 55,
      "outputs": []
    },
    {
      "cell_type": "code",
      "metadata": {
        "id": "ZBhMh5bOBH2H",
        "colab_type": "code",
        "colab": {
          "base_uri": "https://localhost:8080/",
          "height": 221
        },
        "outputId": "c2114861-1abe-4aae-acb1-11e6331e1414"
      },
      "source": [
        "dat2 = pd.DataFrame(stars_train, columns = ['stars'])\n",
        "dat3 = pd.DataFrame(business_cnt_train, columns = ['business_cnt'])\n",
        "dat4 = pd.DataFrame(length_train, columns = ['length'])\n",
        "dat5 = pd.DataFrame(American_train, columns = ['American'])\n",
        "dat6 = pd.DataFrame(Asian_train, columns = ['Asian'])\n",
        "dat7 = pd.DataFrame(Mexican_train, columns = ['Mexican'])\n",
        "\n",
        "#x2_train_tmp = pd.concat([dat2, dat3, dat4, dat5, dat6, dat7], axis=1)\n",
        "x2_train_tmp = pd.concat([dat2, dat3, dat4], axis=1)\n",
        "\n",
        "print(x2_train_tmp.shape)\n",
        "x2_train_tmp.head()"
      ],
      "execution_count": 56,
      "outputs": [
        {
          "output_type": "stream",
          "text": [
            "(16000, 3)\n"
          ],
          "name": "stdout"
        },
        {
          "output_type": "execute_result",
          "data": {
            "text/html": [
              "<div>\n",
              "<style scoped>\n",
              "    .dataframe tbody tr th:only-of-type {\n",
              "        vertical-align: middle;\n",
              "    }\n",
              "\n",
              "    .dataframe tbody tr th {\n",
              "        vertical-align: top;\n",
              "    }\n",
              "\n",
              "    .dataframe thead th {\n",
              "        text-align: right;\n",
              "    }\n",
              "</style>\n",
              "<table border=\"1\" class=\"dataframe\">\n",
              "  <thead>\n",
              "    <tr style=\"text-align: right;\">\n",
              "      <th></th>\n",
              "      <th>stars</th>\n",
              "      <th>business_cnt</th>\n",
              "      <th>length</th>\n",
              "    </tr>\n",
              "  </thead>\n",
              "  <tbody>\n",
              "    <tr>\n",
              "      <th>0</th>\n",
              "      <td>-1.724</td>\n",
              "      <td>132</td>\n",
              "      <td>390</td>\n",
              "    </tr>\n",
              "    <tr>\n",
              "      <th>1</th>\n",
              "      <td>1.276</td>\n",
              "      <td>148</td>\n",
              "      <td>98</td>\n",
              "    </tr>\n",
              "    <tr>\n",
              "      <th>2</th>\n",
              "      <td>1.276</td>\n",
              "      <td>1137</td>\n",
              "      <td>677</td>\n",
              "    </tr>\n",
              "    <tr>\n",
              "      <th>3</th>\n",
              "      <td>-2.724</td>\n",
              "      <td>20</td>\n",
              "      <td>629</td>\n",
              "    </tr>\n",
              "    <tr>\n",
              "      <th>4</th>\n",
              "      <td>-0.724</td>\n",
              "      <td>359</td>\n",
              "      <td>2876</td>\n",
              "    </tr>\n",
              "  </tbody>\n",
              "</table>\n",
              "</div>"
            ],
            "text/plain": [
              "   stars  business_cnt  length\n",
              "0 -1.724           132     390\n",
              "1  1.276           148      98\n",
              "2  1.276          1137     677\n",
              "3 -2.724            20     629\n",
              "4 -0.724           359    2876"
            ]
          },
          "metadata": {
            "tags": []
          },
          "execution_count": 56
        }
      ]
    },
    {
      "cell_type": "code",
      "metadata": {
        "id": "--ONtc5RBdsJ",
        "colab_type": "code",
        "colab": {}
      },
      "source": [
        "x2_train=(x2_train_tmp-x2_train_tmp.mean())/x2_train_tmp.std()\n",
        "x2_train = np.array(x2_train).reshape(int((1-VALIDATION_SPLIT) * data.shape[0]), x2_train_tmp.shape[1])"
      ],
      "execution_count": 59,
      "outputs": []
    },
    {
      "cell_type": "code",
      "metadata": {
        "id": "-3Bly9uaBstW",
        "colab_type": "code",
        "colab": {
          "base_uri": "https://localhost:8080/",
          "height": 51
        },
        "outputId": "fc6e9083-cd51-4354-ae42-cb3d3f470c12"
      },
      "source": [
        "# Explore other features\n",
        "\n",
        "from sklearn.linear_model import LogisticRegression\n",
        "from nltk.classify.scikitlearn import SklearnClassifier\n",
        "from sklearn import metrics\n",
        "clf = LogisticRegression()\n",
        "clf.fit(x2_train, y_train)\n",
        "predicted= clf.predict(x2_test)\n",
        "\n",
        "print(\"Logistic Regression accuracy:\", metrics.accuracy_score(y_test, predicted))\n",
        "\n",
        "print(clf.coef_)"
      ],
      "execution_count": 60,
      "outputs": [
        {
          "output_type": "stream",
          "text": [
            "Logistic Regression accuracy: 0.7015\n",
            "[[ 0.05783924 -0.0604632   0.51425052]]\n"
          ],
          "name": "stdout"
        }
      ]
    },
    {
      "cell_type": "markdown",
      "metadata": {
        "colab_type": "text",
        "id": "nXqatziEv-kP"
      },
      "source": [
        "### Simple LSTM Classifier"
      ]
    },
    {
      "cell_type": "code",
      "metadata": {
        "colab_type": "code",
        "id": "4f_-Ox4Rv-kQ",
        "colab": {
          "base_uri": "https://localhost:8080/",
          "height": 289
        },
        "outputId": "d56557f2-415d-448e-82f2-2f5326f818e5"
      },
      "source": [
        "#Simple LSTM Classifier\n",
        "embedding_units = 200\n",
        "rnn_units = 256\n",
        "#attn_units=128\n",
        "\n",
        "#Simple LSTM Classifier\n",
        "sequence_input = layers.Input(shape=(max_len,),name=\"input_layer\", dtype='int32')\n",
        "embeddings = keras.layers.Embedding(input_dim=vocab_size, output_dim=embedding_units, input_length=max_len,name=\"embedding_layer\")(sequence_input)\n",
        "rnn_output=tf.keras.layers.LSTM(rnn_units,name='LSTM')(embeddings)\n",
        "output = keras.layers.Dense(1, activation='sigmoid',name='output_layer')(rnn_output)\n",
        "simple_model = keras.Model(inputs=sequence_input, outputs=output)\n",
        "\n",
        "simple_model.summary()"
      ],
      "execution_count": 61,
      "outputs": [
        {
          "output_type": "stream",
          "text": [
            "Model: \"model\"\n",
            "_________________________________________________________________\n",
            "Layer (type)                 Output Shape              Param #   \n",
            "=================================================================\n",
            "input_layer (InputLayer)     [(None, 500)]             0         \n",
            "_________________________________________________________________\n",
            "embedding_layer (Embedding)  (None, 500, 200)          2000000   \n",
            "_________________________________________________________________\n",
            "LSTM (LSTM)                  (None, 256)               467968    \n",
            "_________________________________________________________________\n",
            "output_layer (Dense)         (None, 1)                 257       \n",
            "=================================================================\n",
            "Total params: 2,468,225\n",
            "Trainable params: 2,468,225\n",
            "Non-trainable params: 0\n",
            "_________________________________________________________________\n"
          ],
          "name": "stdout"
        }
      ]
    },
    {
      "cell_type": "code",
      "metadata": {
        "colab_type": "code",
        "id": "qar5A0Kev-kT",
        "colab": {}
      },
      "source": [
        "simple_model.compile(optimizer='adam',\n",
        "              loss='binary_crossentropy',\n",
        "              metrics=['accuracy'])\n",
        "\n",
        "early_stopping_callback = keras.callbacks.EarlyStopping(monitor='val_loss',\n",
        "                                                        min_delta=0,\n",
        "                                                        patience=3,\n",
        "                                                        verbose=0, mode='auto')"
      ],
      "execution_count": 62,
      "outputs": []
    },
    {
      "cell_type": "code",
      "metadata": {
        "colab_type": "code",
        "id": "UAMgPmm7v-kV",
        "colab": {
          "base_uri": "https://localhost:8080/",
          "height": 187
        },
        "outputId": "0b50f68e-e9bf-4470-95f9-fe54f2b54db3"
      },
      "source": [
        "history = simple_model.fit(x_train,\n",
        "                    y_train,\n",
        "                    epochs=5,\n",
        "                    batch_size=200,\n",
        "                    validation_split=.3, verbose=1, callbacks=[early_stopping_callback])"
      ],
      "execution_count": 65,
      "outputs": [
        {
          "output_type": "stream",
          "text": [
            "Epoch 1/5\n",
            "56/56 [==============================] - 10s 181ms/step - loss: 0.6251 - accuracy: 0.6820 - val_loss: 0.6435 - val_accuracy: 0.6679\n",
            "Epoch 2/5\n",
            "56/56 [==============================] - 10s 181ms/step - loss: 0.6245 - accuracy: 0.6821 - val_loss: 0.6372 - val_accuracy: 0.6673\n",
            "Epoch 3/5\n",
            "56/56 [==============================] - 10s 180ms/step - loss: 0.6247 - accuracy: 0.6821 - val_loss: 0.6374 - val_accuracy: 0.6683\n",
            "Epoch 4/5\n",
            "56/56 [==============================] - 10s 180ms/step - loss: 0.6247 - accuracy: 0.6819 - val_loss: 0.6372 - val_accuracy: 0.6679\n",
            "Epoch 5/5\n",
            "56/56 [==============================] - 10s 180ms/step - loss: 0.6246 - accuracy: 0.6821 - val_loss: 0.6371 - val_accuracy: 0.6677\n"
          ],
          "name": "stdout"
        }
      ]
    },
    {
      "cell_type": "code",
      "metadata": {
        "colab_type": "code",
        "id": "x0fBdm8Jv-kX",
        "colab": {
          "base_uri": "https://localhost:8080/",
          "height": 34
        },
        "outputId": "1f1ccefc-5b67-4086-eee4-9fe1b7f4395e"
      },
      "source": [
        "# Final evaluation of the model\n",
        "scores = simple_model.evaluate(x_test, y_test, verbose=0)\n",
        "print(\"Accuracy: %.2f%%\" % (scores[1]*100))"
      ],
      "execution_count": 66,
      "outputs": [
        {
          "output_type": "stream",
          "text": [
            "Accuracy: 69.40%\n"
          ],
          "name": "stdout"
        }
      ]
    },
    {
      "cell_type": "markdown",
      "metadata": {
        "colab_type": "text",
        "id": "9TUvX_7ov-kZ"
      },
      "source": [
        "### Bidirectional LSTM Classifier"
      ]
    },
    {
      "cell_type": "code",
      "metadata": {
        "colab_type": "code",
        "id": "GngpS8iMv-kc",
        "colab": {
          "base_uri": "https://localhost:8080/",
          "height": 289
        },
        "outputId": "e257ddb4-5211-4d91-8e70-df227a935f42"
      },
      "source": [
        "from tensorflow.keras.layers import Bidirectional\n",
        "\n",
        "sequence_input = layers.Input(shape=(max_len,),name=\"input_layer\", dtype='int32')\n",
        "embeddings = keras.layers.Embedding(input_dim=vocab_size, output_dim=embedding_units, input_length=max_len,name=\"embedding_layer\")(sequence_input)\n",
        "rnn_output=Bidirectional(tf.keras.layers.LSTM(rnn_units,name='LSTM'))(embeddings)\n",
        "output = keras.layers.Dense(1, activation='sigmoid',name='output_layer')(rnn_output)\n",
        "bidirectional_model = keras.Model(inputs=sequence_input, outputs=output)\n",
        "\n",
        "bidirectional_model.summary()\n",
        "\n",
        "bidirectional_model.compile(optimizer='adam',\n",
        "              loss='binary_crossentropy',\n",
        "              metrics=['accuracy'])\n",
        "\n",
        "early_stopping_callback = keras.callbacks.EarlyStopping(monitor='val_loss',\n",
        "                                                        min_delta=0,\n",
        "                                                        patience=3,\n",
        "                                                        verbose=0, mode='auto')"
      ],
      "execution_count": 79,
      "outputs": [
        {
          "output_type": "stream",
          "text": [
            "Model: \"model_5\"\n",
            "_________________________________________________________________\n",
            "Layer (type)                 Output Shape              Param #   \n",
            "=================================================================\n",
            "input_layer (InputLayer)     [(None, 500)]             0         \n",
            "_________________________________________________________________\n",
            "embedding_layer (Embedding)  (None, 500, 200)          2000000   \n",
            "_________________________________________________________________\n",
            "bidirectional_4 (Bidirection (None, 512)               935936    \n",
            "_________________________________________________________________\n",
            "output_layer (Dense)         (None, 1)                 513       \n",
            "=================================================================\n",
            "Total params: 2,936,449\n",
            "Trainable params: 2,936,449\n",
            "Non-trainable params: 0\n",
            "_________________________________________________________________\n"
          ],
          "name": "stdout"
        }
      ]
    },
    {
      "cell_type": "code",
      "metadata": {
        "colab_type": "code",
        "id": "fu7qgTx6v-kf",
        "colab": {
          "base_uri": "https://localhost:8080/",
          "height": 85
        },
        "outputId": "b9b1e84c-30e8-49e4-eee1-7b153ab4659e"
      },
      "source": [
        "bidirectional_model.fit(x_train, y_train, validation_split=.3,\n",
        "          epochs=2, batch_size=200);"
      ],
      "execution_count": 80,
      "outputs": [
        {
          "output_type": "stream",
          "text": [
            "Epoch 1/2\n",
            "56/56 [==============================] - 19s 337ms/step - loss: 0.6187 - accuracy: 0.6812 - val_loss: 0.6170 - val_accuracy: 0.6785\n",
            "Epoch 2/2\n",
            "56/56 [==============================] - 18s 328ms/step - loss: 0.5761 - accuracy: 0.7104 - val_loss: 0.6182 - val_accuracy: 0.6690\n"
          ],
          "name": "stdout"
        }
      ]
    },
    {
      "cell_type": "code",
      "metadata": {
        "colab_type": "code",
        "id": "Ldb6HhuAGINC",
        "colab": {
          "base_uri": "https://localhost:8080/",
          "height": 34
        },
        "outputId": "e1f241d3-91d5-4ded-ffc3-954a2c4f081b"
      },
      "source": [
        "scores = bidirectional_model.evaluate(x_test, y_test, verbose=0)\n",
        "print(\"Accuracy: %.2f%%\" % (scores[1]*100))"
      ],
      "execution_count": 81,
      "outputs": [
        {
          "output_type": "stream",
          "text": [
            "Accuracy: 70.38%\n"
          ],
          "name": "stdout"
        }
      ]
    },
    {
      "cell_type": "markdown",
      "metadata": {
        "colab_type": "text",
        "id": "METxMGE7v-kh"
      },
      "source": [
        "### LSTM Classifier with attention"
      ]
    },
    {
      "cell_type": "code",
      "metadata": {
        "colab_type": "code",
        "id": "T6xRNOIAv-ki",
        "colab": {}
      },
      "source": [
        "#our attention layer, uses Bahdanau Attention from 2015 paper that's essentially weighted sum, also known as \"additive attention\"\n",
        "class BahdanauAttention(layers.Layer):\n",
        "    def __init__(self, units):\n",
        "        super(BahdanauAttention, self).__init__()\n",
        "        self.W1 = tf.keras.layers.Dense(units)\n",
        "        self.W2 = tf.keras.layers.Dense(units)\n",
        "        self.V = tf.keras.layers.Dense(1)\n",
        "        self._name=\"Attention\"\n",
        " \n",
        "    def call(self, features, hidden):\n",
        "    # hidden state shape == (batch_size, hidden size)\n",
        "    # hidden_with_time_axis shape == (batch_size, 1, hidden size)\n",
        "    # values shape == (batch_size, max_len, hidden size)\n",
        "    # we are doing this to broadcast addition along the time axis to calculate the score\n",
        "        hidden_with_time_axis = tf.expand_dims(hidden, 1)\n",
        "    # score shape == (batch_size, max_length, 1)\n",
        "    # we get 1 at the last axis because we are applying score to self.V\n",
        "    # the shape of the tensor before applying self.V is (batch_size, max_length, units)\n",
        "        score = tf.nn.tanh(self.W1(features) + self.W2(hidden_with_time_axis))\n",
        "        \n",
        "    # attention_weights shape == (batch_size, max_length, 1)\n",
        "        attention_weights = tf.nn.softmax(self.V(score), axis=1)\n",
        "    # context_vector shape after sum == (batch_size, hidden_size)\n",
        "        context_vector = attention_weights * features\n",
        "        context_vector = tf.reduce_sum(context_vector, axis=1)\n",
        " \n",
        "        return context_vector, attention_weights"
      ],
      "execution_count": 82,
      "outputs": []
    },
    {
      "cell_type": "code",
      "metadata": {
        "colab_type": "code",
        "id": "nsOVvLufv-kk",
        "colab": {
          "base_uri": "https://localhost:8080/",
          "height": 323
        },
        "outputId": "10b1ed66-d3b2-4e7a-c653-87899500c8f4"
      },
      "source": [
        "#LSTM Classifier with Attention\n",
        "attn_units=128\n",
        "\n",
        "sequence_input = layers.Input(shape=(max_len,),name=\"input_layer\", dtype='int32')\n",
        "embeddings = keras.layers.Embedding(input_dim=vocab_size, output_dim=embedding_units, input_length=max_len,name=\"embedding_layer\")(sequence_input)\n",
        "lstm_output,hidden_h, hidden_c=tf.keras.layers.LSTM(rnn_units,name='LSTM',return_sequences=True,\n",
        "                                      return_state=True)(embeddings)\n",
        "context_vector, attention_weights = BahdanauAttention(attn_units)(lstm_output, hidden_h)\n",
        "output = keras.layers.Dense(1, activation='sigmoid',name='output_layer')(context_vector)\n",
        "attn_model = keras.Model(inputs=sequence_input, outputs=output)\n",
        " \n",
        "# summarize layers\n",
        "attn_model.summary()"
      ],
      "execution_count": 83,
      "outputs": [
        {
          "output_type": "stream",
          "text": [
            "Model: \"model_6\"\n",
            "_________________________________________________________________\n",
            "Layer (type)                 Output Shape              Param #   \n",
            "=================================================================\n",
            "input_layer (InputLayer)     [(None, 500)]             0         \n",
            "_________________________________________________________________\n",
            "embedding_layer (Embedding)  (None, 500, 200)          2000000   \n",
            "_________________________________________________________________\n",
            "LSTM (LSTM)                  [(None, 500, 256), (None, 467968    \n",
            "_________________________________________________________________\n",
            "Attention (BahdanauAttention ((None, 256), (None, 500, 65921     \n",
            "_________________________________________________________________\n",
            "output_layer (Dense)         (None, 1)                 257       \n",
            "=================================================================\n",
            "Total params: 2,534,146\n",
            "Trainable params: 2,534,146\n",
            "Non-trainable params: 0\n",
            "_________________________________________________________________\n"
          ],
          "name": "stdout"
        }
      ]
    },
    {
      "cell_type": "code",
      "metadata": {
        "colab_type": "code",
        "id": "M__BtuGLv-kn",
        "colab": {}
      },
      "source": [
        "attn_model.compile(optimizer='adam',\n",
        "              loss='binary_crossentropy',\n",
        "              metrics=['accuracy'])\n",
        "\n",
        "early_stopping_callback = keras.callbacks.EarlyStopping(monitor='val_loss',\n",
        "                                                        min_delta=0,\n",
        "                                                        patience=3,\n",
        "                                                        verbose=0, mode='auto')"
      ],
      "execution_count": 84,
      "outputs": []
    },
    {
      "cell_type": "code",
      "metadata": {
        "colab_type": "code",
        "id": "KAG9yZ7lv-kp",
        "colab": {
          "base_uri": "https://localhost:8080/",
          "height": 85
        },
        "outputId": "5aacd4a1-a39a-43d5-f53d-1d11d9cc0666"
      },
      "source": [
        "history = attn_model.fit(x_train,\n",
        "                    y_train,\n",
        "                    epochs=2,\n",
        "                    batch_size=200,\n",
        "                    validation_split=.3, verbose=1, callbacks=[early_stopping_callback])"
      ],
      "execution_count": 85,
      "outputs": [
        {
          "output_type": "stream",
          "text": [
            "Epoch 1/2\n",
            "56/56 [==============================] - 11s 202ms/step - loss: 0.6076 - accuracy: 0.6806 - val_loss: 0.6063 - val_accuracy: 0.6815\n",
            "Epoch 2/2\n",
            "56/56 [==============================] - 11s 198ms/step - loss: 0.5819 - accuracy: 0.6988 - val_loss: 0.6158 - val_accuracy: 0.6777\n"
          ],
          "name": "stdout"
        }
      ]
    },
    {
      "cell_type": "code",
      "metadata": {
        "colab_type": "code",
        "id": "vTRlxhCev-kr",
        "colab": {
          "base_uri": "https://localhost:8080/",
          "height": 51
        },
        "outputId": "73dec8b7-080b-4ef3-9852-60600e582182"
      },
      "source": [
        "result = attn_model.evaluate(x_test, y_test)\n",
        "print(result)"
      ],
      "execution_count": 86,
      "outputs": [
        {
          "output_type": "stream",
          "text": [
            "125/125 [==============================] - 2s 16ms/step - loss: 0.5840 - accuracy: 0.7023\n",
            "[0.5839731693267822, 0.7022500038146973]\n"
          ],
          "name": "stdout"
        }
      ]
    },
    {
      "cell_type": "markdown",
      "metadata": {
        "colab_type": "text",
        "id": "dgkH5WNJv-kt"
      },
      "source": [
        "### LSTM Classifier with attention and GloVe embedding"
      ]
    },
    {
      "cell_type": "code",
      "metadata": {
        "colab_type": "code",
        "id": "6xfUbHSFo75J",
        "colab": {
          "base_uri": "https://localhost:8080/",
          "height": 34
        },
        "outputId": "fb30ae02-9f9c-4f41-b593-8f5b00b1a692"
      },
      "source": [
        "import os\n",
        "import itertools\n",
        "embeddings_index = {}\n",
        "f = open(os.path.join('/contents/My Drive/', 'glove.6B.50d.txt'))\n",
        "for line in f:\n",
        "    values = line.split()\n",
        "    word = values[0]\n",
        "    coefs = np.asarray(values[1:], dtype='float32')\n",
        "    embeddings_index[word] = coefs\n",
        "f.close()\n",
        "\n",
        "print('Found %s word vectors.' % len(embeddings_index))"
      ],
      "execution_count": 87,
      "outputs": [
        {
          "output_type": "stream",
          "text": [
            "Found 400001 word vectors.\n"
          ],
          "name": "stdout"
        }
      ]
    },
    {
      "cell_type": "code",
      "metadata": {
        "colab_type": "code",
        "id": "1BT-Ln2C0GY1",
        "colab": {
          "base_uri": "https://localhost:8080/",
          "height": 34
        },
        "outputId": "b6a8b172-64d1-4675-e004-4f82b14bc209"
      },
      "source": [
        "word_index = tokenizer.word_index\n",
        "print('Found %s unique tokens.' % len(word_index))"
      ],
      "execution_count": 88,
      "outputs": [
        {
          "output_type": "stream",
          "text": [
            "Found 25569 unique tokens.\n"
          ],
          "name": "stdout"
        }
      ]
    },
    {
      "cell_type": "code",
      "metadata": {
        "colab_type": "code",
        "id": "w9riqdJ60IxI",
        "colab": {}
      },
      "source": [
        "vocab_size = len(word_index) + 1\n",
        "\n",
        "embedding_dim = 50\n",
        "\n",
        "\n",
        "# first create a matrix of zeros, this is our embedding matrix\n",
        "embedding_matrix = np.zeros((vocab_size, embedding_dim))\n",
        "\n",
        "# for each word in out tokenizer lets try to find that work in our w2v model\n",
        "for word, i in word_index.items():\n",
        "    embedding_vector = embeddings_index.get(word)\n",
        "    if embedding_vector is not None:\n",
        "        # we found the word - add that words vector to the matrix\n",
        "        embedding_matrix[i] = embedding_vector\n",
        "    else:\n",
        "        # doesn't exist, assign a random vector\n",
        "        embedding_matrix[i] = np.random.randn(embedding_dim)"
      ],
      "execution_count": 90,
      "outputs": []
    },
    {
      "cell_type": "code",
      "metadata": {
        "colab_type": "code",
        "id": "Gljs7Upx1p6u",
        "colab": {
          "base_uri": "https://localhost:8080/",
          "height": 323
        },
        "outputId": "d0f965e7-9a45-4b02-be5f-a3382a80fee3"
      },
      "source": [
        "attn_units=128\n",
        "sequence_input = layers.Input(shape=(max_len,),name=\"input_layer\", dtype='int32')\n",
        "#put in glove embeddings in weights\n",
        "embeddings = keras.layers.Embedding(input_dim=vocab_size, output_dim=embedding_dim, input_length=max_len, weights=[embedding_matrix], name=\"embedding_layer\", trainable = 'false')(sequence_input)\n",
        "lstm_output,hidden_h, hidden_c=tf.keras.layers.LSTM(rnn_units,name='LSTM',return_sequences=True,\n",
        "                                      return_state=True)(embeddings)\n",
        "context_vector, attention_weights = BahdanauAttention(attn_units)(lstm_output, hidden_h)\n",
        "output = keras.layers.Dense(1, activation='sigmoid',name='output_layer')(context_vector)\n",
        "glove_attn_model = keras.Model(inputs=sequence_input, outputs=output)\n",
        " \n",
        "# summarize layers\n",
        "glove_attn_model.summary()"
      ],
      "execution_count": 95,
      "outputs": [
        {
          "output_type": "stream",
          "text": [
            "Model: \"model_8\"\n",
            "_________________________________________________________________\n",
            "Layer (type)                 Output Shape              Param #   \n",
            "=================================================================\n",
            "input_layer (InputLayer)     [(None, 500)]             0         \n",
            "_________________________________________________________________\n",
            "embedding_layer (Embedding)  (None, 500, 50)           1278500   \n",
            "_________________________________________________________________\n",
            "LSTM (LSTM)                  [(None, 500, 256), (None, 314368    \n",
            "_________________________________________________________________\n",
            "Attention (BahdanauAttention ((None, 256), (None, 500, 65921     \n",
            "_________________________________________________________________\n",
            "output_layer (Dense)         (None, 1)                 257       \n",
            "=================================================================\n",
            "Total params: 1,659,046\n",
            "Trainable params: 1,659,046\n",
            "Non-trainable params: 0\n",
            "_________________________________________________________________\n"
          ],
          "name": "stdout"
        }
      ]
    },
    {
      "cell_type": "code",
      "metadata": {
        "colab_type": "code",
        "id": "uYdzhcO4FHYv",
        "colab": {}
      },
      "source": [
        "glove_attn_model.compile(optimizer='adam',\n",
        "              loss='binary_crossentropy',\n",
        "              metrics=['accuracy'])\n",
        "\n",
        "early_stopping_callback = keras.callbacks.EarlyStopping(monitor='val_loss',\n",
        "                                                        min_delta=0,\n",
        "                                                        patience=3,\n",
        "                                                        verbose=0, mode='auto')"
      ],
      "execution_count": 96,
      "outputs": []
    },
    {
      "cell_type": "code",
      "metadata": {
        "colab_type": "code",
        "id": "O_tR9j84GDMD",
        "colab": {
          "base_uri": "https://localhost:8080/",
          "height": 85
        },
        "outputId": "caa7ec03-1ffa-45cd-98a0-0dcbeea984a3"
      },
      "source": [
        "history = glove_attn_model.fit(x_train,\n",
        "                    y_train,\n",
        "                    epochs=2,\n",
        "                    batch_size=200,\n",
        "                    validation_split=.3, verbose=1, callbacks=[early_stopping_callback])"
      ],
      "execution_count": 97,
      "outputs": [
        {
          "output_type": "stream",
          "text": [
            "Epoch 1/2\n",
            "56/56 [==============================] - 8s 150ms/step - loss: 0.6189 - accuracy: 0.6777 - val_loss: 0.6259 - val_accuracy: 0.6771\n",
            "Epoch 2/2\n",
            "56/56 [==============================] - 8s 147ms/step - loss: 0.5976 - accuracy: 0.6913 - val_loss: 0.6074 - val_accuracy: 0.6865\n"
          ],
          "name": "stdout"
        }
      ]
    },
    {
      "cell_type": "code",
      "metadata": {
        "colab_type": "code",
        "id": "2AZTY0XXGFKr",
        "colab": {
          "base_uri": "https://localhost:8080/",
          "height": 51
        },
        "outputId": "7f713f0d-a597-4954-dbb9-7f0d2759d6a3"
      },
      "source": [
        "result = glove_attn_model.evaluate(x_test, y_test)\n",
        "print(result)"
      ],
      "execution_count": 98,
      "outputs": [
        {
          "output_type": "stream",
          "text": [
            "125/125 [==============================] - 2s 14ms/step - loss: 0.5826 - accuracy: 0.7075\n",
            "[0.5825849175453186, 0.7074999809265137]\n"
          ],
          "name": "stdout"
        }
      ]
    },
    {
      "cell_type": "markdown",
      "metadata": {
        "id": "3fSTHzwvFld8",
        "colab_type": "text"
      },
      "source": [
        "### Additional Features"
      ]
    },
    {
      "cell_type": "code",
      "metadata": {
        "id": "N_jbSEe3Fo4B",
        "colab_type": "code",
        "colab": {
          "base_uri": "https://localhost:8080/",
          "height": 476
        },
        "outputId": "1744b044-4ac0-4098-e842-3f276a229014"
      },
      "source": [
        "attn_units = 128\n",
        "#embedding_units = 200\n",
        "rnn_units = 256\n",
        "\n",
        "#LSTM Classifier with Attention\n",
        "sequence_input = layers.Input(shape=(max_len,),name=\"input_layer\", dtype='int32')\n",
        "embeddings = keras.layers.Embedding(input_dim=vocab_size, output_dim=embedding_dim, input_length=max_len, weights=[embedding_matrix], name=\"embedding_layer\", trainable = 'false')(sequence_input)\n",
        "lstm_output,hidden_h, hidden_c=(tf.keras.layers.LSTM(rnn_units,name='LSTM',return_sequences=True,\n",
        "                                      return_state=True))(embeddings)\n",
        "context_vector, attention_weights = BahdanauAttention(attn_units)(lstm_output, hidden_h)\n",
        "\n",
        "other_input = layers.Input(shape=(x2_train.shape[1],),name=\"input_other\", dtype='float32')\n",
        "\n",
        "concat_output = tf.keras.layers.Concatenate()([context_vector, other_input])\n",
        "\n",
        "Dense1 = keras.layers.Dense(100, activation='relu',name='dense1')(concat_output)\n",
        "Dense2 = keras.layers.Dense(30, activation='relu',name='dense2')(Dense1)\n",
        "output = keras.layers.Dense(1, activation='sigmoid',name='output_layer')(Dense2)\n",
        "\n",
        "attn_model_f = keras.Model(inputs=[sequence_input, other_input], outputs=output)\n",
        " \n",
        "# summarize layers\n",
        "attn_model_f.summary()\n",
        "\n",
        "attn_model_f.compile(optimizer='adam',\n",
        "              loss='binary_crossentropy',\n",
        "              metrics=['accuracy'])"
      ],
      "execution_count": 127,
      "outputs": [
        {
          "output_type": "stream",
          "text": [
            "Model: \"model_16\"\n",
            "__________________________________________________________________________________________________\n",
            "Layer (type)                    Output Shape         Param #     Connected to                     \n",
            "==================================================================================================\n",
            "input_layer (InputLayer)        [(None, 500)]        0                                            \n",
            "__________________________________________________________________________________________________\n",
            "embedding_layer (Embedding)     (None, 500, 50)      1278500     input_layer[0][0]                \n",
            "__________________________________________________________________________________________________\n",
            "LSTM (LSTM)                     [(None, 500, 256), ( 314368      embedding_layer[0][0]            \n",
            "__________________________________________________________________________________________________\n",
            "Attention (BahdanauAttention)   ((None, 256), (None, 65921       LSTM[0][0]                       \n",
            "__________________________________________________________________________________________________\n",
            "input_other (InputLayer)        [(None, 3)]          0                                            \n",
            "__________________________________________________________________________________________________\n",
            "concatenate_7 (Concatenate)     (None, 259)          0           Attention[0][0]                  \n",
            "                                                                 input_other[0][0]                \n",
            "__________________________________________________________________________________________________\n",
            "dense1 (Dense)                  (None, 100)          26000       concatenate_7[0][0]              \n",
            "__________________________________________________________________________________________________\n",
            "dense2 (Dense)                  (None, 30)           3030        dense1[0][0]                     \n",
            "__________________________________________________________________________________________________\n",
            "output_layer (Dense)            (None, 1)            31          dense2[0][0]                     \n",
            "==================================================================================================\n",
            "Total params: 1,687,850\n",
            "Trainable params: 1,687,850\n",
            "Non-trainable params: 0\n",
            "__________________________________________________________________________________________________\n"
          ],
          "name": "stdout"
        }
      ]
    },
    {
      "cell_type": "code",
      "metadata": {
        "id": "hJNUIFf6GWB3",
        "colab_type": "code",
        "colab": {
          "base_uri": "https://localhost:8080/",
          "height": 441
        },
        "outputId": "6ec90d35-8ec2-4b1b-81c5-801d5d852fe0"
      },
      "source": [
        "tf.keras.utils.plot_model(attn_model_f, show_shapes=True, dpi=48)"
      ],
      "execution_count": 128,
      "outputs": [
        {
          "output_type": "execute_result",
          "data": {
            "image/png": "[encoded data removed]",
            "text/plain": [
              "<IPython.core.display.Image object>"
            ]
          },
          "metadata": {
            "tags": []
          },
          "execution_count": 128
        }
      ]
    },
    {
      "cell_type": "code",
      "metadata": {
        "id": "FVdFXMmRGj5C",
        "colab_type": "code",
        "colab": {}
      },
      "source": [
        "attn_model_f.compile(optimizer='adam',\n",
        "              loss='binary_crossentropy',\n",
        "              metrics=['accuracy'])\n",
        "\n",
        "early_stopping_callback = keras.callbacks.EarlyStopping(monitor='val_loss',\n",
        "                                                        min_delta=0,\n",
        "                                                        patience=3,\n",
        "                                                        verbose=0, mode='auto')"
      ],
      "execution_count": 129,
      "outputs": []
    },
    {
      "cell_type": "code",
      "metadata": {
        "id": "Ylgr5e9WGtri",
        "colab_type": "code",
        "colab": {
          "base_uri": "https://localhost:8080/",
          "height": 136
        },
        "outputId": "c326378d-8717-4412-8cbd-16f2e726d57c"
      },
      "source": [
        "attn_model_f.fit([x_train, x2_train],\n",
        "                    y_train,\n",
        "                    epochs=3,\n",
        "                    batch_size=200,\n",
        "                    validation_split=.3, verbose=1, callbacks=[early_stopping_callback])"
      ],
      "execution_count": 130,
      "outputs": [
        {
          "output_type": "stream",
          "text": [
            "Epoch 1/3\n",
            "56/56 [==============================] - 8s 152ms/step - loss: 0.6094 - accuracy: 0.6871 - val_loss: 0.6076 - val_accuracy: 0.6796\n",
            "Epoch 2/3\n",
            "56/56 [==============================] - 8s 146ms/step - loss: 0.5948 - accuracy: 0.6919 - val_loss: 0.6054 - val_accuracy: 0.6840\n",
            "Epoch 3/3\n",
            "56/56 [==============================] - 8s 147ms/step - loss: 0.5897 - accuracy: 0.6970 - val_loss: 0.6036 - val_accuracy: 0.6873\n"
          ],
          "name": "stdout"
        },
        {
          "output_type": "execute_result",
          "data": {
            "text/plain": [
              "<tensorflow.python.keras.callbacks.History at 0x7fd8723cf5c0>"
            ]
          },
          "metadata": {
            "tags": []
          },
          "execution_count": 130
        }
      ]
    },
    {
      "cell_type": "code",
      "metadata": {
        "id": "F5xQqa7AG4qH",
        "colab_type": "code",
        "colab": {
          "base_uri": "https://localhost:8080/",
          "height": 51
        },
        "outputId": "c9b144a4-3f93-4b32-ec3c-92a418a9e787"
      },
      "source": [
        "attn_model_f.evaluate([x_test, x2_test], y_test)"
      ],
      "execution_count": 131,
      "outputs": [
        {
          "output_type": "stream",
          "text": [
            "125/125 [==============================] - 2s 14ms/step - loss: 0.5744 - accuracy: 0.7097\n"
          ],
          "name": "stdout"
        },
        {
          "output_type": "execute_result",
          "data": {
            "text/plain": [
              "[0.5743531584739685, 0.7097499966621399]"
            ]
          },
          "metadata": {
            "tags": []
          },
          "execution_count": 131
        }
      ]
    }
  ]
}