{
 "cells": [
  {
   "cell_type": "code",
   "execution_count": 6,
   "metadata": {},
   "outputs": [],
   "source": [
    "from keras.models import Sequential\n",
    "from keras.layers import Dense, Dropout, Activation, Flatten\n",
    "from keras.layers import Convolution2D, MaxPooling2D\n",
    "from keras.utils import np_utils"
   ]
  },
  {
   "cell_type": "code",
   "execution_count": 7,
   "metadata": {},
   "outputs": [
    {
     "data": {
      "text/html": [
       "<div>\n",
       "<style scoped>\n",
       "    .dataframe tbody tr th:only-of-type {\n",
       "        vertical-align: middle;\n",
       "    }\n",
       "\n",
       "    .dataframe tbody tr th {\n",
       "        vertical-align: top;\n",
       "    }\n",
       "\n",
       "    .dataframe thead th {\n",
       "        text-align: right;\n",
       "    }\n",
       "</style>\n",
       "<table border=\"1\" class=\"dataframe\">\n",
       "  <thead>\n",
       "    <tr style=\"text-align: right;\">\n",
       "      <th></th>\n",
       "      <th>business_id</th>\n",
       "      <th>state</th>\n",
       "      <th>city</th>\n",
       "      <th>categories</th>\n",
       "      <th>review_count</th>\n",
       "      <th>category</th>\n",
       "      <th>cuisine</th>\n",
       "      <th>review_id</th>\n",
       "      <th>user_id</th>\n",
       "      <th>stars</th>\n",
       "      <th>useful</th>\n",
       "      <th>funny</th>\n",
       "      <th>cool</th>\n",
       "      <th>text</th>\n",
       "      <th>date</th>\n",
       "      <th>labels</th>\n",
       "    </tr>\n",
       "  </thead>\n",
       "  <tbody>\n",
       "    <tr>\n",
       "      <th>0</th>\n",
       "      <td>Ga2Bt7xfqoggTypWD5VpoQ</td>\n",
       "      <td>AZ</td>\n",
       "      <td>Tempe</td>\n",
       "      <td>Mexican, Restaurants</td>\n",
       "      <td>9</td>\n",
       "      <td>Mexican</td>\n",
       "      <td>Mexican</td>\n",
       "      <td>gRmiezddJOJpE2BrtvEGEQ</td>\n",
       "      <td>MGr8SVevx0kOoNUayx4STw</td>\n",
       "      <td>4.0</td>\n",
       "      <td>0</td>\n",
       "      <td>0</td>\n",
       "      <td>0</td>\n",
       "      <td>Great basics. Beans are made right. Tortillas ...</td>\n",
       "      <td>2013-03-24 05:34:59</td>\n",
       "      <td>0</td>\n",
       "    </tr>\n",
       "    <tr>\n",
       "      <th>1</th>\n",
       "      <td>Ga2Bt7xfqoggTypWD5VpoQ</td>\n",
       "      <td>AZ</td>\n",
       "      <td>Tempe</td>\n",
       "      <td>Mexican, Restaurants</td>\n",
       "      <td>9</td>\n",
       "      <td>Mexican</td>\n",
       "      <td>Mexican</td>\n",
       "      <td>CZEhIaxYGjOjGsqEQ31g_Q</td>\n",
       "      <td>mUsOaUUWRHN9eWUd3tjwag</td>\n",
       "      <td>3.0</td>\n",
       "      <td>0</td>\n",
       "      <td>1</td>\n",
       "      <td>0</td>\n",
       "      <td>Automatic star awarded for having a salsa bar ...</td>\n",
       "      <td>2010-12-03 21:16:34</td>\n",
       "      <td>0</td>\n",
       "    </tr>\n",
       "    <tr>\n",
       "      <th>2</th>\n",
       "      <td>Ga2Bt7xfqoggTypWD5VpoQ</td>\n",
       "      <td>AZ</td>\n",
       "      <td>Tempe</td>\n",
       "      <td>Mexican, Restaurants</td>\n",
       "      <td>9</td>\n",
       "      <td>Mexican</td>\n",
       "      <td>Mexican</td>\n",
       "      <td>KHu4YThiCE48L1azPqiPDA</td>\n",
       "      <td>DIaW2YAZ5-io7UGKnwF9tA</td>\n",
       "      <td>5.0</td>\n",
       "      <td>0</td>\n",
       "      <td>0</td>\n",
       "      <td>0</td>\n",
       "      <td>Got the #7 Enchilada and Burrito great food an...</td>\n",
       "      <td>2014-10-01 15:18:13</td>\n",
       "      <td>0</td>\n",
       "    </tr>\n",
       "    <tr>\n",
       "      <th>3</th>\n",
       "      <td>Ga2Bt7xfqoggTypWD5VpoQ</td>\n",
       "      <td>AZ</td>\n",
       "      <td>Tempe</td>\n",
       "      <td>Mexican, Restaurants</td>\n",
       "      <td>9</td>\n",
       "      <td>Mexican</td>\n",
       "      <td>Mexican</td>\n",
       "      <td>Anvmp37r5oeB2NmipFlr0Q</td>\n",
       "      <td>-swTLI5xzaCLxhf5ZqGfsg</td>\n",
       "      <td>4.0</td>\n",
       "      <td>0</td>\n",
       "      <td>0</td>\n",
       "      <td>0</td>\n",
       "      <td>good food for the price. I like their new loca...</td>\n",
       "      <td>2013-02-06 01:06:04</td>\n",
       "      <td>0</td>\n",
       "    </tr>\n",
       "    <tr>\n",
       "      <th>4</th>\n",
       "      <td>Ga2Bt7xfqoggTypWD5VpoQ</td>\n",
       "      <td>AZ</td>\n",
       "      <td>Tempe</td>\n",
       "      <td>Mexican, Restaurants</td>\n",
       "      <td>9</td>\n",
       "      <td>Mexican</td>\n",
       "      <td>Mexican</td>\n",
       "      <td>9H3Zk2jVGP60ccdE0Eouag</td>\n",
       "      <td>XObVh8__kgp1imtsNyLezQ</td>\n",
       "      <td>4.0</td>\n",
       "      <td>1</td>\n",
       "      <td>0</td>\n",
       "      <td>0</td>\n",
       "      <td>One of the better breakfast burritos I have ha...</td>\n",
       "      <td>2011-05-12 16:21:40</td>\n",
       "      <td>1</td>\n",
       "    </tr>\n",
       "  </tbody>\n",
       "</table>\n",
       "</div>"
      ],
      "text/plain": [
       "              business_id state   city            categories  review_count  \\\n",
       "0  Ga2Bt7xfqoggTypWD5VpoQ    AZ  Tempe  Mexican, Restaurants             9   \n",
       "1  Ga2Bt7xfqoggTypWD5VpoQ    AZ  Tempe  Mexican, Restaurants             9   \n",
       "2  Ga2Bt7xfqoggTypWD5VpoQ    AZ  Tempe  Mexican, Restaurants             9   \n",
       "3  Ga2Bt7xfqoggTypWD5VpoQ    AZ  Tempe  Mexican, Restaurants             9   \n",
       "4  Ga2Bt7xfqoggTypWD5VpoQ    AZ  Tempe  Mexican, Restaurants             9   \n",
       "\n",
       "  category  cuisine               review_id                 user_id  stars  \\\n",
       "0  Mexican  Mexican  gRmiezddJOJpE2BrtvEGEQ  MGr8SVevx0kOoNUayx4STw    4.0   \n",
       "1  Mexican  Mexican  CZEhIaxYGjOjGsqEQ31g_Q  mUsOaUUWRHN9eWUd3tjwag    3.0   \n",
       "2  Mexican  Mexican  KHu4YThiCE48L1azPqiPDA  DIaW2YAZ5-io7UGKnwF9tA    5.0   \n",
       "3  Mexican  Mexican  Anvmp37r5oeB2NmipFlr0Q  -swTLI5xzaCLxhf5ZqGfsg    4.0   \n",
       "4  Mexican  Mexican  9H3Zk2jVGP60ccdE0Eouag  XObVh8__kgp1imtsNyLezQ    4.0   \n",
       "\n",
       "   useful  funny  cool                                               text  \\\n",
       "0       0      0     0  Great basics. Beans are made right. Tortillas ...   \n",
       "1       0      1     0  Automatic star awarded for having a salsa bar ...   \n",
       "2       0      0     0  Got the #7 Enchilada and Burrito great food an...   \n",
       "3       0      0     0  good food for the price. I like their new loca...   \n",
       "4       1      0     0  One of the better breakfast burritos I have ha...   \n",
       "\n",
       "                  date  labels  \n",
       "0  2013-03-24 05:34:59       0  \n",
       "1  2010-12-03 21:16:34       0  \n",
       "2  2014-10-01 15:18:13       0  \n",
       "3  2013-02-06 01:06:04       0  \n",
       "4  2011-05-12 16:21:40       1  "
      ]
     },
     "execution_count": 7,
     "metadata": {},
     "output_type": "execute_result"
    }
   ],
   "source": [
    "import numpy as np\n",
    "import pandas as pd\n",
    "import json\n",
    "import matplotlib as plt\n",
    "\n",
    "yelp_review = \"./review_data.csv\"\n",
    "reviews= pd.read_csv(yelp_review)\n",
    "reviews[\"labels\"]= reviews[\"useful\"].apply(lambda x: 1 if x > 0  else 0)\n",
    "reviews.head()"
   ]
  },
  {
   "cell_type": "code",
   "execution_count": 8,
   "metadata": {},
   "outputs": [
    {
     "data": {
      "text/plain": [
       "Index(['business_id', 'state', 'city', 'categories', 'review_count',\n",
       "       'category', 'cuisine', 'review_id', 'user_id', 'stars', 'useful',\n",
       "       'funny', 'cool', 'text', 'date', 'labels'],\n",
       "      dtype='object')"
      ]
     },
     "execution_count": 8,
     "metadata": {},
     "output_type": "execute_result"
    }
   ],
   "source": [
    "reviews.columns"
   ]
  },
  {
   "cell_type": "code",
   "execution_count": 9,
   "metadata": {},
   "outputs": [
    {
     "data": {
      "text/plain": [
       "business_id     False\n",
       "state           False\n",
       "city            False\n",
       "categories      False\n",
       "review_count    False\n",
       "category        False\n",
       "cuisine         False\n",
       "review_id       False\n",
       "user_id         False\n",
       "stars           False\n",
       "useful          False\n",
       "funny           False\n",
       "cool            False\n",
       "text            False\n",
       "date            False\n",
       "labels          False\n",
       "dtype: bool"
      ]
     },
     "execution_count": 9,
     "metadata": {},
     "output_type": "execute_result"
    }
   ],
   "source": [
    "#check for null\n",
    "reviews.isnull().any()"
   ]
  },
  {
   "cell_type": "code",
   "execution_count": 10,
   "metadata": {},
   "outputs": [
    {
     "ename": "AttributeError",
     "evalue": "module 'matplotlib' has no attribute 'figure'",
     "output_type": "error",
     "traceback": [
      "\u001b[0;31m---------------------------------------------------------------------------\u001b[0m",
      "\u001b[0;31mAttributeError\u001b[0m                            Traceback (most recent call last)",
      "\u001b[0;32m<ipython-input-10-763608d008e3>\u001b[0m in \u001b[0;36m<module>\u001b[0;34m\u001b[0m\n\u001b[1;32m      2\u001b[0m \u001b[0my\u001b[0m \u001b[0;34m=\u001b[0m \u001b[0mx\u001b[0m\u001b[0;34m.\u001b[0m\u001b[0msort_index\u001b[0m\u001b[0;34m(\u001b[0m\u001b[0;34m)\u001b[0m\u001b[0;34m\u001b[0m\u001b[0;34m\u001b[0m\u001b[0m\n\u001b[1;32m      3\u001b[0m \u001b[0;34m\u001b[0m\u001b[0m\n\u001b[0;32m----> 4\u001b[0;31m \u001b[0mplt\u001b[0m\u001b[0;34m.\u001b[0m\u001b[0mfigure\u001b[0m\u001b[0;34m(\u001b[0m\u001b[0mfigsize\u001b[0m\u001b[0;34m=\u001b[0m\u001b[0;34m(\u001b[0m\u001b[0;36m8\u001b[0m\u001b[0;34m,\u001b[0m\u001b[0;36m4\u001b[0m\u001b[0;34m)\u001b[0m\u001b[0;34m)\u001b[0m\u001b[0;34m\u001b[0m\u001b[0;34m\u001b[0m\u001b[0m\n\u001b[0m\u001b[1;32m      5\u001b[0m \u001b[0max\u001b[0m \u001b[0;34m=\u001b[0m \u001b[0msns\u001b[0m\u001b[0;34m.\u001b[0m\u001b[0mbarplot\u001b[0m\u001b[0;34m(\u001b[0m\u001b[0my\u001b[0m\u001b[0;34m.\u001b[0m\u001b[0mindex\u001b[0m\u001b[0;34m,\u001b[0m \u001b[0mx\u001b[0m\u001b[0;34m.\u001b[0m\u001b[0mvalues\u001b[0m\u001b[0;34m,\u001b[0m \u001b[0malpha\u001b[0m \u001b[0;34m=\u001b[0m \u001b[0;36m0.8\u001b[0m\u001b[0;34m)\u001b[0m\u001b[0;34m\u001b[0m\u001b[0;34m\u001b[0m\u001b[0m\n",
      "\u001b[0;31mAttributeError\u001b[0m: module 'matplotlib' has no attribute 'figure'"
     ]
    }
   ],
   "source": [
    "x = reviews['useful'].value_counts()\n",
    "y = x.sort_index()\n",
    "\n",
    "plt.figure(figsize=(8,4))\n",
    "ax = sns.barplot(y.index, x.values, alpha = 0.8)"
   ]
  },
  {
   "cell_type": "code",
   "execution_count": null,
   "metadata": {},
   "outputs": [],
   "source": [
    "#binary classification\n",
    "reviews=reviews[reviews.stars!=3]\n",
    "\n",
    "reviews[\"labels\"]= reviews[\"stars\"].apply(lambda x: 1 if x > 3  else 0)\n",
    "reviews=reviews.drop(\"stars\",axis=1)\n",
    "\n",
    "reviews.head()\n",
    "\n",
    "# reviews[\"labels\"]= reviews[\"useful\"].apply(lambda x: 1 if x > 0  else 0)\n",
    "\n",
    "# reviews['labels'].value_counts() #what should be our cutoff point? what is \"useful\"?\n",
    "\n",
    "# reviews.head()"
   ]
  },
  {
   "cell_type": "code",
   "execution_count": null,
   "metadata": {},
   "outputs": [],
   "source": [
    "texts = reviews[\"text\"].values\n",
    "labels = reviews[\"labels\"].values\n"
   ]
  },
  {
   "cell_type": "code",
   "execution_count": null,
   "metadata": {},
   "outputs": [],
   "source": [
    "from sklearn.feature_extraction.text import CountVectorizer\n",
    "from nltk.tokenize import RegexpTokenizer\n",
    "nltk.download ('stopwords')\n",
    "nltk.download ('punkt')\n",
    "#tokenizer to remove unwanted elements from out data like symbols and numbers\n",
    "token = RegexpTokenizer(r'[a-zA-Z0-9]+')\n",
    "cv = CountVectorizer(lowercase=True,stop_words='english',ngram_range = (1,1),tokenizer = token.tokenize)\n",
    "text_counts= cv.fit_transform(reviews[\"text\"])\n"
   ]
  },
  {
   "cell_type": "code",
   "execution_count": null,
   "metadata": {},
   "outputs": [],
   "source": [
    "#split train and test\n",
    "from sklearn.model_selection import train_test_split\n",
    "X_train, X_test, y_train, y_test = train_test_split(\n",
    "    text_counts, reviews[\"labels\"], test_size=0.2, random_state=1)"
   ]
  },
  {
   "cell_type": "code",
   "execution_count": null,
   "metadata": {},
   "outputs": [],
   "source": [
    "#fit model and perform prediction\n",
    "from sklearn.naive_bayes import MultinomialNB\n",
    "from sklearn import metrics\n",
    "# Model Generation Using Multinomial Naive Bayes\n",
    "clf = MultinomialNB().fit(X_train, y_train)\n",
    "predicted= clf.predict(X_test)\n",
    "print(\"MultinomialNB Accuracy:\",metrics.accuracy_score(y_test, predicted))"
   ]
  },
  {
   "cell_type": "code",
   "execution_count": null,
   "metadata": {},
   "outputs": [],
   "source": [
    "#Feature generation TF-IDF\n",
    "from sklearn.feature_extraction.text import TfidfVectorizer\n",
    "tf=TfidfVectorizer()\n",
    "text_tf= tf.fit_transform(reviews[\"text\"])\n",
    "\n",
    "#split and train TF-IDF\n",
    "from sklearn.model_selection import train_test_split\n",
    "X_train, X_test, y_train, y_test = train_test_split(\n",
    "    text_tf, reviews[\"labels\"], test_size=0.2, random_state=123)"
   ]
  },
  {
   "cell_type": "code",
   "execution_count": null,
   "metadata": {},
   "outputs": [],
   "source": [
    "from sklearn.naive_bayes import MultinomialNB\n",
    "from sklearn import metrics\n",
    "# Model Generation Using Multinomial Naive Bayes\n",
    "clf = MultinomialNB().fit(X_train, y_train)\n",
    "predicted= clf.predict(X_test)\n",
    "print(\"MultinomialNB Accuracy:\",metrics.accuracy_score(y_test, predicted))"
   ]
  }
 ],
 "metadata": {
  "kernelspec": {
   "display_name": "Python 3",
   "language": "python",
   "name": "python3"
  },
  "language_info": {
   "codemirror_mode": {
    "name": "ipython",
    "version": 3
   },
   "file_extension": ".py",
   "mimetype": "text/x-python",
   "name": "python",
   "nbconvert_exporter": "python",
   "pygments_lexer": "ipython3",
   "version": "3.7.6"
  }
 },
 "nbformat": 4,
 "nbformat_minor": 4
}
